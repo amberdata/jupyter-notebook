{
 "cells": [
  {
   "cell_type": "code",
   "execution_count": null,
   "id": "776aa75e-7e5c-47dc-95bf-1e96b66381e9",
   "metadata": {},
   "outputs": [],
   "source": [
    "import requests, json\n",
    "from collections import OrderedDict\n",
    "from operator import getitem\n",
    "import time\n",
    "import pandas as pd\n",
    "from web3 import Web3\n",
    "import warnings\n",
    "import struct\n",
    "import binascii"
   ]
  },
  {
   "cell_type": "code",
   "execution_count": null,
   "id": "483a5977-03d2-478d-8076-e3f6316b73d0",
   "metadata": {},
   "outputs": [],
   "source": [
    "api_key = 'AMBERDATA_API_KEY'"
   ]
  },
  {
   "cell_type": "code",
   "execution_count": null,
   "id": "274bb655-b99a-4323-947e-3103ced13172",
   "metadata": {},
   "outputs": [],
   "source": [
    "headers = {\n",
    "    \"accept\": \"application/json\",\n",
    "    \"x-amberdata-blockchain-id\": \"polygon-mainnet\",\n",
    "    \"x-api-key\": f'{api_key}'\n",
    "}"
   ]
  },
  {
   "cell_type": "markdown",
   "id": "f75396b7-3422-47c9-9e5c-011b857fda6c",
   "metadata": {},
   "source": [
    "## Building A Collection of Available Pools"
   ]
  },
  {
   "cell_type": "code",
   "execution_count": null,
   "id": "f396e6c4-3983-4cb2-97cf-5a520973f587",
   "metadata": {},
   "outputs": [],
   "source": [
    "#example transaction: https://polygonscan.com/tx/0x534899b65f989fd61ef1299cf123b6a906150409adf55e51423f39082c4c5e24.\n",
    "#Here we want to gather a collection of all uniswap V2 pool creations. This will give us the population of pools traders can trade within. \n",
    "contract_address = Web3.to_checksum_address('0x5757371414417b8c6caad45baef941abc7d3ab32') #Uniswap V2 Factory\n",
    "contract_event_signature = '0x0d3648bd0f6ba80134a33ba9275ac585d9d315f0ad8355cddefde31afa28d0e9' #Pair Created Event"
   ]
  },
  {
   "cell_type": "code",
   "execution_count": null,
   "id": "4b1e8401-3404-4258-91a9-85431909a652",
   "metadata": {},
   "outputs": [],
   "source": [
    "#Empyt dict for storing returned data. \n",
    "collection = {}\n",
    "id = 0\n",
    "#For Pagination\n",
    "pagination = 0\n",
    "total_pages = 1\n",
    "paginationIncrement = 1"
   ]
  },
  {
   "cell_type": "code",
   "execution_count": null,
   "id": "070e3101-99aa-44d2-9bab-469a182c302c",
   "metadata": {},
   "outputs": [],
   "source": [
    "while pagination <= total_pages:\n",
    "    #Fetch Contract Events Logs. \n",
    "    url = f'https://web3api.io/api/v2/addresses/{contract_address}/logs?topic={contract_event_signature}&page={pagination}&size=100'\n",
    "    response = requests.request(\"GET\", url, headers=headers)\n",
    "    while response.status_code == 429:\n",
    "        time.sleep(1)\n",
    "        response = requests.request(\"GET\", url, params=querystring)\n",
    "    batch_list = json.loads(response.text)[\"payload\"]['records']\n",
    "    for item in batch_list:\n",
    "            try: \n",
    "                id +=1\n",
    "                collection[id] = {}\n",
    "                collection[id]['timestamp'] = item[\"timestamp\"]\n",
    "                collection[id]['transaction_hash'] = item[\"transactionHash\"]\n",
    "                collection[id]['block_number'] = item['blockNumber']\n",
    "                collection[id]['token0'] = '0x'+item['topics'][1][26:]\n",
    "                collection[id]['token1'] = '0x'+item['topics'][2][26:]\n",
    "                collection[id]['pair_address'] = '0x'+item['data'][0][24:]\n",
    "                collection[id]['event_name'] = \"pair_created\"\n",
    "            except NameError:\n",
    "                print(NameError)\n",
    "            except:\n",
    "                print(\"No Data\")\n",
    "    print('Finished page',pagination)\n",
    "    pagination += paginationIncrement"
   ]
  },
  {
   "cell_type": "code",
   "execution_count": null,
   "id": "89ae0880-7e93-4d6f-8afa-4cd1c9840382",
   "metadata": {},
   "outputs": [],
   "source": [
    "df = pd.DataFrame.from_dict(collection,orient='index')\n",
    "df['date'] = pd.to_datetime(df['timestamp'], unit='ms')\n",
    "df"
   ]
  },
  {
   "cell_type": "markdown",
   "id": "b836bef9-1e71-43a0-a3f8-d25a4dd19cd9",
   "metadata": {},
   "source": [
    "## Building a collection of Swaps WETH/USDC Pool on Polygon"
   ]
  },
  {
   "cell_type": "code",
   "execution_count": null,
   "id": "c2b3d200-7cfd-4101-bff9-de358243209c",
   "metadata": {},
   "outputs": [],
   "source": [
    "#example transaction: https://polygonscan.com/tx/0x84aacd98159cdde02a79ead79b3162130e757d542eb409f39bb19128cdb0f2e2#eventlog\n",
    "#Here we begin to look at swap events within a certain pool. \n",
    "contract_address = Web3.to_checksum_address('0x853ee4b2a13f8a742d64c8f088be7ba2131f670d') #Polygon V2 WETH/USDC Pool\n",
    "contract_event_signature = '0xd78ad95fa46c994b6551d0da85fc275fe613ce37657fb8d5e3d130840159d822' #Swap Event Signature"
   ]
  },
  {
   "cell_type": "code",
   "execution_count": null,
   "id": "1d0e8a86-532d-47ac-b4f7-1419fbecc8a6",
   "metadata": {},
   "outputs": [],
   "source": [
    "#Empyt dict for storing returned data. \n",
    "collection = {}\n",
    "id = 0\n",
    "#For Pagination\n",
    "pagination = 0\n",
    "total_pages = 1\n",
    "paginationIncrement = 1"
   ]
  },
  {
   "cell_type": "code",
   "execution_count": null,
   "id": "b5fc4f1d-341e-4c05-b104-85ad225b98bb",
   "metadata": {},
   "outputs": [],
   "source": [
    "while pagination <= total_pages:\n",
    "    #Fetch Contract Events Logs. \n",
    "    url = f'https://web3api.io/api/v2/addresses/{contract_address}/logs?topic={contract_event_signature}&page={pagination}&size=100'\n",
    "    response = requests.request(\"GET\", url, headers=headers)\n",
    "    while response.status_code == 429:\n",
    "        time.sleep(1)\n",
    "        response = requests.request(\"GET\", url, params=querystring)\n",
    "    batch_list = json.loads(response.text)[\"payload\"]['records']\n",
    "    for item in batch_list:\n",
    "            try: \n",
    "                id +=1\n",
    "                collection[id] = {}\n",
    "                collection[id]['timestamp'] = item[\"timestamp\"]\n",
    "                collection[id]['transaction_hash'] = item[\"transactionHash\"]\n",
    "                collection[id]['block_number'] = item['blockNumber']\n",
    "                collection[id]['sender'] = '0x'+item['topics'][1][26:]\n",
    "                collection[id]['to'] = '0x'+item['topics'][2][26:]\n",
    "                collection[id]['amount0In'] = float.fromhex(item['data'][0])\n",
    "                collection[id]['amount1In'] = float.fromhex(item['data'][1])\n",
    "                collection[id]['amount0Out'] = float.fromhex(item['data'][2])\n",
    "                collection[id]['amount1Out'] = float.fromhex(item['data'][3])\n",
    "                collection[id]['event_name'] = \"swap\"\n",
    "            except NameError:\n",
    "                print(NameError)\n",
    "            except:\n",
    "                print(\"No Data\")\n",
    "    print('Finished page',pagination)\n",
    "    pagination += paginationIncrement"
   ]
  },
  {
   "cell_type": "code",
   "execution_count": null,
   "id": "820ef3c4-3a50-4c80-8ddc-9b89aada57c7",
   "metadata": {},
   "outputs": [],
   "source": [
    "df = pd.DataFrame.from_dict(collection,orient='index')\n",
    "df['date'] = pd.to_datetime(df['timestamp'], unit='ms')\n",
    "df"
   ]
  },
  {
   "cell_type": "markdown",
   "id": "e47ef827-97c9-48de-adfb-9d3c490ee9cf",
   "metadata": {},
   "source": [
    "## Building a Collection of Pool Reserves"
   ]
  },
  {
   "cell_type": "code",
   "execution_count": null,
   "id": "f2232a3a-73b9-4793-b6f2-7ff9e2afe81d",
   "metadata": {},
   "outputs": [],
   "source": [
    "#example transaction: 0x84aacd98159cdde02a79ead79b3162130e757d542eb409f39bb19128cdb0f2e2\n",
    "contract_address = Web3.to_checksum_address('0x853ee4b2a13f8a742d64c8f088be7ba2131f670d') #Polygon V2 WETH/USDC Pool\n",
    "contract_event_signature = '0x1c411e9a96e071241c2f21f7726b17ae89e3cab4c78be50e062b03a9fffbbad1' #Sync Event Signature"
   ]
  },
  {
   "cell_type": "code",
   "execution_count": null,
   "id": "75b12fce-7efb-41d1-9eee-887a41e87260",
   "metadata": {},
   "outputs": [],
   "source": [
    "#Empyt dict for storing returned data. \n",
    "collection = {}\n",
    "id = 0\n",
    "#For Pagination\n",
    "pagination = 0\n",
    "total_pages = 10\n",
    "paginationIncrement = 1"
   ]
  },
  {
   "cell_type": "code",
   "execution_count": null,
   "id": "aa25714e-f75a-4cd2-90ee-d88ea932714a",
   "metadata": {},
   "outputs": [],
   "source": [
    "while pagination <= total_pages:\n",
    "    #Fetch Contract Events Logs. \n",
    "    url = f'https://web3api.io/api/v2/addresses/{contract_address}/logs?topic={contract_event_signature}&page={pagination}&size=100'\n",
    "    response = requests.request(\"GET\", url, headers=headers)\n",
    "    while response.status_code == 429:\n",
    "        time.sleep(1)\n",
    "        response = requests.request(\"GET\", url, params=querystring)\n",
    "    batch_list = json.loads(response.text)[\"payload\"]['records']\n",
    "    for item in batch_list:\n",
    "            try: \n",
    "                id +=1\n",
    "                collection[id] = {}\n",
    "                collection[id]['timestamp'] = item[\"timestamp\"]\n",
    "                collection[id]['transaction_hash'] = item[\"transactionHash\"]\n",
    "                collection[id]['block_number'] = item['blockNumber']\n",
    "                collection[id]['pair_address'] = contract_address\n",
    "                collection[id]['reserve0'] = float.fromhex(item['data'][0])\n",
    "                collection[id]['reserve1'] = float.fromhex(item['data'][1])\n",
    "            except NameError:\n",
    "                print(NameError)\n",
    "            except:\n",
    "                print(\"No Data\")\n",
    "    print('Finished page',pagination)\n",
    "    pagination += paginationIncrement"
   ]
  },
  {
   "cell_type": "code",
   "execution_count": null,
   "id": "f47b930f-eefc-434d-95cc-7ceaddc1cc19",
   "metadata": {},
   "outputs": [],
   "source": [
    "df = pd.DataFrame.from_dict(collection,orient='index')\n",
    "df['datetime'] = pd.to_datetime(df['timestamp'], unit='ms')\n",
    "df['date'] = pd.to_datetime(df['datetime']).dt.date\n",
    "df"
   ]
  }
 ],
 "metadata": {
  "kernelspec": {
   "display_name": "Python 3 (ipykernel)",
   "language": "python",
   "name": "python3"
  },
  "language_info": {
   "codemirror_mode": {
    "name": "ipython",
    "version": 3
   },
   "file_extension": ".py",
   "mimetype": "text/x-python",
   "name": "python",
   "nbconvert_exporter": "python",
   "pygments_lexer": "ipython3",
   "version": "3.11.4"
  }
 },
 "nbformat": 4,
 "nbformat_minor": 5
}
