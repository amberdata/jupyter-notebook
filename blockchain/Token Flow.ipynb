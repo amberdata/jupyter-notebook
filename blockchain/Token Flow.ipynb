{
 "cells": [
  {
   "cell_type": "markdown",
   "id": "118d6865",
   "metadata": {},
   "source": [
    "import requests, json\n",
    "from collections import OrderedDict\n",
    "from operator import getitem\n",
    "import time\n",
    "import pandas as pd\n",
    "import numpy as np\n",
    "import math\n",
    "import plotly\n",
    "import plotly.graph_objects as go"
   ]
  },
  {
   "cell_type": "code",
   "execution_count": 91,
   "id": "dbf82936",
   "metadata": {},
   "outputs": [],
   "source": [
    "headers = {\n",
    "    \"accept\": \"application/json\",\n",
    "    \"x-amberdata-blockchain-id\": \"ethereum-mainnet\",\n",
    "    \"x-api-key\": \"AMBER_DATA_API_KEY\"\n",
    "}"
   ]
  },
  {
   "cell_type": "code",
   "execution_count": 82,
   "id": "383cd040",
   "metadata": {},
   "outputs": [],
   "source": [
    "#Empyt dict for storing returned data. \n",
    "collection = {}\n",
    "id = 0\n",
    "\n",
    "#For Pagination\n",
    "pagination = 0\n",
    "paginationIncrement = 50\n",
    "total_records_required = 2000\n",
    "address = '0xCD531Ae9EFCCE479654c4926dec5F6209531Ca7b' #Wallet address of Interest\n",
    "token_address = '0xa0b86991c6218b36c1d19d4a2e9eb0ce3606eb48' #Token to analyze flow"
   ]
  },
  {
   "cell_type": "markdown",
   "id": "f9658828",
   "metadata": {},
   "source": [
    "## Collect latest token transfers to & from our target wallet"
   ]
  },
  {
   "cell_type": "code",
   "execution_count": 83,
   "id": "eff61144",
   "metadata": {
    "scrolled": true
   },
   "outputs": [
    {
     "name": "stdout",
     "output_type": "stream",
     "text": [
      "Finished page 0\n",
      "Finished page 50\n",
      "Finished page 100\n",
      "Finished page 150\n",
      "Finished page 200\n",
      "Finished page 250\n",
      "Finished page 300\n",
      "Finished page 350\n",
      "Finished page 400\n",
      "Finished page 450\n",
      "Finished page 500\n",
      "Finished page 550\n",
      "Finished page 600\n",
      "Finished page 650\n",
      "Finished page 700\n",
      "Finished page 750\n",
      "Finished page 800\n",
      "Finished page 850\n",
      "Finished page 900\n",
      "Finished page 950\n",
      "Finished page 1000\n",
      "Finished page 1050\n",
      "Finished page 1100\n",
      "Finished page 1150\n",
      "Finished page 1200\n",
      "Finished page 1250\n",
      "Finished page 1300\n",
      "Finished page 1350\n",
      "Finished page 1400\n",
      "Finished page 1450\n",
      "Finished page 1500\n",
      "Finished page 1550\n",
      "Finished page 1600\n",
      "Finished page 1650\n",
      "Finished page 1700\n",
      "Finished page 1750\n",
      "Finished page 1800\n",
      "Finished page 1850\n",
      "Finished page 1900\n",
      "Finished page 1950\n",
      "Finished page 2000\n"
     ]
    }
   ],
   "source": [
    "while pagination <= total_records_required:\n",
    "    #Fetch Contract Events Logs. \n",
    "    url = f'https://web3api.io/api/v2/addresses/{address}/token-transfers?page={pagination}&size=50'\n",
    "    response = requests.request(\"GET\", url, headers=headers)\n",
    "    while response.status_code == 429:\n",
    "        time.sleep(1)\n",
    "        response = requests.request(\"GET\", url, params=querystring)\n",
    "    batch_list = json.loads(response.text)[\"payload\"]['records']\n",
    "    for item in batch_list:\n",
    "        try: \n",
    "            id +=1\n",
    "            collection[id] = {}\n",
    "            collection[id]['from'] = item['from']['address']\n",
    "            collection[id]['to'] = item['to'][0]['address']\n",
    "            collection[id]['tokenAddress'] = item['tokenAddress'] \n",
    "            collection[id]['amount'] = float(item['amount']) / math.pow(10,6)\n",
    "        except NameError:\n",
    "            print(NameError)\n",
    "        except:\n",
    "            pass\n",
    "    print('Finished page',pagination)\n",
    "    pagination += paginationIncrement"
   ]
  },
  {
   "cell_type": "markdown",
   "id": "e2316721",
   "metadata": {},
   "source": [
    "## Cleaning data and filtering for only USDC transfers"
   ]
  },
  {
   "cell_type": "code",
   "execution_count": 85,
   "id": "c9b39994",
   "metadata": {},
   "outputs": [],
   "source": [
    "df = pd.DataFrame.from_dict(collection,orient='index')\n",
    "df['amount'] = df['amount'].astype(float)\n",
    "#Filtering out just USD Transfers\n",
    "df = df[df['tokenAddress'] =='0xa0b86991c6218b36c1d19d4a2e9eb0ce3606eb48']"
   ]
  },
  {
   "cell_type": "markdown",
   "id": "2d63ae20",
   "metadata": {},
   "source": [
    "## Creating a function to Plot our Sanky Chart"
   ]
  },
  {
   "cell_type": "code",
   "execution_count": 88,
   "id": "c069b255",
   "metadata": {},
   "outputs": [],
   "source": [
    "def genSankey(df,cat_cols=[],value_cols='',title='Sankey Diagram'):\n",
    "    # maximum of 6 value cols -> 6 colors\n",
    "    colorPalette = ['#4B8BBE','#306998','#FFE873','#FFD43B','#646464']\n",
    "    labelList = []\n",
    "    colorNumList = []\n",
    "    for catCol in cat_cols:\n",
    "        labelListTemp =  list(set(df[catCol].values))\n",
    "        colorNumList.append(len(labelListTemp))\n",
    "        labelList = labelList + labelListTemp\n",
    "        \n",
    "    # remove duplicates from labelList\n",
    "    labelList = list(dict.fromkeys(labelList))\n",
    "    \n",
    "    # define colors based on number of levels\n",
    "    colorList = []\n",
    "    for idx, colorNum in enumerate(colorNumList):\n",
    "        colorList = colorList + [colorPalette[idx]]*colorNum\n",
    "        \n",
    "    # transform df into a source-target pair\n",
    "    for i in range(len(cat_cols)-1):\n",
    "        if i==0:\n",
    "            sourceTargetDf = df[[cat_cols[i],cat_cols[i+1],value_cols]]\n",
    "            sourceTargetDf.columns = ['source','target','count']\n",
    "        else:\n",
    "            tempDf = df[[cat_cols[i],cat_cols[i+1],value_cols]]\n",
    "            tempDf.columns = ['source','target','count']\n",
    "            sourceTargetDf = pd.concat([sourceTargetDf,tempDf])\n",
    "        sourceTargetDf = sourceTargetDf.groupby(['source','target']).agg({'count':'sum'}).reset_index()\n",
    "        \n",
    "    # add index for source-target pair\n",
    "    sourceTargetDf['sourceID'] = sourceTargetDf['source'].apply(lambda x: labelList.index(x))\n",
    "    sourceTargetDf['targetID'] = sourceTargetDf['target'].apply(lambda x: labelList.index(x))\n",
    "    \n",
    "    # creating the sankey diagram\n",
    "    data = dict(\n",
    "        type='sankey',\n",
    "        node = dict(\n",
    "          pad = 15,\n",
    "          thickness = 20,\n",
    "          line = dict(\n",
    "            color = \"black\",\n",
    "            width = 0.5\n",
    "          ),\n",
    "          label = labelList,\n",
    "          color = colorList\n",
    "        ),\n",
    "        link = dict(\n",
    "          source = sourceTargetDf['sourceID'],\n",
    "          target = sourceTargetDf['targetID'],\n",
    "          value = sourceTargetDf['count']\n",
    "        )\n",
    "      )\n",
    "    \n",
    "    layout =  dict(\n",
    "        title = title,\n",
    "        font = dict(\n",
    "          size = 10\n",
    "        )\n",
    "    )\n",
    "       \n",
    "    fig = dict(data=[data], layout=layout)\n",
    "    return fig"
   ]
  },
  {
   "cell_type": "markdown",
   "id": "1258c88b",
   "metadata": {},
   "source": [
    "## Ploting our Sankey Chart"
   ]
  },
  {
   "cell_type": "code",
   "execution_count": 92,
   "id": "22e41e1d",
   "metadata": {},
   "outputs": [
    {
     "data": {
      "text/plain": [
       "'temp-plot.html'"
      ]
     },
     "execution_count": 92,
     "metadata": {},
     "output_type": "execute_result"
    }
   ],
   "source": [
    "fig = genSankey(df, cat_cols = ['from', 'to'], value_cols='amount', title=\"USDC Flow to and from 0xCD531Ae9EFCCE479654c4926dec5F6209531Ca7b\")\n",
    "plotly.offline.plot(fig, validate=False)"
   ]
  }
 ],
 "metadata": {
  "kernelspec": {
   "display_name": "Python 3 (ipykernel)",
   "language": "python",
   "name": "python3"
  },
  "language_info": {
   "codemirror_mode": {
    "name": "ipython",
    "version": 3
   },
   "file_extension": ".py",
   "mimetype": "text/x-python",
   "name": "python",
   "nbconvert_exporter": "python",
   "pygments_lexer": "ipython3",
   "version": "3.11.1"
  }
 },
 "nbformat": 4,
 "nbformat_minor": 5
}
