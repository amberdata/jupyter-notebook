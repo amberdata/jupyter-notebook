{
 "cells": [
  {
   "cell_type": "code",
   "execution_count": 134,
   "id": "e59f1d53-483a-47d4-bb31-40fe075a7989",
   "metadata": {},
   "outputs": [],
   "source": [
    "import requests, json\n",
    "from collections import OrderedDict\n",
    "from operator import getitem\n",
    "import time\n",
    "import pandas as pd\n",
    "from web3 import Web3\n",
    "import warnings\n",
    "import struct\n",
    "import binascii"
   ]
  },
  {
   "cell_type": "code",
   "execution_count": 135,
   "id": "7421fb5e-0830-420d-b184-45d20ae0129d",
   "metadata": {},
   "outputs": [],
   "source": [
    "beacon_chain_contract = Web3.to_checksum_address('0x00000000219ab540356cbb839cbe05303d7705fa')\n",
    "beacon_chain_deposit_event = '0x649bbc62d0e31342afea4e5cd82d4049e7e1ee912fc0889aa790803be39038c5'\n",
    "api_key = 'AMBERDATA_API_KEY'"
   ]
  },
  {
   "cell_type": "code",
   "execution_count": 136,
   "id": "dd7c9c60-e684-4d11-89bd-372f3bf70a72",
   "metadata": {},
   "outputs": [],
   "source": [
    "# Replace with your AMBERDATA API KEY\n",
    "eth_node_url = f'https://rpc.web3api.io/api/v2?x-api-key={api_key}'"
   ]
  },
  {
   "cell_type": "code",
   "execution_count": null,
   "id": "efa1ded3-62ce-4503-96d9-7cf4bf52f580",
   "metadata": {},
   "outputs": [],
   "source": [
    "w3 = Web3(Web3.HTTPProvider(eth_node_url))\n",
    "\n",
    "# Check if connected to Ethereum node\n",
    "if w3.is_connected:\n",
    "    print(\"Connected to Ethereum node\")\n",
    "else:\n",
    "    print(\"Not connected to Ethereum node\")\n",
    "    exit(1)"
   ]
  },
  {
   "cell_type": "code",
   "execution_count": 138,
   "id": "b8fabcd4-50dc-4eef-82a2-f01ea092e50d",
   "metadata": {},
   "outputs": [],
   "source": [
    "headers = {\n",
    "    \"accept\": \"application/json\",\n",
    "    \"x-amberdata-blockchain-id\": \"ethereum-mainnet\",\n",
    "    \"x-api-key\": f'{api_key}'\n",
    "}"
   ]
  },
  {
   "cell_type": "code",
   "execution_count": 139,
   "id": "970f260f-28d4-4f3a-a195-e889efc389a5",
   "metadata": {},
   "outputs": [],
   "source": [
    "#Fetch Contract ABI: \n",
    "abi_url = f'https://web3api.io/api/v2/contracts/{beacon_chain_contract}' "
   ]
  },
  {
   "cell_type": "code",
   "execution_count": 140,
   "id": "f862423c-1df9-4f5c-9003-59dd4eaff26a",
   "metadata": {},
   "outputs": [],
   "source": [
    "#Fetching contract address ABI, formating and extracting ABI Only. Will use later for parsing logs. \n",
    "abi = requests.request(\"GET\", url=abi_url, headers=headers)\n",
    "abi = json.loads(abi.text)\n",
    "abi = abi['payload']['abi']"
   ]
  },
  {
   "cell_type": "code",
   "execution_count": 141,
   "id": "07287f4c-0539-4f0c-9574-5a532d79acf4",
   "metadata": {},
   "outputs": [],
   "source": [
    "#Create Web3 Contract Instance: \n",
    "myContract = w3.eth.contract(address=beacon_chain_contract, abi=abi)"
   ]
  },
  {
   "cell_type": "code",
   "execution_count": 142,
   "id": "affad937-4b6c-400f-aafd-878033d2a869",
   "metadata": {},
   "outputs": [],
   "source": [
    "# Helper function to convert bytes to interger. \n",
    "def endian_to_int(endian):\n",
    "    little_endian_bytes = bytes.fromhex(endian)\n",
    "    reversed_bytes = little_endian_bytes[::-1]\n",
    "    integer_value = int.from_bytes(reversed_bytes, byteorder='big')\n",
    "    return integer_value"
   ]
  },
  {
   "cell_type": "code",
   "execution_count": 153,
   "id": "0d6f27ba-bb25-4f63-a497-91de3a99b80b",
   "metadata": {},
   "outputs": [],
   "source": [
    "#Empyt dict for storing returned data. \n",
    "collection = {}\n",
    "id = 0\n",
    "#For Pagination\n",
    "pagination = 0\n",
    "total_pages = 1000\n",
    "paginationIncrement = 1"
   ]
  },
  {
   "cell_type": "code",
   "execution_count": null,
   "id": "2382929d-2d9f-4924-b618-83438a472d62",
   "metadata": {},
   "outputs": [],
   "source": [
    "while pagination <= total_pages:\n",
    "    #Fetch Contract Events Logs. \n",
    "    url = f'https://web3api.io/api/v2/addresses/{beacon_chain_contract}/logs?topic={beacon_chain_deposit_event}&page={pagination}&size=100'\n",
    "    response = requests.request(\"GET\", url, headers=headers)\n",
    "    while response.status_code == 429:\n",
    "        time.sleep(1)\n",
    "        response = requests.request(\"GET\", url, params=querystring)\n",
    "    batch_list = json.loads(response.text)[\"payload\"]['records']\n",
    "    for item in batch_list:\n",
    "            try: \n",
    "                id +=1\n",
    "                collection[id] = {}\n",
    "                collection[id]['timestamp'] = item[\"timestamp\"]\n",
    "                collection[id]['transaction_hash'] = item[\"transactionHash\"]\n",
    "                collection[id]['block_number'] = item['blockNumber']\n",
    "                # collection[id]['pub_key'] = (item['data'][6] + item['data'][7]).rstrip('0')\n",
    "                # adding this line and commenting the above line as the above line will strip \n",
    "                # off all the 0s of the public key and the public key can end with a zero as well\n",
    "                # we know that the length is 95 characterss so this line of code takes care of that\n",
    "                collection[id]['pub_key'] = (item['data'][6] + item['data'][7])[:96]\n",
    "                collection[id]['withdrawal_credentials'] = item['data'][9]\n",
    "                collection[id]['amount'] = endian_to_int(item['data'][11])\n",
    "                collection[id]['deposit_index'] = endian_to_int(item['data'][17])\n",
    "                collection[id]['signature'] = item['data'][13]+item['data'][14]+item['data'][15]\n",
    "            except NameError:\n",
    "                print(NameError)\n",
    "            except:\n",
    "                print(\"No Data\")\n",
    "    print('Finished page',pagination)\n",
    "    pagination += paginationIncrement\n"
   ]
  },
  {
   "cell_type": "code",
   "execution_count": 155,
   "id": "97272ba9-3bcd-4b26-9ced-842303de2b1a",
   "metadata": {},
   "outputs": [],
   "source": [
    "#updating some pandas default settings\n",
    "pd.set_option('max_colwidth', None) # show full width of showing cols\n",
    "pd.set_option(\"expand_frame_repr\", False) # print cols \n",
    "pd.set_option('display.float_format', lambda x: f'{x:.3f}') # Format number"
   ]
  },
  {
   "cell_type": "code",
   "execution_count": 157,
   "id": "3d8216d1-f60c-4b5f-b1c1-2d1d8e4c37f1",
   "metadata": {},
   "outputs": [],
   "source": [
    "df = pd.DataFrame.from_dict(collection,orient='index')"
   ]
  },
  {
   "cell_type": "code",
   "execution_count": 158,
   "id": "a25bcad7-ab94-4f4a-b188-2182da03559f",
   "metadata": {},
   "outputs": [],
   "source": [
    "df['datetime'] = pd.to_datetime(df['timestamp'], unit='ms')"
   ]
  },
  {
   "cell_type": "code",
   "execution_count": null,
   "id": "59efc89f-9d2b-4c71-af8f-60513561eca5",
   "metadata": {},
   "outputs": [],
   "source": [
    "df"
   ]
  },
  {
   "cell_type": "code",
   "execution_count": 163,
   "id": "ad975bb7-38f4-4ed4-816b-d0e59eaca9b6",
   "metadata": {},
   "outputs": [],
   "source": [
    "#Alternative Approach is using the ABI + Web3.py to Process_Receipt - This approach is a bit slower since it request an RPC call. \n",
    "# while pagination <= total_pages:\n",
    "#     #Fetch Contract Events Logs. \n",
    "#     url = f'https://web3api.io/api/v2/addresses/{beacon_chain_contract}/logs?topic={beacon_chain_deposit_event}&page={pagination}&size=100'\n",
    "#     response = requests.request(\"GET\", url, headers=headers)\n",
    "#     while response.status_code == 429:\n",
    "#         time.sleep(1)\n",
    "#         response = requests.request(\"GET\", url, params=querystring)\n",
    "#     batch_list = json.loads(response.text)[\"payload\"]['records']\n",
    "#     for item in batch_list:\n",
    "#         try: \n",
    "#             print(item[\"transactionHash\"])\n",
    "#             receipt = w3.eth.get_transaction_receipt(item[\"transactionHash\"])\n",
    "#             logs = myContract.events.DepositEvent().process_receipt(receipt)\n",
    "#             id +=1\n",
    "#             collection[id] = {}\n",
    "#             collection[id]['timestamp'] = item[\"timestamp\"]\n",
    "#             collection[id]['transaction_hash'] = item[\"transactionHash\"]\n",
    "#             collection[id]['blockNumber'] = logs[0]['blockNumber']\n",
    "#             collection[id]['amount_raw'] = logs[0]['args']['amount']\n",
    "#             collection[id]['amount_clean'] = endian_to_int(logs[0]['args']['amount'])\n",
    "#             collection[id]['index'] = logs[0]['args']['index']\n",
    "#             collection[id]['signature'] = logs[0]['args']['signature']\n",
    "#             collection[id]['signature_cleaned'] = binascii.hexlify(logs[0]['args']['signature']).decode('utf-8')\n",
    "#             collection[id]['withdrawal_credentials'] = logs[0]['args']['withdrawal_credentials']\n",
    "#             collection[id]['withdrawal_credentials_cleaned'] = binascii.hexlify(logs[0]['args']['withdrawal_credentials']).decode('utf-8')\n",
    "#         except NameError:\n",
    "#             print(NameError)\n",
    "#         except:\n",
    "#             print(\"No Events at this TX\")\n",
    "#     print('Finished page',pagination)\n",
    "#     pagination += paginationIncrement\n"
   ]
  },
  {
   "cell_type": "code",
   "execution_count": null,
   "id": "dd617598-8083-4611-abbf-46cab6c97bcf",
   "metadata": {},
   "outputs": [],
   "source": []
  }
 ],
 "metadata": {
  "kernelspec": {
   "display_name": "Python 3 (ipykernel)",
   "language": "python",
   "name": "python3"
  },
  "language_info": {
   "codemirror_mode": {
    "name": "ipython",
    "version": 3
   },
   "file_extension": ".py",
   "mimetype": "text/x-python",
   "name": "python",
   "nbconvert_exporter": "python",
   "pygments_lexer": "ipython3",
   "version": "3.11.4"
  }
 },
 "nbformat": 4,
 "nbformat_minor": 5
}
