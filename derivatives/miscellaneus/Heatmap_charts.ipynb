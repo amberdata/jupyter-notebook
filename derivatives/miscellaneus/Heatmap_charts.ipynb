{
 "cells": [
  {
   "cell_type": "code",
   "execution_count": null,
   "id": "3bc84261-d87b-4b3e-b50c-ec6f9d3e197e",
   "metadata": {},
   "outputs": [],
   "source": [
    "import pandas as pd\n",
    "\n",
    "from dotenv import load_dotenv\n",
    "load_dotenv()\n",
    "import os\n",
    "\n",
    "from plotly.subplots import make_subplots\n",
    "import plotly.graph_objects as go\n",
    "import plotly.express as px\n",
    "\n",
    "##GVOL\n",
    "from gvol import GVol\n",
    "\n",
    "##USE .ENV FILE\n",
    "GVOL_API_KEY = os.getenv('GVOL_API_KEY')\n",
    "##OR INSERT MANUALLY YOU KEYS\n",
    "#GVOL_API_KEY = 'GVOL_API_KEY'\n",
    "\n",
    "gvol_client = GVol(header='x-oracle',gvol_api_key=GVOL_API_KEY)"
   ]
  },
  {
   "cell_type": "code",
   "execution_count": null,
   "id": "53dd57cc-f51f-42d1-99a6-c2f3f9cd0de9",
   "metadata": {},
   "outputs": [],
   "source": [
    "##SELECT COIN BTC/ETH\n",
    "symbol = 'BTC'"
   ]
  },
  {
   "cell_type": "markdown",
   "id": "4ecf7d12-a075-4a6c-8a45-5cda45d8c363",
   "metadata": {},
   "source": [
    "# CUMULATIVE NET VOLUMES"
   ]
  },
  {
   "cell_type": "markdown",
   "id": "25a43aba-033c-4ac3-94b6-fc0ee9c50e51",
   "metadata": {},
   "source": [
    "This endpoint returns the cumulative net volumes of trades for the last \"n\" days selected.\n",
    "\n",
    "For calculating the \"net\" volume (aka the volume traded with the sign of the initiator) we use our proprietary algorithm composed from several heuristics which use the orderbook previous of the trade at millisecond granularity. You can read more about this here Gvol Direction.\n",
    "\n",
    "The endpoint is completed with some useful filters, such as:\n",
    "\n",
    "    - tradeType = ALL/block/onScreen\n",
    "    \n",
    "    - showActiveExpirations:\n",
    "        true = endpoint returns only trades for active expirations\n",
    "        false = endpoint returns all the trades even for expired expirations."
   ]
  },
  {
   "cell_type": "code",
   "execution_count": null,
   "id": "8098c679-40bb-46e3-8cf1-a328a7ab042c",
   "metadata": {},
   "outputs": [],
   "source": [
    "##Params\n",
    "active_exp = False \n",
    "days = 10\n",
    "type_of_trade = 'ALL' "
   ]
  },
  {
   "cell_type": "code",
   "execution_count": null,
   "id": "fa48e054-d84a-4050-9731-c8f8820553ca",
   "metadata": {},
   "outputs": [],
   "source": [
    "data = gvol_client.options_cumulative_net_volumes(symbol= symbol , exchange= 'deribit', showActiveExpirations= active_exp, days=days, tradeType=type_of_trade)\n",
    "df = pd.json_normalize(data['genericNetVolumeGvolDirection'])\n",
    "df['date'] = pd.to_datetime(df['date'], unit='ms')\n",
    "df.set_index('date', inplace=True)"
   ]
  },
  {
   "cell_type": "code",
   "execution_count": null,
   "id": "07a52549-3056-4b03-90ad-8b2da7f6a32a",
   "metadata": {},
   "outputs": [],
   "source": [
    "fig = make_subplots(specs=[[{\"secondary_y\": True}]])\n",
    "\n",
    "zmax = max(abs(df['cumulative']))\n",
    "\n",
    "fig.add_heatmap(z=df.cumulative,\n",
    "        x=df.index,\n",
    "        y=df.strike,\n",
    "        zmin = -zmax,\n",
    "        zmax = +zmax,\n",
    "        colorscale='RdBu'\n",
    ")\n",
    "\n",
    "price = df.reset_index().groupby('date').mean()['indexPrice']\n",
    "fig.add_trace(go.Scatter(x = price.index, y = price.values, name = 'Index', line= dict(color='grey', dash='dot')))\n",
    "if symbol == 'BTC':\n",
    "    fig.update_yaxes(range=['12500','34500'], secondary_y=True)\n",
    "    fig.update_yaxes(range=['12500','34500'], secondary_y=False)\n",
    "else:\n",
    "    fig.update_yaxes(range=['850','2400'], secondary_y=True)\n",
    "    fig.update_yaxes(range=['850','2400'], secondary_y=False)\n",
    "\n",
    "fig.add_annotation(text=\"AMBERDATA\",opacity=0.5,\n",
    "                  xref=\"paper\", yref=\"paper\",\n",
    "                  x=0.16, y=0.1, showarrow=False)\n",
    "\n",
    "fig.update_yaxes(title='strike', secondary_y=False)\n",
    "\n",
    "fig.update_xaxes(showgrid=False)\n",
    "fig.update_yaxes(showgrid=False)\n",
    "\n",
    "fig.update_layout(title=str(symbol)+' '+str(type_of_trade).upper()+ ' Cumulative Net Volumes',\n",
    "           )\n",
    "\n",
    "#fig.write_image('onscreen.svg', engine='kaleido', width=900, height=500)\n",
    "\n",
    "fig.show()"
   ]
  },
  {
   "cell_type": "markdown",
   "id": "0e4eb98b-1eb9-43ee-9385-10ab5ac6ac4a",
   "metadata": {},
   "source": [
    "# CUMULATIVE NET POSITIONING"
   ]
  },
  {
   "cell_type": "markdown",
   "id": "975cf2f2-e75d-4f76-a27c-042d9654c9f2",
   "metadata": {},
   "source": [
    "This endpoint returns the cumulative net positioning of traders for the period from the dateStart parameter. It means that positioning is assumed \"zero\" at the dateStart.\n",
    "\n",
    "This endpoint starts from 7th November 2022.\n",
    "\n",
    "This endpoint could be seen as the other side of the gamma exposure of dealers (Gvol Gex)."
   ]
  },
  {
   "cell_type": "code",
   "execution_count": null,
   "id": "0de85e62-f043-45b2-b39e-b9270b714f2c",
   "metadata": {},
   "outputs": [],
   "source": [
    "##Params\n",
    "start_date = '2023-1-1'"
   ]
  },
  {
   "cell_type": "code",
   "execution_count": null,
   "id": "da73f1ec-b9c0-489e-8aa0-b0a1a47aef54",
   "metadata": {},
   "outputs": [],
   "source": [
    "data = gvol_client.options_cumulative_net_positioning(symbol= symbol , exchange= 'deribit', dateStart=start_date)\n",
    "df = pd.json_normalize(data['genericNetPositioningGvolDirection'])\n",
    "df['date'] = pd.to_datetime(df['date'], unit='ms')\n",
    "df.set_index('date', inplace=True)"
   ]
  },
  {
   "cell_type": "code",
   "execution_count": null,
   "id": "41e92539-3e6a-4b2b-830a-101880eeee7b",
   "metadata": {},
   "outputs": [],
   "source": [
    "fig = make_subplots(specs=[[{\"secondary_y\": True}]])\n",
    "\n",
    "zmax = max(abs(df['netInv']))\n",
    "\n",
    "fig.add_heatmap(z=df.netInv,\n",
    "        x=df.index,\n",
    "        y=df.strike,\n",
    "        zmin = -zmax,\n",
    "        zmax = +zmax,\n",
    "        colorscale='RdBu'\n",
    ")\n",
    "\n",
    "price = df.reset_index().groupby('date').mean()['indexPrice']\n",
    "fig.add_trace(go.Scatter(x = price.index, y = price.values, name = 'Index', line= dict(color='grey', dash='dot')))\n",
    "if symbol == 'BTC':\n",
    "    fig.update_yaxes(range=['12500','34500'], secondary_y=True)\n",
    "    fig.update_yaxes(range=['12500','34500'], secondary_y=False)\n",
    "else:\n",
    "    fig.update_yaxes(range=['850','2400'], secondary_y=True)\n",
    "    fig.update_yaxes(range=['850','2400'], secondary_y=False)\n",
    "\n",
    "fig.add_annotation(text=\"AMBERDATA\",opacity=0.5,\n",
    "                  xref=\"paper\", yref=\"paper\",\n",
    "                  x=0.16, y=0.1, showarrow=False)\n",
    "\n",
    "fig.update_yaxes(title='strike', secondary_y=False)\n",
    "\n",
    "fig.update_xaxes(showgrid=False)\n",
    "fig.update_yaxes(showgrid=False)\n",
    "\n",
    "fig.update_layout(title=str(symbol)+' Cumulative Net Positioning',\n",
    "           )\n",
    "\n",
    "#fig.write_image('onscreen.svg', engine='kaleido', width=900, height=500)\n",
    "\n",
    "fig.show()"
   ]
  },
  {
   "cell_type": "code",
   "execution_count": null,
   "id": "ab0d26a9-3d36-4246-983c-7c80650b87c5",
   "metadata": {},
   "outputs": [],
   "source": []
  }
 ],
 "metadata": {
  "kernelspec": {
   "display_name": "Python 3 (ipykernel)",
   "language": "python",
   "name": "python3"
  },
  "language_info": {
   "codemirror_mode": {
    "name": "ipython",
    "version": 3
   },
   "file_extension": ".py",
   "mimetype": "text/x-python",
   "name": "python",
   "nbconvert_exporter": "python",
   "pygments_lexer": "ipython3",
   "version": "3.10.8"
  }
 },
 "nbformat": 4,
 "nbformat_minor": 5
}
