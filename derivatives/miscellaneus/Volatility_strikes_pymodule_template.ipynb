{
 "cells": [
  {
   "cell_type": "code",
   "execution_count": null,
   "id": "d6f4f3c5",
   "metadata": {},
   "outputs": [],
   "source": [
    "##IF YOU NEED TO INSTALL GVOL PYTHON MODULE UN-COMMENT (remove #) FOLLOWING ROW\n",
    "#!pip install gvol"
   ]
  },
  {
   "cell_type": "code",
   "execution_count": null,
   "id": "03dd96c8",
   "metadata": {},
   "outputs": [],
   "source": [
    "from gvol import GVol"
   ]
  },
  {
   "cell_type": "code",
   "execution_count": null,
   "id": "155b78c3",
   "metadata": {},
   "outputs": [],
   "source": [
    "import os\n",
    "import pandas as pd"
   ]
  },
  {
   "cell_type": "code",
   "execution_count": null,
   "id": "71c617ba",
   "metadata": {},
   "outputs": [],
   "source": [
    "#GVOL API ENDPOINTS \n",
    "GVOL_API_KEY = \"GVOL_API_KEY\" #You GVOL api key\n",
    "gvol_client = GVol(header='x-oracle',gvol_api_key=GVOL_API_KEY)"
   ]
  },
  {
   "cell_type": "code",
   "execution_count": null,
   "id": "4a752fbb",
   "metadata": {},
   "outputs": [],
   "source": [
    "symbol = 'BTC'\n",
    "\n",
    "#DEFINE YOUR DATES RANGE HERE. NOT MORE THAN 10 days \n",
    "dates = pd.date_range(start='2022-11-15', end='2022-11-22')\n",
    "\n",
    "#INTERVAL '1 DAY' till '1 HOUR' (for '1 HOUR' intervals use max 5 day in dates)\n",
    "interval = '1 day'\n",
    "\n",
    "exchange = 'deribit'\n",
    "\n",
    "df = pd.DataFrame()\n",
    "for d in dates:\n",
    "    date = str(d.date())\n",
    "    data = gvol_client.options_greeks_hour(\n",
    "        symbol = symbol\n",
    "        ,exchange = exchange\n",
    "        ,interval = interval\n",
    "        ,date = date\n",
    "        )\n",
    "    data = pd.json_normalize(data['HifiVolSurfaceStrikesGreeksHourly'])\n",
    "    df = pd.concat([df,data])\n",
    "\n",
    "#df = pd.json_normalize(df['HifiVolSurfaceStrikesGreeksHourly'])\n",
    "df['date'] = pd.to_datetime(df['date'], unit='ms')\n",
    "df['expiration'] = pd.to_datetime(df['expiration'], unit='ms')\n",
    "df"
   ]
  },
  {
   "cell_type": "code",
   "execution_count": null,
   "id": "5ea34571",
   "metadata": {},
   "outputs": [],
   "source": []
  }
 ],
 "metadata": {
  "kernelspec": {
   "display_name": "Python 3 (ipykernel)",
   "language": "python",
   "name": "python3"
  },
  "language_info": {
   "codemirror_mode": {
    "name": "ipython",
    "version": 3
   },
   "file_extension": ".py",
   "mimetype": "text/x-python",
   "name": "python",
   "nbconvert_exporter": "python",
   "pygments_lexer": "ipython3",
   "version": "3.8.11"
  }
 },
 "nbformat": 4,
 "nbformat_minor": 5
}
