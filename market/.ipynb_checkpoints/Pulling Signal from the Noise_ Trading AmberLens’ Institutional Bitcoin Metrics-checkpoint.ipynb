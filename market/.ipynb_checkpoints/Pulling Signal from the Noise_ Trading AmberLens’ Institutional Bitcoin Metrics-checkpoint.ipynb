{
 "cells": [
  {
   "cell_type": "markdown",
   "metadata": {
    "application/vnd.databricks.v1+cell": {
     "cellMetadata": {},
     "inputWidgets": {},
     "nuid": "acbac7b0-1cb8-4b37-bcdc-3a7aff33ea7d",
     "showTitle": false,
     "title": ""
    }
   },
   "source": [
    "# Pulling Signal from the Noise: Trading AmberLens’ Institutional Bitcoin Metrics"
   ]
  },
  {
   "cell_type": "code",
   "execution_count": 0,
   "metadata": {
    "application/vnd.databricks.v1+cell": {
     "cellMetadata": {
      "byteLimit": 2048000,
      "rowLimit": 10000
     },
     "inputWidgets": {},
     "nuid": "68cb8d21-62bf-4903-ad53-849a4d3ab1d6",
     "showTitle": false,
     "title": ""
    }
   },
   "outputs": [],
   "source": [
    "import backtesting\n",
    "import numpy as np\n",
    "from backtesting import Backtest, Strategy\n",
    "from backtesting.lib import cross, crossover, TrailingStrategy\n",
    "from backtesting.test import SMA\n",
    "from bokeh.resources import CDN\n",
    "from bokeh.embed import components, file_html\n",
    "from pyspark.sql.window import Window\n",
    "from pyspark.sql.functions import col, lag, sum, first\n",
    "import pandas as pd"
   ]
  },
  {
   "cell_type": "markdown",
   "metadata": {
    "application/vnd.databricks.v1+cell": {
     "cellMetadata": {},
     "inputWidgets": {},
     "nuid": "20dad493-9b55-4f9e-b3a4-6cd56b8dc573",
     "showTitle": false,
     "title": ""
    }
   },
   "source": [
    "\n",
    "## How to use this notebook\n",
    "\n",
    "This notebook was built in Databricks using PySpark, and uses some Databricks specific functions such as `display` in order to display tables. This notebook gives a high level overview on how to implement these backtests, and can serve as a starting point for building more complex tests."
   ]
  },
  {
   "cell_type": "code",
   "execution_count": 0,
   "metadata": {
    "application/vnd.databricks.v1+cell": {
     "cellMetadata": {
      "byteLimit": 2048000,
      "rowLimit": 10000
     },
     "inputWidgets": {},
     "nuid": "6b6a24e8-14c2-44cf-a34c-4597261f80e2",
     "showTitle": false,
     "title": ""
    }
   },
   "outputs": [],
   "source": [
    "def run_backtest(data, strategy, name, cash=100000, commission=0.002):\n",
    "    bt = Backtest(data, strategy, cash=cash, commission=commission)\n",
    "    result = bt.run()\n",
    "    html = file_html(bt.plot(), CDN, name)\n",
    "    displayHTML(html)\n",
    "\n",
    "    display(spark.createDataFrame(\n",
    "        pd.DataFrame(list(result.items()), columns=['Metric', 'Value']).astype(str).set_index(\"Metric\").drop([\"_strategy\", \"_equity_curve\", \"_trades\"]).reset_index()             \n",
    "    ))\n",
    "    # display(result)\n",
    "    return result\n",
    "\n",
    "# Uncomment this function if you are running outside of Databricks\n",
    "# def run_backtest(data, strategy, name, cash=100000, commission=0.002):\n",
    "#     bt = Backtest(data, strategy, cash=cash, commission=commission)\n",
    "#     result = bt.run()\n",
    "#     html = bt.plot(), CDN, name\n",
    "#     return result\n",
    "\n",
    "def sl20(price):\n",
    "    # helper function to calculate 20% below current price\n",
    "    return price * 0.8\n",
    "\n",
    "def sl10(price):\n",
    "    # helper function to calculate 10% below current price\n",
    "    return price * 0.9"
   ]
  },
  {
   "cell_type": "markdown",
   "metadata": {
    "application/vnd.databricks.v1+cell": {
     "cellMetadata": {
      "byteLimit": 2048000,
      "rowLimit": 10000
     },
     "inputWidgets": {},
     "nuid": "33bc33da-9c74-4900-8e7b-8d084dfa079f",
     "showTitle": false,
     "title": ""
    }
   },
   "source": [
    "### Reading in Data\n",
    "\n",
    "These datasets are read in assuming you have a connection to AmberLens data via one of our data partners. Below is a code snippet that you can use to build similar table names:\n",
    "\n",
    "```\n",
    "%sql\n",
    "CREATE TABLE IF NOT EXISTS <tablename>\n",
    "USING snowflake\n",
    "OPTIONS (\n",
    "   host        '<hostname>.snowflakecomputing.com',\n",
    "   port        '443',\n",
    "   user        '<username>',\n",
    "   password    '<password>',\n",
    "   sfWarehouse '<warehouse>',\n",
    "   sfRole      'DATABRICKS',\n",
    "   database    'AMBERDATA_LOADING',\n",
    "   schema      'RAW_MARKET',\n",
    "   dbtable     'SILVER_SPOT_PRICE_BTC_USD_DAILY'\n",
    ");\n",
    "```"
   ]
  },
  {
   "cell_type": "code",
   "execution_count": 0,
   "metadata": {
    "application/vnd.databricks.v1+cell": {
     "cellMetadata": {
      "byteLimit": 2048000,
      "rowLimit": 10000
     },
     "inputWidgets": {},
     "nuid": "1b426e2a-3bf0-4296-9300-8c268d8c9402",
     "showTitle": false,
     "title": ""
    }
   },
   "outputs": [],
   "source": [
    "from pyspark.sql.functions import col, avg, log, abs\n",
    "from pyspark.sql.window import Window\n",
    "\n",
    "# close becasue that is how backtesting expects it\n",
    "# multiply price by 0.000001 to get microBTC\n",
    "price_sdf = spark.sql(\"select timestamp as date, price * 0.000001 as Close from analytics.silver_spot_price_btc_usd_daily\")\n",
    "\n",
    "# Basic strategies\n",
    "rc_sdf = spark.sql(\"select date, realizedCap from analytics.gold_btc_realized_cap_daily\")\n",
    "yardstick_sdf = spark.sql(\"select date, yardstick from analytics.gold_btc_yardstick_daily\")\n",
    "mvrv_sdf = spark.sql(\"select date, mvrvZ, marketCap from analytics.gold_btc_mvrv_daily\")\n",
    "rr_sdf = spark.sql(\"select date, reserveRisk from analytics.gold_btc_reserve_risk_daily\")\n",
    "pic_sdf = spark.sql(\"select date, MA111Day, piCycle from analytics.gold_btc_price_ma\")\n",
    "rp_sdf = spark.sql(\"select date, realizedPrice from analytics.gold_btc_realized_price_daily\")\n",
    "nupl_sdf = spark.sql(\"select date, nupl from analytics.gold_btc_nupl_daily\")\n",
    "mnhc_sdf = spark.sql(\"select date, hodlNetPositionChangeMonthly from analytics.gold_btc_hodl_net_position_change_monthly\")\n",
    "pm_sdf = spark.sql(\"select date, puellMultiple from analytics.gold_btc_puell_multiple_daily\")\n",
    "mss_sdf = spark.sql(\"select date, minerSupplySpent from analytics.gold_btc_miner_supply_mined_spent_daily\")\n",
    "mpi_sdf = spark.sql(\"select date, minerPositionIndex from analytics.gold_btc_miner_position_index_daily\")\n",
    "\n",
    "# Enriched\n",
    "sip_sdf = (spark.sql(\"select date, supplyInProfitPercentage from analytics.gold_btc_supply_in_profit_daily\")\n",
    "           .withColumn(\"MA30DaySIPP\", avg(\"supplyInProfitPercentage\").over(Window().orderBy(\"date\").rowsBetween(-30, 0)))\n",
    ")\n",
    "am_sdf = spark.sql(\"\"\"select \n",
    "                   date, \n",
    "                   30_day_new_address_ma as MA30DayNewAddress, \n",
    "                   365_day_new_address_ma as MA365DayNewAddress,\n",
    "                   active_addresses as activeAddresses,\n",
    "                   passive_addresses as passiveAddresses\n",
    "                   from analytics.gold_btc_address_momentum_daily\n",
    "\"\"\")\n",
    "\n",
    "window = Window.orderBy(\"date\")\n",
    "# lis_window = Window.orderBy(\"date\").rowsBetween(Window.unboundedPreceding, Window.unboundedFollowing)\n",
    "\n",
    "lis_sdf = (spark.sql(\"select date, liqudity_rank, total_balance from analytics.gold_btc_liquid_illiquid_supply where date >= '2015-01-01'\")\n",
    "            .groupBy(\"date\")\n",
    "            .pivot(\"liqudity_rank\")\n",
    "            .sum(\"total_balance\")\n",
    "            .select(\"date\", \"illiquid\", (col(\"liquid\") + col(\"highly liquid\")).alias(\"liquid\"))\n",
    "            .withColumn(\"prevLiquid\", lag(\"liquid\", 30).over(window))\n",
    "            .withColumn(\"prevIlliquid\", lag(\"illiquid\", 30).over(window))\n",
    "            .withColumn(\"liquidDelta\", col(\"liquid\") - col(\"prevLiquid\"))\n",
    "            .withColumn(\"illiquidDelta\", col(\"illiquid\") - col(\"prevIlliquid\"))\n",
    "            .withColumn(\"liquidRelativeGrowth\", col(\"liquidDelta\") / col(\"prevLiquid\"))\n",
    "            .withColumn(\"illiquidRelativeGrowth\", col(\"illiquidDelta\") / col(\"prevIlliquid\"))\n",
    "            .withColumn(\"cumLiquidDelta\", abs(sum(\"liquidDelta\").over(window)))\n",
    "            .withColumn(\"cumIlliquidDelta\", abs(sum(\"illiquidDelta\").over(window)))\n",
    "            .select(\"date\", \"liquidRelativeGrowth\")\n",
    ")\n",
    "\n",
    "hw_sdf = (spark.sql(\"\"\"\n",
    "    with max_rundate as (select max(rundate) as rundate from analytics.btc_hodl_wave)\n",
    "    select \n",
    "        date,\n",
    "        (utxo_value_12m_18m + utxo_value_18m_24m +  \n",
    "        utxo_value_2y_3y + utxo_value_3y_5y + utxo_value_5y_8y +\n",
    "        utxo_value_greater_8y) / total_utxo_value\n",
    "        as gte1yrUTXOValuePct\n",
    "    from analytics.btc_hodl_wave\n",
    "    where rundate = (select rundate from max_rundate)\n",
    "\"\"\"))\n",
    "\n",
    "bucket_balance_cols = [\n",
    "    \"0-0.000001 BTC\",\n",
    "    \"0.000001-0.00001 BTC\",\n",
    "    \"0.00001-0.0001 BTC\",\n",
    "    \"0.0001-0.001 BTC\",\n",
    "    \"0.001-0.01 BTC\",\n",
    "    \"0.01-0.1 BTC\",\n",
    "    \"0.1-1 BTC\",\n",
    "    \"1-10 BTC\",\n",
    "    \"10-100 BTC\",\n",
    "    \"100-1000 BTC\",\n",
    "    \"1000-10000 BTC\",\n",
    "    \"10000+ BTC\"\n",
    "]\n",
    "\n",
    "bbc_sdf = (\n",
    "    spark.sql(\"select * from analytics.gold_btc_balance_bucket_daily\")\n",
    "    .groupBy(\"date\")\n",
    "    .pivot(\"bucket\")\n",
    "    .sum(\"bucketSize\")\n",
    "    .withColumn(\"totalCount\", ((col(\"`0-0.000001 BTC`\") + col(\"`0.000001-0.00001 BTC`\") + col(\"`0.00001-0.0001 BTC`\") +\n",
    "                    col(\"`0.0001-0.001 BTC`\") + col(\"`0.001-0.01 BTC`\") + col(\"`0.01-0.1 BTC`\") +\n",
    "                    col(\"`0.1-1 BTC`\") + col(\"`1-10 BTC`\") + col(\"`10-100 BTC`\") +\n",
    "                    col(\"100-1000 BTC\") + col(\"1000-10000 BTC\") + col(\"10000+ BTC\"))))\n",
    "    .withColumn(\"numWhales\", (col(\"1-10 BTC\") + col(\"10-100 BTC\") + col(\"100-1000 BTC\")+ col(\"1000-10000 BTC\") + col(\"10000+ BTC\")))\n",
    "    .withColumn(\"numWhalesPrev\", lag(\"numWhales\").over(window))\n",
    "    .withColumn(\"whaleDelta\", col(\"numWhales\") - col(\"numWhalesPrev\"))\n",
    "    .select(\"date\", \"whaleDelta\") \n",
    ")\n",
    "\n",
    "bbs_sdf = (\n",
    "    spark.sql(\"select * from analytics.gold_btc_balance_bucket_daily\")\n",
    "    .groupBy(\"date\")\n",
    "    .pivot(\"bucket\")\n",
    "    .sum(\"supplyHeld\")\n",
    "    .withColumn(\"totalSupply\", ((col(\"`0-0.000001 BTC`\") + col(\"`0.000001-0.00001 BTC`\") + col(\"`0.00001-0.0001 BTC`\") +\n",
    "                    col(\"`0.0001-0.001 BTC`\") + col(\"`0.001-0.01 BTC`\") + col(\"`0.01-0.1 BTC`\") +\n",
    "                    col(\"`0.1-1 BTC`\") + col(\"`1-10 BTC`\") + col(\"`10-100 BTC`\") +\n",
    "                    col(\"100-1000 BTC\") + col(\"1000-10000 BTC\") + col(\"10000+ BTC\"))))\n",
    "    .withColumn(\"whaleSupply\", (col(\"1-10 BTC\") + col(\"10-100 BTC\") + col(\"100-1000 BTC\")+ col(\"1000-10000 BTC\") + col(\"10000+ BTC\")))\n",
    "    .withColumn(\"whaleSupplyPrev\", lag(\"whaleSupply\").over(window))\n",
    "    .withColumn(\"whaleSupplyDelta\", col(\"whaleSupply\") - col(\"whaleSupplyPrev\"))\n",
    "    .select(\"date\", \"whaleSupply\", \"whaleSupplyDelta\") \n",
    ")\n",
    "\n",
    "\n",
    "feature_sdf = (price_sdf\n",
    "    .join(rc_sdf, on=[\"date\"], how=\"left\")\n",
    "    .join(yardstick_sdf, on=[\"date\"], how=\"left\")\n",
    "    .join(mvrv_sdf, on=[\"date\"], how=\"left\")\n",
    "    .join(rr_sdf, on=[\"date\"], how=\"left\")\n",
    "    .join(pic_sdf, on=[\"date\"], how=\"left\")\n",
    "    .join(rp_sdf, on=[\"date\"], how=\"left\")\n",
    "    .join(nupl_sdf, on=[\"date\"], how=\"left\")\n",
    "    .join(mnhc_sdf, on=[\"date\"], how=\"left\")\n",
    "    .join(pm_sdf, on=[\"date\"], how=\"left\")\n",
    "    .join(mss_sdf, on=[\"date\"], how=\"left\")\n",
    "    .join(mpi_sdf, on=[\"date\"], how=\"left\")\n",
    "    .join(sip_sdf, on=[\"date\"], how=\"left\")\n",
    "    .join(am_sdf, on=[\"date\"], how=\"left\")\n",
    "    .join(lis_sdf, on=[\"date\"], how=\"left\")\n",
    "    .join(hw_sdf, on=[\"date\"], how=\"left\")\n",
    "    .join(bbc_sdf, on=[\"date\"], how=\"left\")\n",
    "    .join(bbs_sdf, on=[\"date\"], how=\"left\")\n",
    "    .filter(\"date >= '2015-01-01'\")\n",
    "    .filter(\"date < '2024-07-10'\") # end of backtesting\n",
    ")"
   ]
  },
  {
   "cell_type": "code",
   "execution_count": 0,
   "metadata": {
    "application/vnd.databricks.v1+cell": {
     "cellMetadata": {
      "byteLimit": 2048000,
      "rowLimit": 10000
     },
     "inputWidgets": {},
     "nuid": "9a129972-b505-44c3-9922-caf9b036898a",
     "showTitle": false,
     "title": ""
    }
   },
   "outputs": [],
   "source": [
    "feature_df = feature_sdf.toPandas().set_index('date')\n",
    "feature_df[\"Open\"] = feature_df[\"High\"] = feature_df[\"Low\"] = feature_df[\"Volume\"] = feature_df[\"Close\"] # backtesting requirement, explain we don'tre about OHLC, only close price fo\n",
    "feature_df.sort_index(inplace=True)"
   ]
  },
  {
   "cell_type": "markdown",
   "metadata": {
    "application/vnd.databricks.v1+cell": {
     "cellMetadata": {
      "byteLimit": 2048000,
      "rowLimit": 10000
     },
     "inputWidgets": {},
     "nuid": "adfdadfd-cfd2-4196-af5f-a07bca6db09f",
     "showTitle": false,
     "title": ""
    }
   },
   "source": [
    "## Baseline Strategies\n"
   ]
  },
  {
   "cell_type": "markdown",
   "metadata": {
    "application/vnd.databricks.v1+cell": {
     "cellMetadata": {
      "byteLimit": 2048000,
      "rowLimit": 10000
     },
     "inputWidgets": {},
     "nuid": "d8be0715-50fa-4beb-ab52-6ec7505cd9a1",
     "showTitle": false,
     "title": ""
    }
   },
   "source": [
    "### Buy and HODL"
   ]
  },
  {
   "cell_type": "code",
   "execution_count": 0,
   "metadata": {
    "application/vnd.databricks.v1+cell": {
     "cellMetadata": {
      "byteLimit": 2048000,
      "rowLimit": 10000
     },
     "inputWidgets": {},
     "nuid": "a158390d-d276-4ae8-ba0d-29b7bf711e53",
     "showTitle": false,
     "title": ""
    }
   },
   "outputs": [],
   "source": [
    "class BuyAndHold(Strategy):\n",
    "    def init(self):\n",
    "        # This strategy doesn't need any initialization\n",
    "        pass\n",
    "\n",
    "    def next(self):\n",
    "        # Buy on the first day if not already in position\n",
    "        if not self.position:\n",
    "            self.buy()\n",
    "\n",
    "df = run_backtest(feature_df, BuyAndHold, \"Buy and Hold\")\n",
    "# display(spark.createDataFrame(\n",
    "#     pd.DataFrame(list(df.items()), columns=['Metric', 'Value']).astype(str).set_index(\"Metric\").drop([\"_strategy\", \"_equity_curve\", \"_trades\"])\n",
    "# ))\n",
    "# spark.createDataFrame(pd.DataFrame(df.drop([\"_strategy\", \"_equity_curve\", \"_trades\"])).to_dict(orient=\"records\"))"
   ]
  },
  {
   "cell_type": "markdown",
   "metadata": {
    "application/vnd.databricks.v1+cell": {
     "cellMetadata": {
      "byteLimit": 2048000,
      "rowLimit": 10000
     },
     "inputWidgets": {},
     "nuid": "9fd80ccf-acf7-494f-9051-e53675de54fb",
     "showTitle": false,
     "title": ""
    }
   },
   "source": [
    "### Bitcoin Price and MA"
   ]
  },
  {
   "cell_type": "code",
   "execution_count": 0,
   "metadata": {
    "application/vnd.databricks.v1+cell": {
     "cellMetadata": {
      "byteLimit": 2048000,
      "rowLimit": 10000
     },
     "inputWidgets": {},
     "nuid": "614c07a8-608f-465d-9dba-9f9f58e31d2d",
     "showTitle": false,
     "title": ""
    }
   },
   "outputs": [],
   "source": [
    "class SmaCross(Strategy):\n",
    "    n1 = 10\n",
    "    n2 = 30\n",
    "\n",
    "    def init(self):\n",
    "        close = self.data.Close\n",
    "        self.sma1 = self.I(SMA, close, self.n1)\n",
    "        self.sma2 = self.I(SMA, close, self.n2)\n",
    "\n",
    "    def next(self):\n",
    "        if crossover(self.sma1, self.sma2):\n",
    "            self.buy()\n",
    "        elif crossover(self.sma2, self.sma1):\n",
    "            self.position.close()\n",
    "\n",
    "run_backtest(feature_df, SmaCross, \"SMA Cross\")\n"
   ]
  },
  {
   "cell_type": "code",
   "execution_count": 0,
   "metadata": {
    "application/vnd.databricks.v1+cell": {
     "cellMetadata": {
      "byteLimit": 2048000,
      "rowLimit": 10000
     },
     "inputWidgets": {},
     "nuid": "3b34c3c9-a165-4e03-aaea-a2d8c0419030",
     "showTitle": false,
     "title": ""
    }
   },
   "outputs": [],
   "source": [
    "class SmaCrossSL(Strategy):\n",
    "    n1 = 10\n",
    "    n2 = 30\n",
    "\n",
    "    def init(self):\n",
    "        close = self.data.Close\n",
    "        self.sma1 = self.I(SMA, close, self.n1)\n",
    "        self.sma2 = self.I(SMA, close, self.n2)\n",
    "\n",
    "    def next(self):\n",
    "        if crossover(self.sma1, self.sma2):\n",
    "            self.buy(sl=sl10(self.data.Close[-1]))\n",
    "        elif crossover(self.sma2, self.sma1):\n",
    "            self.position.close()\n",
    "\n",
    "\n",
    "run_backtest(feature_df, SmaCrossSL, \"SMA Cross + SL\")\n"
   ]
  },
  {
   "cell_type": "markdown",
   "metadata": {
    "application/vnd.databricks.v1+cell": {
     "cellMetadata": {
      "byteLimit": 2048000,
      "rowLimit": 10000
     },
     "inputWidgets": {},
     "nuid": "9f26a904-c035-41c4-becf-4e4840fbe1e2",
     "showTitle": false,
     "title": ""
    }
   },
   "source": [
    "## Basic Strategies"
   ]
  },
  {
   "cell_type": "markdown",
   "metadata": {
    "application/vnd.databricks.v1+cell": {
     "cellMetadata": {
      "byteLimit": 2048000,
      "rowLimit": 10000
     },
     "inputWidgets": {},
     "nuid": "e5429f12-bfba-4131-b1ed-ac6108a0c66e",
     "showTitle": false,
     "title": ""
    }
   },
   "source": [
    "### Realized Cap\n",
    "* Buy: Realized cap is lower than market cap\n",
    "* Sell: stop loss 20% or take profit of 1000%"
   ]
  },
  {
   "cell_type": "code",
   "execution_count": 0,
   "metadata": {
    "application/vnd.databricks.v1+cell": {
     "cellMetadata": {
      "byteLimit": 2048000,
      "rowLimit": 10000
     },
     "inputWidgets": {},
     "nuid": "64d4ef9d-7a3a-43ee-8f99-314431351b5e",
     "showTitle": false,
     "title": ""
    }
   },
   "outputs": [],
   "source": [
    "class RealizedCapSL(Strategy):\n",
    "    def init(self):\n",
    "        pass\n",
    "\n",
    "    def next(self):\n",
    "        if crossover(self.data.marketCap, self.data.realizedCap):\n",
    "            self.buy(sl=sl10(self.data.Close[-1]), tp=self.data.Close[-1] * 10)\n",
    "\n",
    "run_backtest(feature_df, RealizedCapSL, \"Realized Cap \")"
   ]
  },
  {
   "cell_type": "code",
   "execution_count": 0,
   "metadata": {
    "application/vnd.databricks.v1+cell": {
     "cellMetadata": {
      "byteLimit": 2048000,
      "rowLimit": 10000
     },
     "inputWidgets": {},
     "nuid": "3cb28b2a-38dc-4341-b3b8-8c204d3ea6b6",
     "showTitle": false,
     "title": ""
    }
   },
   "outputs": [],
   "source": [
    "class RealizedCapPiCycle(TrailingStrategy):\n",
    "\n",
    "    def init(self):\n",
    "        super().init()\n",
    "\n",
    "    def next(self):\n",
    "        if crossover(self.data.marketCap, self.data.realizedCap):\n",
    "            self.buy()\n",
    "\n",
    "        elif crossover(self.data.MA111Day, self.data.piCycle):\n",
    "            self.position.close()\n",
    "\n",
    "run_backtest(feature_df, RealizedCapPiCycle, \"Realized Cap + Pi Cycle Top\")"
   ]
  },
  {
   "cell_type": "code",
   "execution_count": 0,
   "metadata": {
    "application/vnd.databricks.v1+cell": {
     "cellMetadata": {
      "byteLimit": 2048000,
      "rowLimit": 10000
     },
     "inputWidgets": {},
     "nuid": "2eb833b2-9f76-4c91-9d80-bf97d20d533f",
     "showTitle": false,
     "title": ""
    }
   },
   "outputs": [],
   "source": [
    "class RealizedCapPiCycleSL(TrailingStrategy):\n",
    "\n",
    "    def init(self):\n",
    "        super().init()\n",
    "\n",
    "    def next(self):\n",
    "        if crossover(self.data.marketCap, self.data.realizedCap):\n",
    "            self.buy(sl=sl10(self.data.Close[-1]))\n",
    "\n",
    "        elif crossover(self.data.MA111Day, self.data.piCycle):\n",
    "            self.position.close()\n",
    "\n",
    "run_backtest(feature_df, RealizedCapPiCycle, \"Realized Cap + Pi Cycle Top + SL\")"
   ]
  },
  {
   "cell_type": "markdown",
   "metadata": {
    "application/vnd.databricks.v1+cell": {
     "cellMetadata": {
      "byteLimit": 2048000,
      "rowLimit": 10000
     },
     "inputWidgets": {},
     "nuid": "9b398096-368b-4e6f-a73c-1fbc8d514afa",
     "showTitle": false,
     "title": ""
    }
   },
   "source": [
    "### Bitcoin Yardstick\n",
    "* Buy: Yardstick < -1\n",
    "* Sell: Yardstick > 2"
   ]
  },
  {
   "cell_type": "code",
   "execution_count": 0,
   "metadata": {
    "application/vnd.databricks.v1+cell": {
     "cellMetadata": {
      "byteLimit": 2048000,
      "rowLimit": 10000
     },
     "inputWidgets": {},
     "nuid": "d9352a1f-eca6-4672-94d7-41710e6d7e2b",
     "showTitle": false,
     "title": ""
    }
   },
   "outputs": [],
   "source": [
    "class BitcoinYardstick(Strategy):\n",
    "  def init(self):\n",
    "    pass\n",
    "\n",
    "  def next(self):\n",
    "\n",
    "    if self.data.yardstick[-1] < -1:\n",
    "      self.buy()\n",
    "    elif self.position and self.data.yardstick[-1] > 2:\n",
    "      self.position.close()\n",
    "\n",
    "stats = run_backtest(feature_df, BitcoinYardstick, \"Bitcoin Yardstick\")"
   ]
  },
  {
   "cell_type": "code",
   "execution_count": 0,
   "metadata": {
    "application/vnd.databricks.v1+cell": {
     "cellMetadata": {
      "byteLimit": 2048000,
      "rowLimit": 10000
     },
     "inputWidgets": {},
     "nuid": "09f05b25-d451-4998-9cb0-b13881c8229e",
     "showTitle": false,
     "title": ""
    }
   },
   "outputs": [],
   "source": [
    "class BitcoinYardstickSL(Strategy):\n",
    "  def init(self):\n",
    "    pass\n",
    "\n",
    "  def next(self):\n",
    "\n",
    "    if self.data.yardstick[-1] < -1:\n",
    "      self.buy(sl=sl10(self.data.Close[-1]))\n",
    "    elif self.position and self.data.yardstick[-1] > 2:\n",
    "      self.position.close()\n",
    "\n",
    "stats = run_backtest(feature_df, BitcoinYardstickSL, \"Bitcoin Yardstick + SL\")"
   ]
  },
  {
   "cell_type": "markdown",
   "metadata": {
    "application/vnd.databricks.v1+cell": {
     "cellMetadata": {
      "byteLimit": 2048000,
      "rowLimit": 10000
     },
     "inputWidgets": {},
     "nuid": "231d8149-db6a-4705-b0fa-84e92eac2f27",
     "showTitle": false,
     "title": ""
    }
   },
   "source": [
    "### MVRV-Z\n",
    "* Buy: Value < -1\n",
    "* Sell: Value > 3"
   ]
  },
  {
   "cell_type": "code",
   "execution_count": 0,
   "metadata": {
    "application/vnd.databricks.v1+cell": {
     "cellMetadata": {
      "byteLimit": 2048000,
      "rowLimit": 10000
     },
     "inputWidgets": {},
     "nuid": "3b453ab5-ba40-48bd-bad5-fb4cd477d54e",
     "showTitle": false,
     "title": ""
    }
   },
   "outputs": [],
   "source": [
    "class MVRV(Strategy):\n",
    "  def init(self):\n",
    "    pass\n",
    "\n",
    "  def next(self):\n",
    "\n",
    "    if self.data.mvrvZ[-1] < -1:\n",
    "      self.buy()\n",
    "    elif self.data.mvrvZ[-1] > 3:\n",
    "      self.position.close()\n",
    "\n",
    "stats = run_backtest(feature_df, MVRV, \"MVRV\")"
   ]
  },
  {
   "cell_type": "code",
   "execution_count": 0,
   "metadata": {
    "application/vnd.databricks.v1+cell": {
     "cellMetadata": {
      "byteLimit": 2048000,
      "rowLimit": 10000
     },
     "inputWidgets": {},
     "nuid": "995a0b69-8acb-4605-90fe-12b069045396",
     "showTitle": false,
     "title": ""
    }
   },
   "outputs": [],
   "source": [
    "class MVRVSL(Strategy):\n",
    "  def init(self):\n",
    "    pass\n",
    "\n",
    "  def next(self):\n",
    "\n",
    "    if self.data.mvrvZ[-1] < -1:\n",
    "      self.buy(sl=sl10(self.data.Close[-1]))\n",
    "    elif self.data.mvrvZ[-1] > 3:\n",
    "      self.position.close()\n",
    "\n",
    "stats = run_backtest(feature_df, MVRVSL, \"MVRV + SL\")"
   ]
  },
  {
   "cell_type": "markdown",
   "metadata": {
    "application/vnd.databricks.v1+cell": {
     "cellMetadata": {
      "byteLimit": 2048000,
      "rowLimit": 10000
     },
     "inputWidgets": {},
     "nuid": "21738fcf-4a79-4d7c-9cf2-b2493ca5efaa",
     "showTitle": false,
     "title": ""
    }
   },
   "source": [
    "### Reserve Risk\n",
    "* Buy: RR < 0.001\n",
    "* Sell: RR > 0.003 "
   ]
  },
  {
   "cell_type": "code",
   "execution_count": 0,
   "metadata": {
    "application/vnd.databricks.v1+cell": {
     "cellMetadata": {
      "byteLimit": 2048000,
      "rowLimit": 10000
     },
     "inputWidgets": {},
     "nuid": "0262515d-5cd3-41b6-9be4-3d1064f7e96a",
     "showTitle": false,
     "title": ""
    }
   },
   "outputs": [],
   "source": [
    "class ReserveRisk(Strategy):\n",
    "  def init(self):\n",
    "    pass\n",
    "\n",
    "  def next(self):\n",
    "    if self.data.reserveRisk[-1] < 0.001:\n",
    "      self.buy()\n",
    "    elif self.data.reserveRisk[-1] > 0.003:\n",
    "      self.position.close()\n",
    "\n",
    "stats = run_backtest(feature_df, ReserveRisk, \"Reserve Risk\")"
   ]
  },
  {
   "cell_type": "code",
   "execution_count": 0,
   "metadata": {
    "application/vnd.databricks.v1+cell": {
     "cellMetadata": {
      "byteLimit": 2048000,
      "rowLimit": 10000
     },
     "inputWidgets": {},
     "nuid": "553d63d7-4557-40c4-ab91-55a2511f7941",
     "showTitle": false,
     "title": ""
    }
   },
   "outputs": [],
   "source": [
    "class ReserveRiskSL(Strategy):\n",
    "  def init(self):\n",
    "    pass\n",
    "\n",
    "  def next(self):\n",
    "\n",
    "    if self.data.reserveRisk[-1] < 0.001:\n",
    "      self.buy(sl=sl10(self.data.Close[-1]))\n",
    "    elif self.data.reserveRisk[-1] > 0.003:\n",
    "      self.position.close()\n",
    "\n",
    "stats = run_backtest(feature_df, ReserveRiskSL, \"Reserve Risk + SL\")"
   ]
  },
  {
   "cell_type": "markdown",
   "metadata": {
    "application/vnd.databricks.v1+cell": {
     "cellMetadata": {
      "byteLimit": 2048000,
      "rowLimit": 10000
     },
     "inputWidgets": {},
     "nuid": "5e184f2f-3ed1-49c3-90fb-1f5c40fab96d",
     "showTitle": false,
     "title": ""
    }
   },
   "source": [
    "### Pi Cycle Top Indicator\n",
    "* Buy: If you have no position\n",
    "* Sell: 111 MA and Pi Cycle cross\n",
    "\n",
    "\n"
   ]
  },
  {
   "cell_type": "code",
   "execution_count": 0,
   "metadata": {
    "application/vnd.databricks.v1+cell": {
     "cellMetadata": {
      "byteLimit": 2048000,
      "rowLimit": 10000
     },
     "inputWidgets": {},
     "nuid": "7492130c-10ac-4f93-9625-1413902911a1",
     "showTitle": false,
     "title": ""
    }
   },
   "outputs": [],
   "source": [
    "class PiCycle(Strategy):\n",
    "  def init(self):\n",
    "    pass\n",
    "\n",
    "  def next(self):\n",
    "    price = self.data.Close[-1]\n",
    "    if not self.position: # buy if not holding anything\n",
    "        self.buy()\n",
    "\n",
    "    if cross(self.data.MA111Day, self.data.piCycle):\n",
    "        self.position.close()\n",
    "        self.buy() # buy using equity earned from closing position\n",
    "\n",
    "\n",
    "stats = run_backtest(feature_df, PiCycle, \"Pi Cycle\")"
   ]
  },
  {
   "cell_type": "code",
   "execution_count": 0,
   "metadata": {
    "application/vnd.databricks.v1+cell": {
     "cellMetadata": {
      "byteLimit": 2048000,
      "rowLimit": 10000
     },
     "inputWidgets": {},
     "nuid": "a6b52e3f-9c22-43cb-81c8-540c8b11cf56",
     "showTitle": false,
     "title": ""
    }
   },
   "outputs": [],
   "source": [
    "class PiCycleSL(Strategy):\n",
    "  def init(self):\n",
    "    pass\n",
    "\n",
    "  def next(self):\n",
    "    price = self.data.Close[-1]\n",
    "    if not self.position: # buy if not holding anything\n",
    "        self.buy(sl=sl10(price))\n",
    "\n",
    "    if cross(self.data.MA111Day, self.data.piCycle):\n",
    "        self.position.close()\n",
    "        self.buy() # buy using equity earned from closing position\n",
    "\n",
    "\n",
    "stats = run_backtest(feature_df, PiCycleSL, \"Pi Cycle + SL\")"
   ]
  },
  {
   "cell_type": "markdown",
   "metadata": {
    "application/vnd.databricks.v1+cell": {
     "cellMetadata": {
      "byteLimit": 2048000,
      "rowLimit": 10000
     },
     "inputWidgets": {},
     "nuid": "48ed3804-e43b-48bc-8542-bc0c7638c062",
     "showTitle": false,
     "title": ""
    }
   },
   "source": [
    "\n",
    "### Realized Price\n",
    "* Buy: realized price < market price\n",
    "* Sell: Stop loss or take profit at 3x position\n",
    "\n",
    "Ends up being the same as realized cap"
   ]
  },
  {
   "cell_type": "code",
   "execution_count": 0,
   "metadata": {
    "application/vnd.databricks.v1+cell": {
     "cellMetadata": {
      "byteLimit": 2048000,
      "rowLimit": 10000
     },
     "inputWidgets": {},
     "nuid": "b11939d9-e679-4c8c-add2-6e3a608891af",
     "showTitle": false,
     "title": ""
    }
   },
   "outputs": [],
   "source": [
    "class RealizedPricePiCycle(Strategy):\n",
    "\n",
    "    def init(self):\n",
    "        self.realizedPrice = self.data.realizedPrice * 0.000001\n",
    "        super().init()\n",
    "\n",
    "    def next(self):\n",
    "        if cross(self.realizedPrice, self.data.Close):\n",
    "            self.buy()\n",
    "\n",
    "        elif cross(self.data.MA111Day, self.data.piCycle):\n",
    "            self.position.close()\n",
    "\n",
    "\n",
    "run_backtest(feature_df, RealizedPricePiCycle, \"Realized Price + Pi Cycle\")"
   ]
  },
  {
   "cell_type": "code",
   "execution_count": 0,
   "metadata": {
    "application/vnd.databricks.v1+cell": {
     "cellMetadata": {
      "byteLimit": 2048000,
      "rowLimit": 10000
     },
     "inputWidgets": {},
     "nuid": "72293aee-bb7c-495e-bd6a-cc34454c718a",
     "showTitle": false,
     "title": ""
    }
   },
   "outputs": [],
   "source": [
    "class RealizedPricePiCycleSL(Strategy):\n",
    "\n",
    "    def init(self):\n",
    "        self.realizedPrice = self.data.realizedPrice * 0.000001\n",
    "        super().init()\n",
    "\n",
    "    def next(self):\n",
    "        if cross(self.realizedPrice, self.data.Close):\n",
    "            self.buy(sl=sl10(self.data.Close[-1]))\n",
    "\n",
    "        elif cross(self.data.MA111Day, self.data.piCycle):\n",
    "            self.position.close()\n",
    "\n",
    "\n",
    "run_backtest(feature_df, RealizedPricePiCycleSL, \"Realized Price + Pi Cycle + SL\")"
   ]
  },
  {
   "cell_type": "code",
   "execution_count": 0,
   "metadata": {
    "application/vnd.databricks.v1+cell": {
     "cellMetadata": {
      "byteLimit": 2048000,
      "rowLimit": 10000
     },
     "inputWidgets": {},
     "nuid": "5c5cc681-ed50-4b28-baa2-7145f1a9be9f",
     "showTitle": false,
     "title": ""
    }
   },
   "outputs": [],
   "source": [
    "class RealizedPriceSLTP(Strategy):\n",
    "\n",
    "    def init(self):\n",
    "        self.realizedPrice = self.I(lambda: self.data.realizedPrice * 0.000001)\n",
    "\n",
    "    def next(self):\n",
    "        price = self.data.Close[-1]\n",
    "        if crossover(self.data.Close, self.realizedPrice):\n",
    "            self.buy(sl=sl10(price), tp=price*3)\n",
    "\n",
    "\n",
    "run_backtest(feature_df, RealizedPriceSLTP, \"Realized Price + SL/TP\")"
   ]
  },
  {
   "cell_type": "markdown",
   "metadata": {
    "application/vnd.databricks.v1+cell": {
     "cellMetadata": {
      "byteLimit": 2048000,
      "rowLimit": 10000
     },
     "inputWidgets": {},
     "nuid": "425e9619-ca0d-4021-84e4-2f4a53a9de5c",
     "showTitle": false,
     "title": ""
    }
   },
   "source": [
    "### NUPL\n",
    "* Buy: If NUPL > 0.5, price is high so sell\n",
    "* Sell: If NUPL < 0, price is low so buy"
   ]
  },
  {
   "cell_type": "code",
   "execution_count": 0,
   "metadata": {
    "application/vnd.databricks.v1+cell": {
     "cellMetadata": {
      "byteLimit": 2048000,
      "rowLimit": 10000
     },
     "inputWidgets": {},
     "nuid": "a01b53be-febb-44e3-b048-c52c71fb01ff",
     "showTitle": false,
     "title": ""
    }
   },
   "outputs": [],
   "source": [
    "class NUPL(Strategy):\n",
    "  def init(self):\n",
    "        super().init()\n",
    "        \n",
    "  def next(self):\n",
    "    if self.data.nupl[-1] < 0:\n",
    "        self.buy()\n",
    "    elif self.data.nupl[-1] > 0.5:\n",
    "        self.position.close()\n",
    "\n",
    "\n",
    "stats = run_backtest(feature_df, NUPL, \"NUPL\")"
   ]
  },
  {
   "cell_type": "code",
   "execution_count": 0,
   "metadata": {
    "application/vnd.databricks.v1+cell": {
     "cellMetadata": {
      "byteLimit": 2048000,
      "rowLimit": 10000
     },
     "inputWidgets": {},
     "nuid": "a166a43f-08ca-4c29-b158-d167cca5c176",
     "showTitle": false,
     "title": ""
    }
   },
   "outputs": [],
   "source": [
    "class NUPLSL(Strategy):\n",
    "  def init(self):\n",
    "        super().init()\n",
    "        \n",
    "  def next(self):\n",
    "    if self.data.nupl[-1] < 0:\n",
    "        self.buy(sl=sl10(self.data.Close[-1]))\n",
    "    elif self.data.nupl[-1] > 0.5:\n",
    "        self.position.close()\n",
    "\n",
    "\n",
    "stats = run_backtest(feature_df, NUPLSL, \"NUPL + SL\")"
   ]
  },
  {
   "cell_type": "markdown",
   "metadata": {
    "application/vnd.databricks.v1+cell": {
     "cellMetadata": {
      "byteLimit": 2048000,
      "rowLimit": 10000
     },
     "inputWidgets": {},
     "nuid": "cca93ba5-e9d2-42a7-9020-c8315f9c53b1",
     "showTitle": false,
     "title": ""
    }
   },
   "source": [
    "### Bitcoin HODLed or Lost / HODL Net Position Change\n",
    "* Buy: If there have been two consecutive months of HODLing\n",
    "* Sell: If there have been two months of consecutive drops, then sell"
   ]
  },
  {
   "cell_type": "code",
   "execution_count": 0,
   "metadata": {
    "application/vnd.databricks.v1+cell": {
     "cellMetadata": {
      "byteLimit": 2048000,
      "rowLimit": 10000
     },
     "inputWidgets": {},
     "nuid": "3387bdee-bcae-48b8-9166-19490fae6834",
     "showTitle": false,
     "title": ""
    }
   },
   "outputs": [],
   "source": [
    "class HODLNetPositionChange(Strategy):\n",
    "  def init(self):\n",
    "    self.hodlNetPositionChangeMonthly = self.data.hodlNetPositionChangeMonthly[~np.isnan(self.data.hodlNetPositionChangeMonthly)]\n",
    "    super().init()\n",
    "        \n",
    "  def next(self):\n",
    "    curr_hnpc = self.data.hodlNetPositionChangeMonthly[-1]\n",
    "    curr_month_search = np.where(self.hodlNetPositionChangeMonthly == curr_hnpc)\n",
    "    if len(curr_month_search[0]) != 0:\n",
    "        curr_month_idx = curr_month_search[0][0]\n",
    "    else:\n",
    "        curr_month_idx = 0\n",
    "    if curr_month_idx == 0:\n",
    "        pass # this is the first month of data, so we should skip doing anything\n",
    "    elif self.hodlNetPositionChangeMonthly[curr_month_idx] > 0 and self.hodlNetPositionChangeMonthly[curr_month_idx - 1] > 0:\n",
    "        self.buy()\n",
    "    elif self.hodlNetPositionChangeMonthly[curr_month_idx] < 0 and self.hodlNetPositionChangeMonthly[curr_month_idx - 1] < 0:\n",
    "        self.position.close()\n",
    "\n",
    "stats = run_backtest(feature_df, HODLNetPositionChange, \"HODL Net Position Change\")"
   ]
  },
  {
   "cell_type": "code",
   "execution_count": 0,
   "metadata": {
    "application/vnd.databricks.v1+cell": {
     "cellMetadata": {
      "byteLimit": 2048000,
      "rowLimit": 10000
     },
     "inputWidgets": {},
     "nuid": "122c2f00-e46e-4405-bb75-150759acef58",
     "showTitle": false,
     "title": ""
    }
   },
   "outputs": [],
   "source": [
    "class HODLNetPositionChangeSL(Strategy):\n",
    "  def init(self):\n",
    "    self.hodlNetPositionChangeMonthly = self.data.hodlNetPositionChangeMonthly[~np.isnan(self.data.hodlNetPositionChangeMonthly)]\n",
    "    super().init()\n",
    "        \n",
    "  def next(self):\n",
    "    curr_hnpc = self.data.hodlNetPositionChangeMonthly[-1]\n",
    "    curr_month_search = np.where(self.hodlNetPositionChangeMonthly == curr_hnpc)\n",
    "    if len(curr_month_search[0]) != 0:\n",
    "        curr_month_idx = curr_month_search[0][0]\n",
    "    else:\n",
    "        curr_month_idx = 0\n",
    "    if curr_month_idx == 0:\n",
    "        pass # this is the first month of data, so we should skip doing anything\n",
    "    elif self.hodlNetPositionChangeMonthly[curr_month_idx] > 0 and self.hodlNetPositionChangeMonthly[curr_month_idx - 1] > 0:\n",
    "        self.buy(sl=sl10(self.data.Close[-1]))\n",
    "    elif self.hodlNetPositionChangeMonthly[curr_month_idx] < 0 and self.hodlNetPositionChangeMonthly[curr_month_idx - 1] < 0:\n",
    "        self.position.close()\n",
    "\n",
    "\n",
    "\n",
    "stats = run_backtest(feature_df, HODLNetPositionChangeSL, \"HODL Net Position Change + SL\")"
   ]
  },
  {
   "cell_type": "markdown",
   "metadata": {
    "application/vnd.databricks.v1+cell": {
     "cellMetadata": {
      "byteLimit": 2048000,
      "rowLimit": 10000
     },
     "inputWidgets": {},
     "nuid": "0b5b4d46-f14b-4078-b359-5d3ed07985c4",
     "showTitle": false,
     "title": ""
    }
   },
   "source": [
    "### Daily Address Activity\n",
    "\n",
    "* Buy: When daily pssive addresses < daily active addresses\n",
    "* Sell: When daily passive addresses > daily active addresses"
   ]
  },
  {
   "cell_type": "code",
   "execution_count": 0,
   "metadata": {
    "application/vnd.databricks.v1+cell": {
     "cellMetadata": {
      "byteLimit": 2048000,
      "rowLimit": 10000
     },
     "inputWidgets": {},
     "nuid": "73fa7e55-045e-4684-9a32-c9e068865053",
     "showTitle": false,
     "title": ""
    }
   },
   "outputs": [],
   "source": [
    "class DailyAddressActivity(Strategy):\n",
    "  def init(self):\n",
    "        super().init()\n",
    "        \n",
    "  def next(self):\n",
    "    if crossover(self.data.activeAddresses, self.data.passiveAddresses):\n",
    "        self.buy()\n",
    "    elif crossover(self.data.passiveAddresses, self.data.activeAddresses):\n",
    "        self.position.close()\n",
    "\n",
    "stats = run_backtest(feature_df, DailyAddressActivity, \"Daily Address Activity\")"
   ]
  },
  {
   "cell_type": "code",
   "execution_count": 0,
   "metadata": {
    "application/vnd.databricks.v1+cell": {
     "cellMetadata": {
      "byteLimit": 2048000,
      "rowLimit": 10000
     },
     "inputWidgets": {},
     "nuid": "5d4bdc2f-15d3-41e2-ac59-ca61cf3b5cf4",
     "showTitle": false,
     "title": ""
    }
   },
   "outputs": [],
   "source": [
    "class DailyAddressActivitySL(Strategy):\n",
    "  def init(self):\n",
    "        super().init()\n",
    "        \n",
    "  def next(self):\n",
    "    if crossover(self.data.activeAddresses, self.data.passiveAddresses):\n",
    "        self.buy(sl=sl10(self.data.Close[-1]))\n",
    "    elif crossover(self.data.passiveAddresses, self.data.activeAddresses):\n",
    "        self.position.close()\n",
    "\n",
    "stats = run_backtest(feature_df, DailyAddressActivitySL, \"Daily Address Activity + SL\")"
   ]
  },
  {
   "cell_type": "markdown",
   "metadata": {
    "application/vnd.databricks.v1+cell": {
     "cellMetadata": {
      "byteLimit": 2048000,
      "rowLimit": 10000
     },
     "inputWidgets": {},
     "nuid": "a8b379f0-9369-43ca-9ccb-a7259769c020",
     "showTitle": false,
     "title": ""
    }
   },
   "source": [
    "### Puell Multiple\n",
    "* If Puell Multiple < 0, then buy\n",
    "* If Puell Multiple > 4 then sell"
   ]
  },
  {
   "cell_type": "code",
   "execution_count": 0,
   "metadata": {
    "application/vnd.databricks.v1+cell": {
     "cellMetadata": {
      "byteLimit": 2048000,
      "rowLimit": 10000
     },
     "inputWidgets": {},
     "nuid": "9e537502-5e11-4c3a-9c5e-2f0eca7873a7",
     "showTitle": false,
     "title": ""
    }
   },
   "outputs": [],
   "source": [
    "class PuellMultiple(Strategy):\n",
    "  def init(self):\n",
    "        super().init()\n",
    "        \n",
    "  def next(self):\n",
    "    if self.data.puellMultiple[-1] < 1:\n",
    "        self.buy()\n",
    "    elif self.data.puellMultiple[-1] > 4:\n",
    "        self.position.close()\n",
    "\n",
    "\n",
    "stats = run_backtest(feature_df, PuellMultiple, \"Puell Multiple\")"
   ]
  },
  {
   "cell_type": "code",
   "execution_count": 0,
   "metadata": {
    "application/vnd.databricks.v1+cell": {
     "cellMetadata": {
      "byteLimit": 2048000,
      "rowLimit": 10000
     },
     "inputWidgets": {},
     "nuid": "fec8909f-385c-4c2c-b50d-34584921d42e",
     "showTitle": false,
     "title": ""
    }
   },
   "outputs": [],
   "source": [
    "class PuellMultipleSL(Strategy):\n",
    "  def init(self):\n",
    "        super().init()\n",
    "        \n",
    "  def next(self):\n",
    "    if self.data.puellMultiple[-1] < 1:\n",
    "        self.buy(sl=sl10(self.data.Close[-1]))\n",
    "    elif self.data.puellMultiple[-1] > 4:\n",
    "        self.position.close()\n",
    "\n",
    "    # self.set_trailing_sl(2)\n",
    "\n",
    "\n",
    "stats = run_backtest(feature_df, PuellMultipleSL, \"Puell Multiple + SL\")"
   ]
  },
  {
   "cell_type": "markdown",
   "metadata": {
    "application/vnd.databricks.v1+cell": {
     "cellMetadata": {
      "byteLimit": 2048000,
      "rowLimit": 10000
     },
     "inputWidgets": {},
     "nuid": "a2f5583b-12cb-4268-93b7-036cc851fed0",
     "showTitle": false,
     "title": ""
    }
   },
   "source": [
    "### Miner Supply Spent\n",
    "* Buy: Supply Spent < 0.5\n",
    "* Sell: Supply Spent > 2\n"
   ]
  },
  {
   "cell_type": "code",
   "execution_count": 0,
   "metadata": {
    "application/vnd.databricks.v1+cell": {
     "cellMetadata": {
      "byteLimit": 2048000,
      "rowLimit": 10000
     },
     "inputWidgets": {},
     "nuid": "f4752831-19df-4cd3-80ee-97668fbe2d3e",
     "showTitle": false,
     "title": ""
    }
   },
   "outputs": [],
   "source": [
    "class MinerSupplySpent(Strategy):\n",
    "  def init(self):\n",
    "    super().init()\n",
    "        \n",
    "  def next(self):\n",
    "    if self.data.minerSupplySpent[-1] < 0.5:\n",
    "        self.buy()\n",
    "    elif self.data.minerSupplySpent > 2:\n",
    "        self.position.close()\n",
    "\n",
    "stats = run_backtest(feature_df, MinerSupplySpent, \"Miner Supply Spent\")"
   ]
  },
  {
   "cell_type": "code",
   "execution_count": 0,
   "metadata": {
    "application/vnd.databricks.v1+cell": {
     "cellMetadata": {
      "byteLimit": 2048000,
      "rowLimit": 10000
     },
     "inputWidgets": {},
     "nuid": "5dd8d8ae-4563-49bf-a029-d8ecbe8bc197",
     "showTitle": false,
     "title": ""
    }
   },
   "outputs": [],
   "source": [
    "class MinerSupplySpentSL(Strategy):\n",
    "  def init(self):\n",
    "    super().init()\n",
    "        \n",
    "  def next(self):\n",
    "    if self.data.minerSupplySpent[-1] < 0.5:\n",
    "        self.buy(sl=sl10(self.data.Close[-1]))\n",
    "    elif self.data.minerSupplySpent > 2:\n",
    "        self.position.close()\n",
    "\n",
    "stats = run_backtest(feature_df, MinerSupplySpentSL, \"Miner Supply Spent + SL\")"
   ]
  },
  {
   "cell_type": "markdown",
   "metadata": {
    "application/vnd.databricks.v1+cell": {
     "cellMetadata": {
      "byteLimit": 2048000,
      "rowLimit": 10000
     },
     "inputWidgets": {},
     "nuid": "97f5dc9e-f079-4372-b9f8-28c5e10fe167",
     "showTitle": false,
     "title": ""
    }
   },
   "source": [
    "### Miner Position Index\n",
    "\n",
    "* Buy: When MPI < -1\n",
    "* Sell: When MPI > 5"
   ]
  },
  {
   "cell_type": "code",
   "execution_count": 0,
   "metadata": {
    "application/vnd.databricks.v1+cell": {
     "cellMetadata": {
      "byteLimit": 2048000,
      "rowLimit": 10000
     },
     "inputWidgets": {},
     "nuid": "eed368be-64d5-4a9d-bd21-b56471dac72e",
     "showTitle": false,
     "title": ""
    }
   },
   "outputs": [],
   "source": [
    "class MinerPositionIndex(Strategy):\n",
    "  def init(self):\n",
    "        super().init()\n",
    "        \n",
    "  def next(self):\n",
    "    if self.data.minerPositionIndex[-1] < -1:\n",
    "        self.buy()\n",
    "    elif self.data.minerPositionIndex > 5:\n",
    "        self.position.close()\n",
    "\n",
    "\n",
    "stats = run_backtest(feature_df, MinerPositionIndex, \"Miner Position Index\")"
   ]
  },
  {
   "cell_type": "code",
   "execution_count": 0,
   "metadata": {
    "application/vnd.databricks.v1+cell": {
     "cellMetadata": {
      "byteLimit": 2048000,
      "rowLimit": 10000
     },
     "inputWidgets": {},
     "nuid": "155405d9-2763-43e7-8de7-d6716c1f4dbf",
     "showTitle": false,
     "title": ""
    }
   },
   "outputs": [],
   "source": [
    "class MinerPositionIndexSL(Strategy):\n",
    "  def init(self):\n",
    "        super().init()\n",
    "        \n",
    "  def next(self):\n",
    "    if self.data.minerPositionIndex[-1] < -1:\n",
    "        self.buy(sl=sl10(self.data.Close[-1]))\n",
    "    elif self.data.minerPositionIndex > 5:\n",
    "        self.position.close()\n",
    "\n",
    "\n",
    "stats = run_backtest(feature_df, MinerPositionIndexSL, \"Miner Position Index + SL\")"
   ]
  },
  {
   "cell_type": "markdown",
   "metadata": {
    "application/vnd.databricks.v1+cell": {
     "cellMetadata": {
      "byteLimit": 2048000,
      "rowLimit": 10000
     },
     "inputWidgets": {},
     "nuid": "a6d9ce1b-a6d0-437b-9680-57a96cab9842",
     "showTitle": false,
     "title": ""
    }
   },
   "source": [
    "## Enriched Strategy"
   ]
  },
  {
   "cell_type": "markdown",
   "metadata": {
    "application/vnd.databricks.v1+cell": {
     "cellMetadata": {
      "byteLimit": 2048000,
      "rowLimit": 10000
     },
     "inputWidgets": {},
     "nuid": "3fb8aea3-9453-42ec-8cd0-bcfb10976f90",
     "showTitle": false,
     "title": ""
    }
   },
   "source": [
    "### 30 Day Supply in Profit Percentage\n",
    "\n",
    "* Buy: 30 day MA is < 45%\n",
    "* Sell: 30 day MA is > 80%"
   ]
  },
  {
   "cell_type": "code",
   "execution_count": 0,
   "metadata": {
    "application/vnd.databricks.v1+cell": {
     "cellMetadata": {
      "byteLimit": 2048000,
      "rowLimit": 10000
     },
     "inputWidgets": {},
     "nuid": "2b539f91-169c-4dc2-bd6c-d15ebb9464c8",
     "showTitle": false,
     "title": ""
    }
   },
   "outputs": [],
   "source": [
    "class SIPPCycle(Strategy):\n",
    "  def init(self):\n",
    "    pass\n",
    "\n",
    "  def next(self):\n",
    "\n",
    "    if self.data.MA30DaySIPP[-1] < 0.45:\n",
    "      self.buy()\n",
    "    elif self.data.MA30DaySIPP[-1] > 0.8:\n",
    "      self.position.close()\n",
    "\n",
    "\n",
    "stats = run_backtest(feature_df, SIPPCycle, \"Supply In Profit 30 Day MA\")"
   ]
  },
  {
   "cell_type": "code",
   "execution_count": 0,
   "metadata": {
    "application/vnd.databricks.v1+cell": {
     "cellMetadata": {
      "byteLimit": 2048000,
      "rowLimit": 10000
     },
     "inputWidgets": {},
     "nuid": "72b1adb5-5a54-4d90-aadd-3e1da0320b6c",
     "showTitle": false,
     "title": ""
    }
   },
   "outputs": [],
   "source": [
    "class SIPPCycleSL(Strategy):\n",
    "  def init(self):\n",
    "    pass\n",
    "\n",
    "  def next(self):\n",
    "\n",
    "    if self.data.MA30DaySIPP[-1] < 0.45:\n",
    "      self.buy(sl=sl10(self.data.Close[-1]))\n",
    "    elif self.data.MA30DaySIPP[-1] > 0.8:\n",
    "      self.position.close()\n",
    "\n",
    "\n",
    "stats = run_backtest(feature_df, SIPPCycleSL, \"Supply In Profit 30 Day MA + SL\")"
   ]
  },
  {
   "cell_type": "markdown",
   "metadata": {
    "application/vnd.databricks.v1+cell": {
     "cellMetadata": {
      "byteLimit": 2048000,
      "rowLimit": 10000
     },
     "inputWidgets": {},
     "nuid": "d07dd63d-777c-444a-8691-e7b2afaed568",
     "showTitle": false,
     "title": ""
    }
   },
   "source": [
    "### New Address Momentum\n",
    "* Buy: 30 Day MA crosses 365 day MA\n",
    "* Sell: 365 Day MA crosses 30 day MA"
   ]
  },
  {
   "cell_type": "code",
   "execution_count": 0,
   "metadata": {
    "application/vnd.databricks.v1+cell": {
     "cellMetadata": {
      "byteLimit": 2048000,
      "rowLimit": 10000
     },
     "inputWidgets": {},
     "nuid": "af7f3afe-58b4-4a84-9ad9-18ccedbf43e4",
     "showTitle": false,
     "title": ""
    }
   },
   "outputs": [],
   "source": [
    "class AddressMomentum(Strategy):\n",
    "  def init(self):\n",
    "    pass\n",
    "\n",
    "  def next(self):\n",
    "\n",
    "    if crossover(self.data.MA30DayNewAddress, self.data.MA365DayNewAddress):\n",
    "      self.buy()\n",
    "    elif crossover(self.data.MA365DayNewAddress, self.data.MA30DayNewAddress):\n",
    "      self.position.close()\n",
    "\n",
    "stats = run_backtest(feature_df, AddressMomentum, \"Address Momentum\")"
   ]
  },
  {
   "cell_type": "code",
   "execution_count": 0,
   "metadata": {
    "application/vnd.databricks.v1+cell": {
     "cellMetadata": {
      "byteLimit": 2048000,
      "rowLimit": 10000
     },
     "inputWidgets": {},
     "nuid": "08879bd0-ee93-47fa-b8fa-45748fbbc2ff",
     "showTitle": false,
     "title": ""
    }
   },
   "outputs": [],
   "source": [
    "class AddressMomentumSL(Strategy):\n",
    "  def init(self):\n",
    "    pass\n",
    "\n",
    "  def next(self):\n",
    "\n",
    "    if crossover(self.data.MA30DayNewAddress, self.data.MA365DayNewAddress):\n",
    "      self.buy(sl=sl10(self.data.Close[-1]))\n",
    "    elif crossover(self.data.MA365DayNewAddress, self.data.MA30DayNewAddress):\n",
    "      self.position.close()\n",
    "\n",
    "stats = run_backtest(feature_df, AddressMomentumSL, \"Address Momentum + SL\")"
   ]
  },
  {
   "cell_type": "markdown",
   "metadata": {
    "application/vnd.databricks.v1+cell": {
     "cellMetadata": {
      "byteLimit": 2048000,
      "rowLimit": 10000
     },
     "inputWidgets": {},
     "nuid": "4a8c5696-b1eb-4d45-9f3f-fcb88bbdeb9d",
     "showTitle": false,
     "title": ""
    }
   },
   "source": [
    "### Liquid vs illiquid supply\n",
    "* Buy: Liquid relative growth < -0.05 (liquidity is decreasing so there is a bear market)\n",
    "* Sell: Liquid relative growth > 0.1 (liquidity is increasing so there is a bull market)"
   ]
  },
  {
   "cell_type": "code",
   "execution_count": 0,
   "metadata": {
    "application/vnd.databricks.v1+cell": {
     "cellMetadata": {
      "byteLimit": 2048000,
      "rowLimit": 10000
     },
     "inputWidgets": {},
     "nuid": "2d921374-38ac-4a55-bd62-8e4c5ea2f1d6",
     "showTitle": false,
     "title": ""
    }
   },
   "outputs": [],
   "source": [
    "feature_df"
   ]
  },
  {
   "cell_type": "code",
   "execution_count": 0,
   "metadata": {
    "application/vnd.databricks.v1+cell": {
     "cellMetadata": {
      "byteLimit": 2048000,
      "rowLimit": 10000
     },
     "inputWidgets": {},
     "nuid": "4b9bd3f7-c2e5-4453-afd0-3fd6481a3620",
     "showTitle": false,
     "title": ""
    }
   },
   "outputs": [],
   "source": [
    "class LiquidIlliquid(Strategy):\n",
    "  def init(self):\n",
    "    pass\n",
    "\n",
    "  def next(self):\n",
    "\n",
    "    if self.data.liquidRelativeGrowth[-1] > 0.1:\n",
    "      self.buy()\n",
    "    elif self.data.liquidRelativeGrowth[-1] < -0.05:\n",
    "      self.position.close()\n",
    "\n",
    "stats = run_backtest(feature_df, LiquidIlliquid, \"Liquid Illiquid Growth\")"
   ]
  },
  {
   "cell_type": "code",
   "execution_count": 0,
   "metadata": {
    "application/vnd.databricks.v1+cell": {
     "cellMetadata": {
      "byteLimit": 2048000,
      "rowLimit": 10000
     },
     "inputWidgets": {},
     "nuid": "95b31c26-38fc-41d5-a4e3-a41ee43af02b",
     "showTitle": false,
     "title": ""
    }
   },
   "outputs": [],
   "source": [
    "class LiquidIlliquidSL(Strategy):\n",
    "  def init(self):\n",
    "    pass\n",
    "\n",
    "  def next(self):\n",
    "\n",
    "    if self.data.liquidRelativeGrowth[-1] > 0.1:\n",
    "      self.buy(sl=sl10(self.data.Close[-1]))\n",
    "    elif self.data.liquidRelativeGrowth[-1] < -0.05:\n",
    "      self.position.close()\n",
    "\n",
    "stats = run_backtest(feature_df, LiquidIlliquid, \"Liquid Illiquid Growth + SL\")"
   ]
  },
  {
   "cell_type": "markdown",
   "metadata": {
    "application/vnd.databricks.v1+cell": {
     "cellMetadata": {
      "byteLimit": 2048000,
      "rowLimit": 10000
     },
     "inputWidgets": {},
     "nuid": "621c13f7-f1e1-46f1-8c8e-ca5030fc5b6c",
     "showTitle": false,
     "title": ""
    }
   },
   "source": [
    "### BTC HODL Waves \n",
    "* Buy: When 1 year HODL wave % < 40%\n",
    "* Sell: When 1 year HODL wave % > 50%"
   ]
  },
  {
   "cell_type": "code",
   "execution_count": 0,
   "metadata": {
    "application/vnd.databricks.v1+cell": {
     "cellMetadata": {
      "byteLimit": 2048000,
      "rowLimit": 10000
     },
     "inputWidgets": {},
     "nuid": "9160bd6f-ed98-41e5-8aa4-5a92278f7d58",
     "showTitle": false,
     "title": ""
    }
   },
   "outputs": [],
   "source": [
    "class HodlWaves(Strategy):\n",
    "  def init(self):\n",
    "    pass\n",
    "\n",
    "  def next(self):\n",
    "\n",
    "    if self.data.gte1yrUTXOValuePct[-1] < 0.5:\n",
    "      self.buy()\n",
    "    elif self.data.gte1yrUTXOValuePct[-1] > 0.7:\n",
    "      self.position.close()\n",
    "\n",
    "stats = run_backtest(feature_df, HodlWaves, \"HODL Waves\")"
   ]
  },
  {
   "cell_type": "code",
   "execution_count": 0,
   "metadata": {
    "application/vnd.databricks.v1+cell": {
     "cellMetadata": {
      "byteLimit": 2048000,
      "rowLimit": 10000
     },
     "inputWidgets": {},
     "nuid": "6e77a7d2-45fb-4efb-b318-e168206b36c9",
     "showTitle": false,
     "title": ""
    }
   },
   "outputs": [],
   "source": [
    "class HodlWavesSL(Strategy):\n",
    "  def init(self):\n",
    "    pass\n",
    "\n",
    "  def next(self):\n",
    "\n",
    "    if self.data.gte1yrUTXOValuePct[-1] < 0.5:\n",
    "      self.buy(sl=sl10(self.data.Close[-1]))\n",
    "    elif self.data.gte1yrUTXOValuePct[-1] > 0.7:\n",
    "      self.position.close()\n",
    "\n",
    "stats = run_backtest(feature_df, HodlWavesSL, \"HODL Waves + SL\")"
   ]
  },
  {
   "cell_type": "markdown",
   "metadata": {
    "application/vnd.databricks.v1+cell": {
     "cellMetadata": {
      "byteLimit": 2048000,
      "rowLimit": 10000
     },
     "inputWidgets": {},
     "nuid": "28757113-21c8-4290-a977-bcb79c8701d3",
     "showTitle": false,
     "title": ""
    }
   },
   "source": [
    "### BTC Balance Buckets: # of Addresses\n",
    "* Buy: If whale delta < -1000\n",
    "* Sell: If whale delta > 1000"
   ]
  },
  {
   "cell_type": "code",
   "execution_count": 0,
   "metadata": {
    "application/vnd.databricks.v1+cell": {
     "cellMetadata": {
      "byteLimit": 2048000,
      "rowLimit": 10000
     },
     "inputWidgets": {},
     "nuid": "c4e11bc2-24bc-47f0-b948-4dd154b2a214",
     "showTitle": false,
     "title": ""
    }
   },
   "outputs": [],
   "source": [
    "class BalanceBucketCount(Strategy):\n",
    "  def init(self):\n",
    "    pass\n",
    "\n",
    "  def next(self):\n",
    "\n",
    "    if self.data.whaleDelta[-1] < -1000:\n",
    "      self.buy()\n",
    "    elif self.data.whaleDelta[-1] > 1000:\n",
    "      self.position.close()\n",
    "\n",
    "stats = run_backtest(feature_df, BalanceBucketCount, \"Balance Bucket Count\")"
   ]
  },
  {
   "cell_type": "code",
   "execution_count": 0,
   "metadata": {
    "application/vnd.databricks.v1+cell": {
     "cellMetadata": {
      "byteLimit": 2048000,
      "rowLimit": 10000
     },
     "inputWidgets": {},
     "nuid": "4a3d4e93-b157-4a7f-ac86-313b36ce280c",
     "showTitle": false,
     "title": ""
    }
   },
   "outputs": [],
   "source": [
    "class BalanceBucketCountSL(Strategy):\n",
    "  def init(self):\n",
    "    pass\n",
    "\n",
    "  def next(self):\n",
    "\n",
    "    if self.data.whaleDelta[-1] < -1000:\n",
    "      self.buy(sl=sl10(self.data.Close[-1]))\n",
    "    elif self.data.whaleDelta[-1] > 1000:\n",
    "      self.position.close()\n",
    "\n",
    "stats = run_backtest(feature_df, BalanceBucketCountSL, \"Balance Bucket Count + SL\")"
   ]
  },
  {
   "cell_type": "markdown",
   "metadata": {
    "application/vnd.databricks.v1+cell": {
     "cellMetadata": {
      "byteLimit": 2048000,
      "rowLimit": 10000
     },
     "inputWidgets": {},
     "nuid": "15083bcb-136b-4fb8-87ce-e0deca19174a",
     "showTitle": false,
     "title": ""
    }
   },
   "source": [
    "### BTC Balance Buckets: Supply Held\n",
    "* Buy: If whale delta > 2000\n",
    "* Sell: If whale delta < -2000"
   ]
  },
  {
   "cell_type": "code",
   "execution_count": 0,
   "metadata": {
    "application/vnd.databricks.v1+cell": {
     "cellMetadata": {
      "byteLimit": 2048000,
      "rowLimit": 10000
     },
     "inputWidgets": {},
     "nuid": "7c01ba7f-8482-4121-bc70-7758bdfcdd79",
     "showTitle": false,
     "title": ""
    }
   },
   "outputs": [],
   "source": [
    "class BalanceBucketSupply(Strategy):\n",
    "  def init(self):\n",
    "    pass\n",
    "\n",
    "  def next(self):\n",
    "\n",
    "    if self.data.whaleSupplyDelta[-1] < -2000:\n",
    "      self.buy()\n",
    "    elif self.data.whaleSupplyDelta[-1] > 2000:\n",
    "      self.position.close()\n",
    "\n",
    "stats = run_backtest(feature_df, BalanceBucketSupply, \"Balance Bucket Supply\")"
   ]
  },
  {
   "cell_type": "code",
   "execution_count": 0,
   "metadata": {
    "application/vnd.databricks.v1+cell": {
     "cellMetadata": {
      "byteLimit": 2048000,
      "rowLimit": 10000
     },
     "inputWidgets": {},
     "nuid": "c0acdec6-c876-4201-96f4-db08229e2fe2",
     "showTitle": false,
     "title": ""
    }
   },
   "outputs": [],
   "source": [
    "class BalanceBucketSupplySL(Strategy):\n",
    "  def init(self):\n",
    "    pass\n",
    "\n",
    "  def next(self):\n",
    "    if self.data.whaleSupplyDelta[-1] < -2000:\n",
    "      self.buy()\n",
    "    elif self.data.whaleSupplyDelta[-1] > 2000:\n",
    "      self.position.close()\n",
    "\n",
    "stats = run_backtest(feature_df, BalanceBucketSupplySL, \"Balance Bucket Supply + SL\")"
   ]
  },
  {
   "cell_type": "code",
   "execution_count": 0,
   "metadata": {
    "application/vnd.databricks.v1+cell": {
     "cellMetadata": {
      "byteLimit": 2048000,
      "rowLimit": 10000
     },
     "inputWidgets": {},
     "nuid": "e44ec632-6883-4880-8fc1-44c7ad12deab",
     "showTitle": false,
     "title": ""
    }
   },
   "outputs": [],
   "source": []
  }
 ],
 "metadata": {
  "application/vnd.databricks.v1+notebook": {
   "dashboards": [],
   "environmentMetadata": null,
   "language": "python",
   "notebookMetadata": {
    "pythonIndentUnit": 4
   },
   "notebookName": "Pulling Signal from the Noise: Trading AmberLens’ Institutional Bitcoin Metrics",
   "widgets": {}
  },
  "kernelspec": {
   "display_name": "Python 3 (ipykernel)",
   "language": "python",
   "name": "python3"
  },
  "language_info": {
   "codemirror_mode": {
    "name": "ipython",
    "version": 3
   },
   "file_extension": ".py",
   "mimetype": "text/x-python",
   "name": "python",
   "nbconvert_exporter": "python",
   "pygments_lexer": "ipython3",
   "version": "3.11.5"
  }
 },
 "nbformat": 4,
 "nbformat_minor": 1
}
