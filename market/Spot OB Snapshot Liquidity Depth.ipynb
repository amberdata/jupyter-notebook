{
 "cells": [
  {
   "cell_type": "code",
   "execution_count": 14,
   "id": "d6f4505d-b926-4931-9836-d89bb599955c",
   "metadata": {},
   "outputs": [
    {
     "name": "stdout",
     "output_type": "stream",
     "text": [
      "Requirement already satisfied: pandas in /opt/homebrew/Cellar/jupyterlab/4.3.4_1/libexec/lib/python3.13/site-packages (2.2.3)\n",
      "Requirement already satisfied: numpy>=1.26.0 in /opt/homebrew/Cellar/jupyterlab/4.3.4_1/libexec/lib/python3.13/site-packages (from pandas) (2.2.1)\n",
      "Requirement already satisfied: python-dateutil>=2.8.2 in /opt/homebrew/Cellar/jupyterlab/4.3.4_1/libexec/lib/python3.13/site-packages (from pandas) (2.9.0.post0)\n",
      "Requirement already satisfied: pytz>=2020.1 in /opt/homebrew/Cellar/jupyterlab/4.3.4_1/libexec/lib/python3.13/site-packages (from pandas) (2024.2)\n",
      "Requirement already satisfied: tzdata>=2022.7 in /opt/homebrew/Cellar/jupyterlab/4.3.4_1/libexec/lib/python3.13/site-packages (from pandas) (2024.2)\n",
      "Requirement already satisfied: six>=1.5 in /opt/homebrew/Cellar/jupyterlab/4.3.4_1/libexec/lib/python3.13/site-packages (from python-dateutil>=2.8.2->pandas) (1.17.0)\n",
      "Requirement already satisfied: plotly in /opt/homebrew/Cellar/jupyterlab/4.3.4_1/libexec/lib/python3.13/site-packages (5.24.1)\n",
      "Requirement already satisfied: tenacity>=6.2.0 in /opt/homebrew/Cellar/jupyterlab/4.3.4_1/libexec/lib/python3.13/site-packages (from plotly) (9.0.0)\n",
      "Requirement already satisfied: packaging in /opt/homebrew/Cellar/jupyterlab/4.3.4_1/libexec/lib/python3.13/site-packages (from plotly) (24.2)\n",
      "Requirement already satisfied: numpy in /opt/homebrew/Cellar/jupyterlab/4.3.4_1/libexec/lib/python3.13/site-packages (2.2.1)\n"
     ]
    }
   ],
   "source": [
    "import sys\n",
    "!{sys.executable} -m pip install pandas\n",
    "!{sys.executable} -m pip install plotly\n",
    "!{sys.executable} -m pip install numpy\n",
    "\n",
    "import pandas as pd\n",
    "import requests\n",
    "from pprint import pprint\n",
    "import os\n",
    "import time\n",
    "import json\n",
    "import traceback\n",
    "import plotly.express as px\n",
    "import plotly.offline as pyo\n",
    "import numpy as np\n",
    "\n",
    "from itertools import zip_longest"
   ]
  },
  {
   "cell_type": "code",
   "execution_count": 15,
   "id": "2c1e3a4a-5862-428d-bd56-3749c2c67545",
   "metadata": {},
   "outputs": [
    {
     "data": {
      "text/html": [
       "        <script type=\"text/javascript\">\n",
       "        window.PlotlyConfig = {MathJaxConfig: 'local'};\n",
       "        if (window.MathJax && window.MathJax.Hub && window.MathJax.Hub.Config) {window.MathJax.Hub.Config({SVG: {font: \"STIX-Web\"}});}\n",
       "        if (typeof require !== 'undefined') {\n",
       "        require.undef(\"plotly\");\n",
       "        requirejs.config({\n",
       "            paths: {\n",
       "                'plotly': ['https://cdn.plot.ly/plotly-2.35.2.min']\n",
       "            }\n",
       "        });\n",
       "        require(['plotly'], function(Plotly) {\n",
       "            window._Plotly = Plotly;\n",
       "        });\n",
       "        }\n",
       "        </script>\n",
       "        "
      ]
     },
     "metadata": {},
     "output_type": "display_data"
    }
   ],
   "source": [
    "# Set offline notebook mode\n",
    "pyo.init_notebook_mode(connected=True)"
   ]
  },
  {
   "cell_type": "code",
   "execution_count": 16,
   "id": "d68cbb1b-2165-4939-9aeb-80f0b2ccdaec",
   "metadata": {},
   "outputs": [],
   "source": [
    "# Define your API key here\n",
    "x_api_key = \"...\""
   ]
  },
  {
   "cell_type": "code",
   "execution_count": 17,
   "id": "654c6ca4-bcdf-4959-a1d5-70c3b7cddd8f",
   "metadata": {},
   "outputs": [],
   "source": [
    "# Here is a compact Amberdata SDK for the REST endpoints with retry logic and auto-pagination\n",
    "PRODUCTION_BASE_URL = \"https://api.amberdata.com\"\n",
    "\n",
    "def http_ok_next_page_url_extractor(page):\n",
    "    \"\"\"\n",
    "    Function that extracts the next page url from the current page of data\n",
    "\n",
    "    Parameters\n",
    "    ----------\n",
    "    page: dict\n",
    "\n",
    "    Returns\n",
    "    -------\n",
    "    next_page_url: str\n",
    "    \"\"\"\n",
    "    if \"payload\" in page and page[\"payload\"] is not None:\n",
    "        payload = page[\"payload\"]\n",
    "        if \"metadata\" in payload and payload[\"metadata\"] is not None:\n",
    "            metadata = payload[\"metadata\"]\n",
    "            if \"next\" in metadata and metadata[\"next\"] is not None:\n",
    "                next_page_url = metadata[\"next\"]\n",
    "                return next_page_url\n",
    "    return \"\"\n",
    "\n",
    "\n",
    "def get_full_api_url(api_path: str):\n",
    "    \"\"\"\n",
    "    Parameters\n",
    "    ----------\n",
    "    api_path: str\n",
    "        The API resource that is of interest i.e. /markets/spot/trades/btc_usd. Assumes that path parameters have already been inserted into the resource path.\n",
    "    \"\"\"\n",
    "    return f\"{PRODUCTION_BASE_URL}{api_path}\"\n",
    "\n",
    "\n",
    "class AmberdataResponse:\n",
    "    def __init__(self, data, status, duration_seconds, request_url):\n",
    "        self.data = data\n",
    "        self.status = status\n",
    "        self.duration_seconds = duration_seconds\n",
    "        self.request_url = request_url\n",
    "        self.attempts = 0\n",
    "\n",
    "    def increment_attempt(self, by: int = None):\n",
    "        if by is not None:\n",
    "            self.attempts += by\n",
    "        else:\n",
    "            self.attempts += 1\n",
    "\n",
    "\n",
    "\"\"\"\n",
    "Type Hints\n",
    "\"\"\"\n",
    "AmberdataResponseStack = list[AmberdataResponse]\n",
    "\n",
    "\n",
    "class EndpointCaller:\n",
    "    def __init__(self, amberdata_api_key):\n",
    "        self.x_api_key = amberdata_api_key\n",
    "\n",
    "    def call_endpoint_and_get_data_as_json(\n",
    "        self, path: str, query: dict, headers: dict, retry_message: str = None\n",
    "    ):\n",
    "        headers_with_api_key = {**headers, \"x-api-key\": self.x_api_key}\n",
    "\n",
    "        if path.startswith(PRODUCTION_BASE_URL):\n",
    "            \"\"\"\n",
    "            When the next page URL is pre-formed and can be used as-is.\n",
    "            \"\"\"\n",
    "            full_api_url = path\n",
    "        else:\n",
    "            full_api_url = get_full_api_url(path)\n",
    "\n",
    "        start_time = time.time()\n",
    "        request = None\n",
    "        try:\n",
    "            request = requests.get(\n",
    "                full_api_url, params=query, headers=headers_with_api_key\n",
    "            )\n",
    "            print(\n",
    "                f\"Making HTTP call for: {request.url}\"\n",
    "                if retry_message is None\n",
    "                else f\"{retry_message} for: {request.url}\"\n",
    "            )\n",
    "            end_time = time.time()\n",
    "            duration = end_time - start_time\n",
    "            if request.status_code == 200:\n",
    "                json_data = request.json()\n",
    "                return AmberdataResponse(json_data, 200, duration, request.url)\n",
    "            else:\n",
    "                return AmberdataResponse(\n",
    "                    request.text, request.status_code, duration, request.url\n",
    "                )\n",
    "        except Exception as exc:\n",
    "            print(exc)\n",
    "            as_5xx_error_json = {\n",
    "                \"status\": 500,  # default to 500 error\n",
    "                \"message\": \"Failed to complete HTTP request.\",\n",
    "            }\n",
    "\n",
    "            end_time = time.time()\n",
    "            duration = end_time - start_time\n",
    "            return AmberdataResponse(json.dumps(as_5xx_error_json), 500, duration, None)\n",
    "\n",
    "    def call_endpoint_and_get_all_pages(\n",
    "        self, path: str, query: dict, headers: dict, http_ok_next_page_url_extractor\n",
    "    ):\n",
    "        \"\"\"\n",
    "        Iterative, non-recursive way to get all the pages given an initial URL.\n",
    "\n",
    "        Avoids Python's max recursion depth (~1000).\n",
    "\n",
    "        This is a generator function and should be used accordingly.\n",
    "\n",
    "        Parameters\n",
    "        ----------\n",
    "        path: str\n",
    "            The endpoint path with the path parameters inserted i.e if the path is `/market/defi/trades/{pool}/historical/` then provide `/market/defi/trades/0x88e6a0c2ddd26feeb64f039a2c41296fcb3f5640/historical`\n",
    "        query: dict\n",
    "            The query parameters in a dict i.e `{'startDate': '2023-05-20', 'endDate': '2023-05-21'}`\n",
    "        headers: dict\n",
    "            The request headers in a dict, you do not have to pass in the API key because the `EndpointCaller` class is intialized with it\n",
    "        http_ok_next_page_url_extractor: function\n",
    "            The function that extracts the next page url from a given API response\n",
    "\n",
    "        Returns\n",
    "        -------\n",
    "        api_response: AmberdataResponse\n",
    "            Individual page from the calling the endpoint\n",
    "\n",
    "        \"\"\"\n",
    "        stack: AmberdataResponseStack = []\n",
    "        current_page_response = self.call_endpoint_and_get_data_as_json(\n",
    "            path, query, headers\n",
    "        )\n",
    "        current_page_response.increment_attempt()\n",
    "        stack.append(current_page_response)\n",
    "        while len(stack) > 0:\n",
    "            response = stack.pop()\n",
    "            if response.status == 200:\n",
    "                next_page_url = http_ok_next_page_url_extractor(response.data)\n",
    "                if len(next_page_url) > 0:\n",
    "                    next_page_response = self.call_endpoint_and_get_data_as_json(\n",
    "                        next_page_url, None, headers\n",
    "                    )\n",
    "                    next_page_response.increment_attempt()\n",
    "                    stack.append(next_page_response)\n",
    "                yield response\n",
    "            else:\n",
    "                if response.attempts < 3 and response.request_url is not None:\n",
    "                    retried_page_response = self.call_endpoint_and_get_data_as_json(\n",
    "                        response.request_url,\n",
    "                        None,\n",
    "                        headers,\n",
    "                        retry_message=\"Retrying HTTP call\",\n",
    "                    )\n",
    "                    retried_page_response.increment_attempt(by=response.attempts + 1)\n",
    "                    stack.append(retried_page_response)\n",
    "                else:\n",
    "                    yield response\n",
    "\n",
    "        assert (\n",
    "            len(stack) == 0\n",
    "        ), \"Stack is not empty, more pages need to be retrieved. # of remaining pages is {}\".format(\n",
    "            len(stack)\n",
    "        )\n",
    "        return AmberdataResponse(\"DONE\", -1, 0, \"\")"
   ]
  },
  {
   "cell_type": "code",
   "execution_count": 18,
   "id": "d8f76580-75e1-4db0-9ebc-c241d3ecf580",
   "metadata": {},
   "outputs": [],
   "source": [
    "# Here we define helper functions for aggregating and formatting the liquidity depth\n",
    "def find_mid_price(ask: list, bid: list):\n",
    "    best_ask = ask[0][\"price\"]\n",
    "    best_bid = bid[0][\"price\"]\n",
    "    mid = (best_ask + best_bid) / 2\n",
    "    return mid\n",
    "\n",
    "\n",
    "def format_json_response(\n",
    "    ask_aggregates: list,\n",
    "    bid_aggregates: list,\n",
    "    instrument: str,\n",
    "    timestamp,\n",
    "    exchange: str,\n",
    "):\n",
    "    \"\"\"\n",
    "    Formats the calculation into an easy to parse response\n",
    "    \"\"\"\n",
    "    zipped = list(zip_longest(ask_aggregates, bid_aggregates))\n",
    "    cleaned = []\n",
    "    try:\n",
    "        cleaned = [\n",
    "            {\n",
    "                \"basisPointsFromMid\": t[0][\"basisPointsFromMid\"]\n",
    "                if t[0] is not None\n",
    "                else t[1][\"basisPointsFromMid\"],\n",
    "                \"askLiquidityNative\": t[0][\"liquidity\"] if t[0] is not None else None,\n",
    "                \"askLiquidityFiat\": t[0][\"liquidityUSD\"] if t[0] is not None else None,\n",
    "                \"askLiquidityCumulativeNative\": t[0][\"cumulativeLiquidity\"]\n",
    "                if t[0] is not None\n",
    "                else None,\n",
    "                \"askLiquidityCumulativeFiat\": t[0][\"cumulativeLiquidityUSD\"]\n",
    "                if t[0] is not None\n",
    "                else None,\n",
    "                \"bidLiquidityNative\": t[1][\"liquidity\"] if t[1] is not None else None,\n",
    "                \"bidLiquidityFiat\": t[1][\"liquidityUSD\"] if t[1] is not None else None,\n",
    "                \"bidLiquidityCumulativeNative\": t[1][\"cumulativeLiquidity\"]\n",
    "                if t[1] is not None\n",
    "                else None,\n",
    "                \"bidLiquidityCumulativeFiat\": t[1][\"cumulativeLiquidityUSD\"]\n",
    "                if t[1] is not None\n",
    "                else None,\n",
    "                \"currency\": \"USD\",\n",
    "            }\n",
    "            for t in zipped\n",
    "        ]\n",
    "    except Exception as e:\n",
    "        # In case there is an aggregation issue, we don't have to stop the complete pipeline, trace the issue, return an empty collect and resume the pipeline\n",
    "        stack_trace = \"\".join(traceback.TracebackException.from_exception(e).format())\n",
    "        print(stack_trace)\n",
    "        raise e\n",
    "\n",
    "    \"\"\"\n",
    "    To enhance this when aggregating ACROSS EXCHANGES for an instrument at a specific minute, just join on `basisPointsFromMid` and sum(askLiquidityFiat) and sum(bidLiquidityFiat)\n",
    "\n",
    "    \"\"\"\n",
    "\n",
    "    return [\n",
    "        {\n",
    "            \"exchange\": exchange,\n",
    "            \"instrument\": instrument,\n",
    "            \"timestamp\": timestamp,\n",
    "            \"liquidity\": cleaned,\n",
    "        }\n",
    "    ]\n",
    "\n",
    "def plot_liquidity_histogram(aggregation: list[dict]):\n",
    "    \"\"\"\n",
    "    Parameters\n",
    "    \n",
    "    aggregation - required\n",
    "        Is of the format seen below\n",
    "\n",
    "    [{'exchange': 'bitfinex',\n",
    "        'instrument': 'eth_usd',\n",
    "        'liquidity': [{'askLiquidityCumulativeFiat': np.float64(3627709.9561665184),\n",
    "                       'askLiquidityCumulativeNative': np.float64(1092.13311967),\n",
    "                       'askLiquidityFiat': np.float64(3627709.9561665184),\n",
    "                       'askLiquidityNative': np.float64(1092.13311967),\n",
    "                       'basisPointsFromMid': 100.0,\n",
    "                       'bidLiquidityCumulativeFiat': np.float64(3825917.910936735),\n",
    "                       'bidLiquidityCumulativeNative': np.float64(1163.57595828),\n",
    "                       'bidLiquidityFiat': np.float64(3825917.910936735),\n",
    "                       'bidLiquidityNative': np.float64(1163.57595828),\n",
    "                       'currency': 'USD'},\n",
    "                      {'askLiquidityCumulativeFiat': np.float64(6238534.04097278),\n",
    "                       'askLiquidityCumulativeNative': np.float64(1872.8269035),\n",
    "                       'askLiquidityFiat': np.float64(2610824.084806262),\n",
    "                       'askLiquidityNative': np.float64(780.69378383),\n",
    "                       'basisPointsFromMid': 200.0,\n",
    "                       'bidLiquidityCumulativeFiat': np.float64(15232741.731143385),\n",
    "                       'bidLiquidityCumulativeNative': np.float64(4667.10994671),\n",
    "                       'bidLiquidityFiat': np.float64(11406823.82020665),\n",
    "                       'bidLiquidityNative': np.float64(3503.53398843),\n",
    "                       'currency': 'USD'}],\n",
    "        'timestamp': '2025-01-09 15:43:00 000'}]\n",
    "    \"\"\"\n",
    "\n",
    "    df_records = []\n",
    "    liquidity: list = aggregation[0][\"liquidity\"]\n",
    "    for by_basis_point in liquidity:\n",
    "        element_ask = {\n",
    "            \"x\": by_basis_point[\"basisPointsFromMid\"],\n",
    "            \"y\": by_basis_point[\"askLiquidityFiat\"],\n",
    "        }\n",
    "        element_bid = {\n",
    "            \"x\": by_basis_point[\"basisPointsFromMid\"] * -1,\n",
    "            \"y\": by_basis_point[\"bidLiquidityFiat\"],\n",
    "        }\n",
    "        df_records.append(element_ask)\n",
    "        df_records.append(element_bid)\n",
    "    df = pd.DataFrame.from_records(df_records)\n",
    "\n",
    "    df[\"Color\"] = np.where(df[\"x\"] >= 0, \"Ask\", \"Bid\")\n",
    "    fig = px.bar(\n",
    "        df,\n",
    "        x=\"x\",\n",
    "        y=\"y\",\n",
    "        title=f'Liquidity for {aggregation[0][\"instrument\"]} on {aggregation[0][\"exchange\"]} at {aggregation[0][\"timestamp\"]}',\n",
    "        color=\"Color\",\n",
    "        labels={\"y\": \"Amount ($)\", \"x\": \"Basis Points from Mid\"},\n",
    "        text=\"y\",\n",
    "        template=\"plotly_dark\",\n",
    "        color_discrete_map={\"Ask\": \"#2ecc71\", \"Bid\": \"#e74c3c\"},\n",
    "    )\n",
    "\n",
    "    return fig"
   ]
  },
  {
   "cell_type": "code",
   "execution_count": 19,
   "id": "8f21e0bf-867d-4dec-a4e9-68eef87aa3ce",
   "metadata": {},
   "outputs": [],
   "source": [
    "# Here is a python generator to iterate over the order book snapshot pages from the API\n",
    "def get_spot_ob_snapshot_for_instrument(\n",
    "    instrument: str, exchange: str, endpoint_caller: EndpointCaller\n",
    "):\n",
    "    \"\"\"\n",
    "    Parameters\n",
    "\n",
    "    instrument - required\n",
    "        The spot instrument in {base}_{quote} form i.e. btc_usd\n",
    "    exchange - required\n",
    "        The name of the exchange supported by Amberdata\n",
    "    x_api_key - required\n",
    "        Your Amberdata API key\n",
    "    \"\"\"\n",
    "    additional_headers = {\n",
    "        \"Accept-Encoding\": \"gzip, deflate, br\",\n",
    "    }\n",
    "    query_params = {\n",
    "        \"exchange\": exchange,\n",
    "        \"timeFormat\": \"hr\",  # change this to whatever format is desired for timestamps\n",
    "        # \"startDate\": \"2025-01-01T00:00:00\", # un-comment and change these dates as desired\n",
    "        # \"endDate\": \"2025-01-09T00:00:00\" #un-comment and change these dates as desired\n",
    "    }\n",
    "    yield from endpoint_caller.call_endpoint_and_get_all_pages(\n",
    "        f\"/markets/spot/order-book-snapshots/{instrument}\",\n",
    "        query_params,\n",
    "        additional_headers,\n",
    "        http_ok_next_page_url_extractor,\n",
    "    )"
   ]
  },
  {
   "cell_type": "code",
   "execution_count": 20,
   "id": "cc707a81-7cb3-436c-94a9-4c3b20b2da10",
   "metadata": {},
   "outputs": [
    {
     "name": "stdout",
     "output_type": "stream",
     "text": [
      "Making HTTP call for: https://api.amberdata.com/markets/spot/order-book-snapshots/eth_usd?exchange=bitfinex&timeFormat=hr\n",
      "Making HTTP call for: https://api.amberdata.com/markets/spot/order-book-snapshots/eth_usd?cursor=N4IgxgrgTgzg9lEAuAdhANugNCGAXAQyjwBEC8BTZARgHYBmANgBZmAOATgAYeecKUAEzKUaDRgFZ6AJg7TGHNtJx4AlgFsKAMQTryyEAAsIelACUKBQQQBG6Kio0UAkikpQAbgXTJQKApoGAJ6WsCA4MACO6AByAVRIICFE4bjRcZoACujQ3sGh6EGpghQAZgQYeMhsLLx8IHoAHsiMMqxsdVw46HBwANY2BGB9mRRQqnCCyGiYAL44pbr6iQBW8CipFI1ghgQoAOYJIDaqeKWqKFupapr4AQAO0xjYDQSNADIUHhQ%2BqM8RCDwAGkKEVEnQmO1uHUAPpcGEnM4XLZwmF4KAQCgwih4QwwiAwKazIA\n",
      "Making HTTP call for: https://api.amberdata.com/markets/spot/order-book-snapshots/eth_usd?cursor=N4IgxgrgTgzg9lEAuAdhANugNCGAXAQyjwBEC8BTZARgHYBmANgBYBWagJmYAZfucKKACZlKNBo1b0OATg6MZADg448ASwC2FAGIIN5ZCAAWEfSgBKFAkIIAjdFVWaKASRSUoANwLpkoFARahgCeVrAgODAAjugAcoFUSCChRBG4MfFaAAro0D4hYejBaUIUAGYEGHjIiix8vDj6AB7IjNLMzIr1-CDocHAA1rYEYANZFFBqcELIaJgAvjhlegZJAFbwKGkUTWBGBCgA5okgtmp4ZWooO2nqWviBAA6zGNggzQAyFJ4UvqivkQQeAA0hRikk6Ew2JweHwAPrcOFnC5XHYIuF4KAQChwih4IxwiAwGbzIA\n",
      "Making HTTP call for: https://api.amberdata.com/markets/spot/order-book-snapshots/eth_usd?cursor=N4IgxgrgTgzg9lEAuAdhANugNCGAXAQyjwBEC8BTZARgHYBmANgBYBWJ5gBm85wpQAmZSjQaN2AJgCcExlIAcEnHgCWAWwoAxBGvLIQACwi6UAJQoEBBAEboqy9RQCSKSlABuBdMlAoCG-QBPC1gQHBgAR3QAOX8qJBBgojDcKNiNAAV0aC8gkPRAlIEKADMCDDxkeRYebhxdAA9kRnoJZmZ5Wt4QdDg4AGtrAjB%2BjIooFTgBZDRMAF8cEp09BIAreBQUigawAwIUAHN4kGsVPBKVFG2U1Q18fwAHGYxsEEaAGQp3Cm9UF-CEHgANIUQoJOgcdg1HgAfU4MNO50u2zhMLwUAgFBhFDwBhhEBg0zmQA\n",
      "Making HTTP call for: https://api.amberdata.com/markets/spot/order-book-snapshots/eth_usd?cursor=N4IgxgrgTgzg9lEAuAdhANugNCGAXAQyjwBEC8BTZARgHYBmANgBYBWVgTgA4AGPnnBRQATMpRoNGregCYOMxtxk48ASwC2FAGIJ15ZCAAWEPSgBKFAsIIAjdFRUaKASRSUoANwLpkoFAU0DAE9LWBAcGABHdAA5AKokEBCicNxouM0ABXRob2DQ9CDU4QoAMwIMPGQuFn4%2BHD0AD2RGWWZmXjqcdDg4AGsbAjA%2BzIooVThhZDRMAF8cUt19RIAreBRUikawQwIUAHMEkBtVPFLVFC3UtU18AIAHaYxsECaAGQoPCh9UZ4iEPAAaQoRUSdCYbE4nT4AH0eDCTmcLls4TC8FAIBQYRQ8IYYRAYFNZkA\n",
      "Making HTTP call for: https://api.amberdata.com/markets/spot/order-book-snapshots/eth_usd?cursor=N4IgxgrgTgzg9lEAuAdhANugNCGAXAQyjwBEC8BTZARgHYBmANgBYBWADnvYAZfucKKACZlKNBo1b0ATAE5pjWe2k48ASwC2FAGIIN5ZCAAWEfSgBKFAkIIAjdFVWaKASRSUoANwLpkoFARahgCeVrAgODAAjugAcoFUSCChRBG4MfFaAAro0D4hYejBaUIUAGYEGHjI7Cx8vDj6AB7IjDLMzDz1OOhwcADWtgRg-VkUUGpwQshomAC%2BOGV6BkkAVvAoaRRNYEYEKADmiSC2anhlaijbaepa%2BIEADjMY2CDNADIUnhS%2BqC%2BRCDwAGkKMUknQmGxOF1eAB9biw07nS7beGwvBQCAUWEUPBGWEQGDTOZAA\n",
      "Making HTTP call for: https://api.amberdata.com/markets/spot/order-book-snapshots/eth_usd?cursor=N4IgxgrgTgzg9lEAuAdhANugNCGAXAQyjwBEC8BTZARgHYBmANgBZGAGWgDjZ7ZwpQATMpRoNGAVnoAmAJzTGsztJx4AlgFsKAMQQbyyEAAsI%2BlACUKBQQQBG6Kqs0UAkikpQAbgXTJQKAi1DAE8rWBAcGABHdAA5QKokEFCiCNwY%2BK0ABXRoHxCw9GC0wQoAMwIMPGROFl4eHH0AD2RGGWZmbnqcdDg4AGtbAjB%2BrIooNThBZDRMAF8cMr0DJIAreBQ0iiawIwIUAHNEkFs1PDK1FG209S18QIAHGYxsEGaAGQpPCl9UF8iEHgANIUYpJOhMVgcLo8AD6bFhp3Ol228NheCgEAosIoeCMsIgMGmcyAA\n",
      "Making HTTP call for: https://api.amberdata.com/markets/spot/order-book-snapshots/eth_usd?cursor=N4IgxgrgTgzg9lEAuAdhANugNCGAXAQyjwBEC8BTZARgHYBmANgBZH7qAOABh65wpQATMpRoNGAVnoAmAJzTGsjtJx4AlgFsKAMQQbyyEAAsI%2BlACUKBQQQBG6Kqs0UAkikpQAbgXTJQKAi1DAE8rWBAcGABHdAA5QKokEFCiCNwY%2BK0ABXRoHxCw9GC0wQoAMwIMPGQOFl4eHH0AD2Q2aWZmbnqcdDg4AGtbAjB%2BrIooNThBZDRMAF8cMr0DJIAreBQ0iiawIwIUAHNEkFs1PDK1FG209S18QIAHGYxsEGaAGQpPCl9UF8iEHgANIUYpJOhMVjsLo8AD6XFhp3Ol228NheCgEAosIoeCMsIgMGmcyAA\n",
      "Making HTTP call for: https://api.amberdata.com/markets/spot/order-book-snapshots/eth_usd?cursor=N4IgxgrgTgzg9lEAuAdhANugNCGAXAQyjwBEC8BTZARgHYBmANgBZGBWNgJgAZfucKKACZlKNBu3qcAnJ0bSAHJxx4AlgFsKAMQTryyEAAsIelACUKBIQQBG6Kio0UAkikpQAbgXTJQKApoGAJ6WsCA4MACO6AByAVRIICFE4bjRcZoACujQ3sGh6EGpQhQAZgQYeMgKLHy8OHoAHsiMUszMCnX8IOhwcADWNgRg-ZkUUKpwQshomAC%2BOKW6%2BokAVvAoqRSNYIYEKADmCSA2qnilqijbqWqa%2BAEADjMY2CBNADIUHhQ%2BqC8RCDwAGkKEVEnQmKwODw%2BAB9biw07nS7beGwvBQCAUWEUPCGWEQGDTOZAA\n",
      "Making HTTP call for: https://api.amberdata.com/markets/spot/order-book-snapshots/eth_usd?cursor=N4IgxgrgTgzg9lEAuAdhANugNCGAXAQyjwBEC8BTZARgHYBmANgBZHaAORgBh65wpQATMpRoNGAVnoAmAJzTGs9tJx4AlgFsKAMQQbyyEAAsI%2BlACUKBQQQBG6Kqs0UAkikpQAbgXTJQKAi1DAE8rWBAcGABHdAA5QKokEFCiCNwY%2BK0ABXRoHxCw9GC0wQoAMwIMPGROZl4eHH0AD2RGGWZmdnq%2BEHQ4OABrWwIwAayKKDU4QWQ0TABfHDK9AySAK3gUNIomsCMCFABzRJBbNTwytRQdtPUtfECAB1mMbBBmgBkKTwpfVFfIgg8ABpCjFJJ0JisDjcXgAfS4cLOFyuOwRcLwUAgFDhFDwRjhEBgM3mQA\n",
      "Making HTTP call for: https://api.amberdata.com/markets/spot/order-book-snapshots/eth_usd?cursor=N4IgxgrgTgzg9lEAuAdhANugNCGAXAQyjwBEC8BTZARgHYBmANgBZaAGAJkbZ7ZwpQATMpRoNGAVnocAnFxkAODjjwBLALYUAYgnXlkIABYQ9KAEoUCgggCN0VFRooBJFJSgA3AumSgUBTQMAT0tYEBwYAEd0ADkAqiQQEKJw3Gi4zQAFdGhvYND0INTBCgAzAgw8ZAUWXh4cPQAPZEZpZmYFOr4QdDg4AGsbAjB%2BzIooVThBZDRMAF8cUt19RIAreBRUikawQwIUAHMEkBtVPFLVFG3UtU18AIAHGYxsECaAGQoPCh9UF4iEHgANIUIqJOhMVicbi8AD6bFhp3Ol228NheCgEAosIoeEMsIgMGmcyAA\n",
      "Making HTTP call for: https://api.amberdata.com/markets/spot/order-book-snapshots/eth_usd?cursor=N4IgxgrgTgzg9lEAuAdhANugNCGAXAQyjwBEC8BTZARgHYBmANgBZaAmRxgBh65wpQATMpRoNGAVnpsAnBxkAONjjwBLALYUAYgnXlkIABYQ9KAEoUCgggCN0VFRooBJFJSgA3AumSgUBTQMAT0tYEBwYAEd0ADkAqiQQEKJw3Gi4zQAFdGhvYND0INTBCgAzAgw8ZAUWXh4cPQAPZEZpZmYFOr4QdDg4AGsbAjB%2BzIooVThBZDRMAF8cUt19RIAreBRUikawQwIUAHMEkBtVPFLVFG3UtU18AIAHGYxsECaAGQoPCh9UF4iEHgANIUIqJOhMVgcbi8AD6XFhp3Ol228NheCgEAosIoeEMsIgMGmcyAA\n",
      "Making HTTP call for: https://api.amberdata.com/markets/spot/order-book-snapshots/eth_usd?cursor=N4IgxgrgTgzg9lEAuAdhANugNCGAXAQyjwBEC8BTZARgHYBmANgBZaBWABi%2B5wpQBMylGg0Zt6AJgCcExlIAcEnHgCWAWwoAxBGvLIQACwi6UAJQoF%2BBAEboqy9RQCSKSlABuBdMlAoCG-QBPC1gQHBgAR3QAOX8qJBBgojDcKNiNAAV0aC8gkPRAlP4KADMCDDxkeRZuLhxdAA9kRklmZnlajhx0ODgAa2sCMD6MiigVOH5kNEwAXxwSnT0EgCt4FBSKBrADAhQAc3iQaxU8EpUULZTVDXx-AAdpjGwQRoAZCncKb1Rn8IQ8ABpCiFBJ0JisTidAD6HGhJzOFy2sOheCgEAo0IoeAM0IgMCmsyAA\n",
      "Making HTTP call for: https://api.amberdata.com/markets/spot/order-book-snapshots/eth_usd?cursor=N4IgxgrgTgzg9lEAuAdhANugNCGAXAQyjwBEC8BTZARgHYBmANgBZbbmAGLrnClAEzKUaDRgFZ6AJgCckxtIAcknHgCWAWwoAxBOvLIQACwh6UAJQoF%2BBAEboqKjRQCSKSlABuBdMlAoCmgYAnpawIDgwAI7oAHIBVEggIUThuNFxmgAK6NDewaHoQan8FABmBBh4yAos3DwgegAeyIxSzMwKdRw46HBwANY2BGD9mRRQqnD8yGiYAL44pbr6iQBW8CipFI1ghgQoAOYJIDaqeKWqKNupapr4AQAOMxjYDQSNADIUHhQ%2BqC8RBB4ADSFCKiToTFY7C6AH0OLDTudLtt4bC8FAIBRYRQ8IZYRAYNM5kA\n",
      "Making HTTP call for: https://api.amberdata.com/markets/spot/order-book-snapshots/eth_usd?cursor=N4IgxgrgTgzg9lEAuAdhANugNCGAXAQyjwBEC8BTZARgHYBmANgBZaBOADgAYeecKUAEzKUaDRgFZ6AJjbTGnaTjwBLALYUAYgjXlkIABYRdKAEoUCgggCN0VZeooBJFJSgA3AumSgUBDfoAnhawIDgwAI7oAHL%2BVEggwURhuFGxGgAK6NBeQSHogSmCFABmBBh4yBwsvHwgugAeyIwyzMzctTjocHAA1tYEYL0ZFFAqcILIaJgAvjglOnoJAFbwKCkUDWAGBCgA5vEg1ip4JSoomymqGvj%2BAA5TGNj1BA0AMhTuFN6oT%2BEIeAA0hRCgk6ExWJxalwAPqw46nc6bOEwvBQCAUGEUPAGGEQGCTGZAA\n",
      "Making HTTP call for: https://api.amberdata.com/markets/spot/order-book-snapshots/eth_usd?cursor=N4IgxgrgTgzg9lEAuAdhANugNCGAXAQyjwBEC8BTZARgHYBmANgBYAOAJnYAYeecKUAEzKUaDRgFZ67AJztGMjjjwBLALYUAYgjXlkIABYRdKAEoUCgggCN0VZeooBJFJSgA3AumSgUBDfoAnhawIDgwAI7oAHL%2BVEggwURhuFGxGgAK6NBeQSHogSmCFABmBBh4yKwsvHwgugAeyIzSzGy1XDjocHAA1tYEYL0ZFFAqcILIaJgAvjglOnoJAFbwKCkUDWAGBCgA5vEg1ip4JSoomymqGvj%2BAA5TGNj1BA0AMhTuFN6oT%2BEIeAA0hRCgk6Ew2JwOgB9LjQ46nc6bWHQvBQCAUaEUPAGaEQGCTGZAA\n",
      "Making HTTP call for: https://api.amberdata.com/markets/spot/order-book-snapshots/eth_usd?cursor=N4IgxgrgTgzg9lEAuAdhANugNCGAXAQyjwBEC8BTZARgHYBmANgBYAOZxgBm%2B5wpQAmZSjQaMArPQBMATimMZrKTjwBLALYUAYgnXlkIABYQ9KAEoUCAggCN0VFRooBJFJSgA3AumSgUBTQMAT0tYEBwYAEd0ADkAqiQQEKJw3Gi4zQAFdGhvYND0INSBCgAzAgw8ZFYWHl4QPQAPZEZpZjY6zhx0ODgAaxsCMD7MiihVOAFkNEwAXxxS3X1EgCt4FFSKRrBDAhQAcwSQG1U8UtUULdS1TXwAgAdpjGwGgkaAGQoPCh9UZ4iEHgANIUIqJOhMNgcToAfU4MJOZwuWzhMLwUAgFBhFDwhhhEBgU1mQA\n",
      "Making HTTP call for: https://api.amberdata.com/markets/spot/order-book-snapshots/eth_usd?cursor=N4IgxgrgTgzg9lEAuAdhANugNCGAXAQyjwBEC8BTZARgHYBmANgBYAOWgBi%2B5wpQBMylGg0YBWegCYAnJMbTWknHgCWAWwoAxBGvLIQACwi6UAJQoF%2BBAEboqy9RQCSKSlABuBdMlAoCG-QBPC1gQHBgAR3QAOX8qJBBgojDcKNiNAAV0aC8gkPRAlP4KADMCDDxkVhZuLhxdAA9kRilmNlqOHHQ4OABrawIwXoyKKBU4fmQ0TABfHBKdPQSAK3gUFIoGsAMCFABzeJBrFTwSlRRNlNUNfH8ABymMbBBGgBkKdwpvVCfwhDwANIUQoJOhMNicDoAfQ4UOOp3OmxhULwUAgFChFDwBihEBgkxmQA\n",
      "Making HTTP call for: https://api.amberdata.com/markets/spot/order-book-snapshots/eth_usd?cursor=N4IgxgrgTgzg9lEAuAdhANugNCGAXAQyjwBEC8BTZARgHYBmANgBYAOATmYAYeecKUAEzKUaDRgFZ6AJnbTG7VtJx4AlgFsKAMQTryyEAAsIelACUKBQQQBG6Kio0UAkikpQAbgXTJQKApoGAJ6WsCA4MACO6AByAVRIICFE4bjRcZoACujQ3sGh6EGpghQAZgQYeMisLLx8IHoAHsiMMsxsdVw46HBwANY2BGB9mRRQqnCCyGiYAL44pbr6iQBW8CipFI1ghgQoAOYJIDaqeKWqKFupapr4AQAO0xjYDQSNADIUHhQ%2BqM8RCDwAGkKEVEnQmGxOJ0APpcGEnM4XLZwmF4KAQCgwih4QwwiAwKazIA\n",
      "Making HTTP call for: https://api.amberdata.com/markets/spot/order-book-snapshots/eth_usd?cursor=N4IgxgrgTgzg9lEAuAdhANugNCGAXAQyjwBEC8BTZARgHYBmANgBYBOagDgAYeecKUAEzKUaDRgFZ6AJlbTGrDtJx4AlgFsKAMQTryyEAAsIelACUKBQQQBG6Kio0UAkikpQAbgXTJQKApoGAJ6WsCA4MACO6AByAVRIICFE4bjRcZoACujQ3sGh6EGpghQAZgQYeMgcLLx8IHoAHsiMMszM3HU46HBwANY2BGB9mRRQqnCCyGiYAL44pbr6iQBW8CipFI1ghgQoAOYJIDaqeKWqKFupapr4AQAO0xjYDQSNADIUHhQ%2BqM8RCDwAGkKEVEnQmGxOHUuAB9OEnM4XLbw2F4KAQCiwih4QywiAwKazIA\n",
      "Making HTTP call for: https://api.amberdata.com/markets/spot/order-book-snapshots/eth_usd?cursor=N4IgxgrgTgzg9lEAuAdhANugNCGAXAQyjwBEC8BTZARgHYBmANgBYBOZgJgAYeecKUAEzKUaDRgFZ6HVh0asAHBxx4AlgFsKAMQTryyEAAsIelACUKBQQQBG6Kio0UAkikpQAbgXTJQKApoGAJ6WsCA4MACO6AByAVRIICFE4bjRcZoACujQ3sGh6EGpghQAZgQYeMgKLLx8IHoAHsiM0szMCnVcOOhwcADWNgRg-ZkUUKpwgshomAC%2BOKW6%2BokAVvAoqRSNYIYEKADmCSA2qnilqijbqWqa%2BAEADjMY2A0EjQAyFB4UPqgvEQQeAA0hQiok6Ew2JwugB9Liw07nS7beGwvBQCAUWEUPCGWEQGDTOZAA\n",
      "Making HTTP call for: https://api.amberdata.com/markets/spot/order-book-snapshots/eth_usd?cursor=N4IgxgrgTgzg9lEAuAdhANugNCGAXAQyjwBEC8BTZARgHYBmANgBYBORxgBm%2B5wpQAmZSjQaMArPQBMrKY1YAOKTjwBLALYUAYgnXlkIABYQ9KAEoUCAggCN0VFRooBJFJSgA3AumSgUBTQMAT0tYEBwYAEd0ADkAqiQQEKJw3Gi4zQAFdGhvYND0INSBCgAzAgw8ZAUWHl4QPQAPZEZpZmYFOs4cdDg4AGsbAjB%2BzIooVTgBZDRMAF8cUt19RIAreBRUikawQwIUAHMEkBtVPFLVFG3UtU18AIAHGYxsBoJGgBkKDwofVBeIgg8ABpChFRJ0JhsDhdAD6nFhp3Ol228NheCgEAosIoeEMsIgMGmcyAA\n",
      "Making HTTP call for: https://api.amberdata.com/markets/spot/order-book-snapshots/eth_usd?cursor=N4IgxgrgTgzg9lEAuAdhANugNCGAXAQyjwBEC8BTZARgHYBmANgBYBOVgBi%2B5wpQBMylGg0YBWegCZWkxqwAcknHgCWAWwoAxBGvLIQACwi6UAJQoF%2BBAEboqy9RQCSKSlABuBdMlAoCG-QBPC1gQHBgAR3QAOX8qJBBgojDcKNiNAAV0aC8gkPRAlP4KADMCDDxkeRZuLhxdAA9kRilmZnlajhx0ODgAa2sCMD6MiigVOH5kNEwAXxwSnT0EgCt4FBSKBrADAhQAc3iQaxU8EpUULZTVDXx-AAdpjGwQRoAZCncKb1Rn8IQ8ABpCiFBJ0JhsTidAD6HGhJzOFy2sOheCgEAo0IoeAM0IgMCmsyAA\n",
      "Making HTTP call for: https://api.amberdata.com/markets/spot/order-book-snapshots/eth_usd?cursor=N4IgxgrgTgzg9lEAuAdhANugNCGAXAQyjwBEC8BTZARgHYBmANgFYAGagFle%2B5wpQAmZSjQYt6AJgCcExlIAcEnHgCWAWwoAxBGvLIQACwi6UAJQoEBBAEboqy9RQCSKSlABuBdMlAoCG-QBPC1gQHBgAR3QAOX8qJBBgojDcKNiNAAV0aC8gkPRAlIEKADMCDDxkeUYuHlYcXQAPZEZJDg55OvqQdDg4AGtrAjB%2BjIooFTgBZDRMAF8cEp09BIAreBQUikawAwIUAHN4kGsVPBKVFG2U1Q18fwAHGYxsECaAGQp3Cm9UF-CEHgANIUQoJOhMNicLoAfVYMNO50u2zhMLwUAgFBhFDwBhhEBg0zmQA\n",
      "Making HTTP call for: https://api.amberdata.com/markets/spot/order-book-snapshots/eth_usd?cursor=N4IgxgrgTgzg9lEAuAdhANugNCGAXAQyjwBEC8BTZARgHYBmANgFYAGegDle%2B5wpQAmZSjQYt6AJgCcExlI4SceAJYBbCgDEEq8shAALCDpQAlCgQEEARuipK1FAJIpKUAG4F0yUCgLq9AJ7msCA4MACO6AByflRIIEFEobiRMeoACujQnoHB6AHJAhQAZgQYeMgcjAAsPLwgOgAeyIyS1dVcdTjocHAA1lYEYH3pFFDKcALIaJgAvjjF2rrxAFbwKMkUjWD6BCgA5nEgVsp4xcooW8kq6vh%2BAA7TGNgNBI0AMhRuFF6oz2EIPAAaQoBXidCYbE4dVYAH04SczhctvDYXgoBAKLCKHh9LCIDAprMgA\n",
      "Making HTTP call for: https://api.amberdata.com/markets/spot/order-book-snapshots/eth_usd?cursor=N4IgxgrgTgzg9lEAuAdhANugNCGAXAQyjwBEC8BTZARgHYBmANgFYAGRgJle%2B5wpQAmZSjQYt6HAJwdGkgBwcceAJYBbCgDEEq8shAALCDpQAlCgQEEARuipK1FAJIpKUAG4F0yUCgLq9AJ7msCA4MACO6AByflRIIEFEobiRMeoACujQnoHB6AHJAhQAZgQYeMhyjAAsPLwgOgAeyIwS1dVydaw46HBwANZWBGD96RRQynACyGiYAL44xdq68QBW8CjJFI1g%2BgQoAOZxIFbKeMXKKNvJKur4fgAOMxjYDQSNADIUbhReqC9hBB4ADSFAK8ToTDYnC6AH1WLDTudLtt4bC8FAIBRYRQ8PpYRAYNM5kA\n",
      "Making HTTP call for: https://api.amberdata.com/markets/spot/order-book-snapshots/eth_usd?cursor=N4IgxgrgTgzg9lEAuAdhANugNCGAXAQyjwBEC8BTZARgHYBmANgFYAGADkde%2B5wpQAmZSjQYt6AJgCcExlPYSceAJYBbCgDEEq8shAALCDpQAlCgQEEARuipK1FAJIpKUAG4F0yUCgLq9AJ7msCA4MACO6AByflRIIEFEobiRMeoACujQnoHB6AHJAhQAZgQYeMicACw8vCA6AB7IjJJVVey1rDjocHAA1lYEYH3pFFDKcALIaJgAvjjF2rrxAFbwKMkUDWD6BCgA5nEgVsp4xcooW8kq6vh%2BAA7TGNj1BA0AMhRuFF6oz2EIPAAaQoBXidCYbE4nQA%2BqwYSczhctnCYXgoBAKDCKHh9DCIDAprMgA\n",
      "Making HTTP call for: https://api.amberdata.com/markets/spot/order-book-snapshots/eth_usd?cursor=N4IgxgrgTgzg9lEAuAdhANugNCGAXAQyjwBEC8BTZARgHYBmANgFZrqAGTrnClAEzKUaDFvQBMATjGMJADjE48ASwC2FAGIIV5ZCAAWEbSgBKFAnwIAjdFUWqKASRSUoANwLpkoFATW6AnmawIDgwAI7oAHK%2BVEgggUQhuBHRagAK6NAeAUHo-kl8FABmBBh4yLKMACxcnDjaAB7IjOJVVbK17DjocHAA1pYEYH1pFFBKcHzIaJgAvjhFWjpxAFbwKEkUDWB6BCgA5rEglkp4RUooW0nKavi%2BAA7TGNggjQAyFK4UnqjPoQh4ADSFHycToTFYHE6AH12NCTmcLltYdC8FAIBRoRQ8HpoRAYFNZkA\n",
      "Making HTTP call for: https://api.amberdata.com/markets/spot/order-book-snapshots/eth_usd?cursor=N4IgxgrgTgzg9lEAuAdhANugNCGAXAQyjwBEC8BTZARgHYBmANgFZr6AWABm%2B5wpQAmZSjQYt6AJgCcExlIAcEnHgCWAWwoAxBGvLIQACwi6UAJQoEBBAEboqy9RQCSKSlABuBdMlAoCG-QBPC1gQHBgAR3QAOX8qJBBgojDcKNiNAAV0aC8gkPRAlIEKADMCDDxkeUYuHk4cXQAPZEZJdnZ5OvqQdDg4AGtrAjB%2BjIooFTgBZDRMAF8cEp09BIAreBQUikawAwIUAHN4kGsVPBKVFG2U1Q18fwAHGYxsECaAGQp3Cm9UF-CEHgANIUQoJOhMVgcLoAfU4MNO50u2zhMLwUAgFBhFDwBhhEBg0zmQA\n",
      "Making HTTP call for: https://api.amberdata.com/markets/spot/order-book-snapshots/eth_usd?cursor=N4IgxgrgTgzg9lEAuAdhANugNCGAXAQyjwBEC8BTZARgHYBmANgFZrmAOABm%2B5wpQAmZSjQYt6AJgCcExlPYSceAJYBbCgDEEq8shAALCDpQAlCgQEEARuipK1FAJIpKUAG4F0yUCgLq9AJ7msCA4MACO6AByflRIIEFEobiRMeoACujQnoHB6AHJAhQAZgQYeMjsjAAsPLwgOgAeyIyS1dVcdTjocHAA1lYEYH3pFFDKcALIaJgAvjjF2rrxAFbwKMkUjWD6BCgA5nEgVsp4xcooW8kq6vh%2BAA7TGNgNBI0AMhRuFF6oz2EIPAAaQoBXidCYrA4dU4AH04SczhctvDYXgoBAKLCKHh9LCIDAprMgA\n",
      "Making HTTP call for: https://api.amberdata.com/markets/spot/order-book-snapshots/eth_usd?cursor=N4IgxgrgTgzg9lEAuAdhANugNCGAXAQyjwBEC8BTZARgHYBmANgFZqAOAJgAYeecKUAEzKUaDFvQ4BODoymcceAJYBbCgDEEK8shAALCNpQAlCgUEEARuiqLVFAJIpKUAG4F0yUCgJrdATzNYEBwYAEd0ADlfKiQQQKIQ3AjotQAFdGgPAKD0fyTBCgAzAgw8ZDZGABZePhBtAA9kRkkqqrZarhx0ODgAa0sCMD60iiglOEFkNEwAXxwirR04gCt4FCSKBrA9AhQAc1iQSyU8IqUULaTlNXxfAAdpjGx6ggaAGQpXCk9UZ9CEHgANIUfJxOhMVicToAfS4MJOZwuWzhMLwUAgFBhFDwehhEBgU1mQA\n",
      "Making HTTP call for: https://api.amberdata.com/markets/spot/order-book-snapshots/eth_usd?cursor=N4IgxgrgTgzg9lEAuAdhANugNCGAXAQyjwBEC8BTZARgHYBmANgFYAmABmYBZ3f2cKKACZlKNBi3qsAnK0bSAHKxx4AlgFsKAMQTryyEAAsIelACUKBIQQBG6Kio0UAkikpQAbgXTJQKApoGAJ6WsCA4MACO6AByAVRIICFE4bjRcZoACujQ3sGh6EGpQhQAZgQYeMgKjDx8-CB6AB7IjFJcXAr1DehwcADWNgRg-ZkUUKpwQshomAC%2BOKW6%2BokAVvAoqRRNYIYEKADmCSA2qnilqijbqWqa%2BAEADjMY2I0ETQAyFB4UPqgvEQQeAA0hQiok6Ew2Jw6rwAPrsOGnc6XbYIuF4KAQChwih4QxwiAwaZzIA\n",
      "Making HTTP call for: https://api.amberdata.com/markets/spot/order-book-snapshots/eth_usd?cursor=N4IgxgrgTgzg9lEAuAdhANugNCGAXAQyjwBEC8BTZARgHYBmANgFYAmVgTgBYAGPnnBRQATMpRoMW9Tq0YcAHKxx4AlgFsKAMQRryyEAAsIulACUKBYQQBG6KsvUUAkikpQAbgXTJQKAhv0ATwtYEBwYAEd0ADl-KiQQYKIw3CjYjQAFdGgvIJD0QJThCgAzAgw8ZHlGXn4BEF0AD2RGaS4ueTr69Dg4AGtrAjA%2BjIooFThhZDRMAF8cEp09BIAreBQUikawAwIUAHN4kGsVPBKVFC2U1Q18fwAHaYxsBoJGgBkKdwpvVGfwhB4ADSFEKCToTDYnFqfAA%2BjxYSczhctvDYXgoBAKLCKHgDLCIDAprMgA\n",
      "Making HTTP call for: https://api.amberdata.com/markets/spot/order-book-snapshots/eth_usd?cursor=N4IgxgrgTgzg9lEAuAdhANugNCGAXAQyjwBEC8BTZARgHYBmANgFYAmZ%2BgFgAZfucKKACZlKNBi3qsAnK0bSAHKxx4AlgFsKAMQTryyEAAsIelACUKBIQQBG6Kio0UAkikpQAbgXTJQKApoGAJ6WsCA4MACO6AByAVRIICFE4bjRcZoACujQ3sGh6EGpQhQAZgQYeMgKjDx8-CB6AB7IjFKcnAr1DehwcADWNgRg-ZkUUKpwQshomAC%2BOKW6%2BokAVvAoqRRNYIYEKADmCSA2qnilqijbqWqa%2BAEADjMY2I0ETQAyFB4UPqgvEQQeAA0hQiok6Ew2Bw6rwAPrcOGnc6XbYIuF4KAQChwih4QxwiAwaZzIA\n",
      "Making HTTP call for: https://api.amberdata.com/markets/spot/order-book-snapshots/eth_usd?cursor=N4IgxgrgTgzg9lEAuAdhANugNCGAXAQyjwBEC8BTZARgHYBmANgFYAmW2gFgAZfucKKACZlKNBi3qsAnK0bSAHKxx4AlgFsKAMQTryyEAAsIelACUKBIQQBG6Kio0UAkikpQAbgXTJQKApoGAJ6WsCA4MACO6AByAVRIICFE4bjRcZoACujQ3sGh6EGpQhQAZgQYeMgKjDx8-CB6AB7IjFKcnAr1DehwcADWNgRg-ZkUUKpwQshomAC%2BOKW6%2BokAVvAoqRRNYIYEKADmCSA2qnilqijbqWqa%2BAEADjMY2I0ETQAyFB4UPqgvEQQeAA0hQiok6Ew2Bw6rwAPrcOGnc6XbYIuF4KAQChwih4QxwiAwaZzIA\n",
      "Making HTTP call for: https://api.amberdata.com/markets/spot/order-book-snapshots/eth_usd?cursor=N4IgxgrgTgzg9lEAuAdhANugNCGAXAQyjwBEC8BTZARgHYBmANgFZ6AGagFjZ7ZwpQATMpRoMW9AEwBOSY2kAOSTjwBLALYUAYgnXlkIABYQ9KAEoUCgggCN0VFRooBJFJSgA3AumSgUBTQMAT0tYEBwYAEd0ADkAqiQQEKJw3Gi4zQAFdGhvYND0INTBCgAzAgw8ZAVGbl4%2BED0AD2RGKU5OBXqG9Dg4AGsbAjB%2BzIooVThBZDRMAF8cUt19RIAreBRUiiawQwIUAHMEkBtVPFLVFG3UtU18AIAHGYxsRoImgBkKDwofVBeIgg8ABpChFRJ0JisDh1HgAfTYcNO50u2wRcLwUAgFDhFDwhjhEBg0zmQA\n",
      "Making HTTP call for: https://api.amberdata.com/markets/spot/order-book-snapshots/eth_usd?cursor=N4IgxgrgTgzg9lEAuAdhANugNCGAXAQyjwBEC8BTZARgHYBmANgFZ6AmZgFgAZfucKKACZlKNBi3YBONoykAONjjwBLALYUAYgjXlkIABYRdKAEoUCQggCN0VZeooBJFJSgA3AumSgUBDfoAnhawIDgwAI7oAHL%2BVEggwURhuFGxGgAK6NBeQSHogSlCFABmBBh4yPKMPHz8ILoAHsiM7Jyc8nX16HBwANbWBGB9GRRQKnBCyGiYAL44JTp6CQBW8CgpFI1gBgQoAObxINYqeCUqKFspqhr4-gAO0xjYDQSNADIU7hTeqM-hCDwAGkKIUEnQmKwOLVeAB9biwk5nC5beGwvBQCAUWEUPAGWEQGBTWZAA\n",
      "Total time elapsed: 0.31666911840438844 minutes\n"
     ]
    }
   ],
   "source": [
    "# Here is the core logic we call the API and aggregate on the minutely snapshots across the desired time range\n",
    "endpoint_caller = EndpointCaller(x_api_key)\n",
    "\n",
    "# Set your instrument and exchange here\n",
    "spot_ob_snapshot = get_spot_ob_snapshot_for_instrument(\n",
    "    \"eth_usd\", \"bitfinex\", endpoint_caller\n",
    ")\n",
    "\n",
    "aggregation_outputs: list[dict] = []\n",
    "aggregation_start_time = time.time()\n",
    "\n",
    "# The endpoint caller returns a single API response page at a time, this allows to incrementally aggregate without having to worry about HTTP failures while getting subsequent pages\n",
    "for response_page in spot_ob_snapshot:\n",
    "    amberdata_json_contents = response_page.data\n",
    "    payload_data = amberdata_json_contents[\"payload\"][\"data\"]\n",
    "\n",
    "    for minutely_snapshot in payload_data:\n",
    "        asks = minutely_snapshot[\"ask\"]\n",
    "        bids = minutely_snapshot[\"bid\"]\n",
    "        mid = find_mid_price(asks, bids)\n",
    "\n",
    "        increment = mid / 100  # this is 1%\n",
    "        # increment = mid / 100 / 100  # this is 1 basis point (bps) i.e. 0.01%\n",
    "\n",
    "        \"\"\"\n",
    "        Using the mid price, for the ask levels, we compute liquidity at 1% increments.\n",
    "        \"\"\"\n",
    "        ask_df = pd.DataFrame.from_records(asks)\n",
    "        start = mid + increment\n",
    "        end = ask_df.tail(1).iloc[0][\"price\"] + increment\n",
    "        ask_aggregates = []\n",
    "        while start <= end:\n",
    "            bucket = ask_df[\n",
    "                (ask_df[\"price\"] <= start) & (ask_df[\"price\"] > start - increment)\n",
    "            ]\n",
    "            liquidity = bucket[\"volume\"].sum()\n",
    "            liquidityUSD = 0\n",
    "            for idx, row in bucket.iterrows():\n",
    "                liquidityUSD += row[\"price\"] * row[\"volume\"]\n",
    "            ask_aggregates.append(\n",
    "                {\n",
    "                    \"basisPointsFromMid\": abs(\n",
    "                        round((start - mid) / mid, 4) * 10000\n",
    "                    ),\n",
    "                    \"liquidity\": liquidity,\n",
    "                    \"liquidityUSD\": liquidityUSD,\n",
    "                }\n",
    "            )\n",
    "            start += increment\n",
    "\n",
    "        for idx, item in enumerate(ask_aggregates):\n",
    "            if idx == 0:\n",
    "                item[\"cumulativeLiquidity\"] = item[\"liquidity\"]\n",
    "                item[\"cumulativeLiquidityUSD\"] = item[\"liquidityUSD\"]\n",
    "            else:\n",
    "                item[\"cumulativeLiquidity\"] = (\n",
    "                    item[\"liquidity\"] + ask_aggregates[idx - 1][\"liquidity\"]\n",
    "                )\n",
    "                item[\"cumulativeLiquidityUSD\"] = (\n",
    "                    item[\"liquidityUSD\"] + ask_aggregates[idx - 1][\"liquidityUSD\"]\n",
    "                )\n",
    "\n",
    "        \"\"\"\n",
    "        Using the mid price, for the bid levels, we compute liquidity at 1% decrements.\n",
    "        \"\"\"\n",
    "        bid_df = pd.DataFrame.from_records(bids)\n",
    "        start = mid - increment\n",
    "        end = bid_df.tail(1).iloc[0][\"price\"] - increment\n",
    "        bid_aggregates = []\n",
    "        while start >= end:\n",
    "            bucket = bid_df[\n",
    "                (bid_df[\"price\"] >= start) & (bid_df[\"price\"] < start + increment)\n",
    "            ]\n",
    "            liquidity = bucket[\"volume\"].sum()\n",
    "            liquidityUSD = 0\n",
    "            for idx, row in bucket.iterrows():\n",
    "                liquidityUSD += row[\"price\"] * row[\"volume\"]\n",
    "            bid_aggregates.append(\n",
    "                {\n",
    "                    \"basisPointsFromMid\": abs(\n",
    "                        round((start - mid) / mid, 4) * 10000\n",
    "                    ),\n",
    "                    \"liquidity\": liquidity,\n",
    "                    \"liquidityUSD\": liquidityUSD,\n",
    "                }\n",
    "            )\n",
    "            start -= increment\n",
    "\n",
    "        for idx, item in enumerate(bid_aggregates):\n",
    "            if idx == 0:\n",
    "                item[\"cumulativeLiquidity\"] = item[\"liquidity\"]\n",
    "                item[\"cumulativeLiquidityUSD\"] = item[\"liquidityUSD\"]\n",
    "            else:\n",
    "                item[\"cumulativeLiquidity\"] = (\n",
    "                    item[\"liquidity\"] + bid_aggregates[idx - 1][\"liquidity\"]\n",
    "                )\n",
    "                item[\"cumulativeLiquidityUSD\"] = (\n",
    "                    item[\"liquidityUSD\"] + bid_aggregates[idx - 1][\"liquidityUSD\"]\n",
    "                )\n",
    "\n",
    "        minutely_liquidity_aggregate = format_json_response(\n",
    "            ask_aggregates,\n",
    "            bid_aggregates,\n",
    "            minutely_snapshot[\"instrument\"],\n",
    "            minutely_snapshot[\"timestamp\"],\n",
    "            minutely_snapshot[\"exchange\"],\n",
    "        )\n",
    "        aggregation_outputs.append(minutely_liquidity_aggregate)\n",
    "\n",
    "aggregation_end_time = time.time()\n",
    "print(\n",
    "    f\"Total time elapsed: {(aggregation_end_time - aggregation_start_time)/60} minutes\"\n",
    ")\n",
    "# pprint(aggregation_outputs)\n",
    "fig = plot_liquidity_histogram(aggregation_outputs[0])"
   ]
  },
  {
   "cell_type": "code",
   "execution_count": 21,
   "id": "7a2cc762-2082-450a-9c38-bd355af287af",
   "metadata": {},
   "outputs": [
    {
     "name": "stdout",
     "output_type": "stream",
     "text": [
      "[{'exchange': 'bitfinex', 'instrument': 'eth_usd', 'timestamp': '2025-01-09 18:16:00 000', 'liquidity': [{'basisPointsFromMid': 100.0, 'askLiquidityNative': np.float64(1206.7493796299998), 'askLiquidityFiat': np.float64(3964903.943288437), 'askLiquidityCumulativeNative': np.float64(1206.7493796299998), 'askLiquidityCumulativeFiat': np.float64(3964903.943288437), 'bidLiquidityNative': np.float64(1018.5203714799999), 'bidLiquidityFiat': np.float64(3311280.2539385958), 'bidLiquidityCumulativeNative': np.float64(1018.5203714799999), 'bidLiquidityCumulativeFiat': np.float64(3311280.2539385958), 'currency': 'USD'}, {'basisPointsFromMid': 200.0, 'askLiquidityNative': np.float64(1658.2136618800002), 'askLiquidityFiat': np.float64(5487137.396834409), 'askLiquidityCumulativeNative': np.float64(2864.96304151), 'askLiquidityCumulativeFiat': np.float64(9452041.340122845), 'bidLiquidityNative': np.float64(1160.6249010400002), 'bidLiquidityFiat': np.float64(3744736.4801988215), 'bidLiquidityCumulativeNative': np.float64(2179.14527252), 'bidLiquidityCumulativeFiat': np.float64(7056016.734137418), 'currency': 'USD'}]}]\n"
     ]
    }
   ],
   "source": [
    "print(aggregation_outputs[0])"
   ]
  },
  {
   "cell_type": "code",
   "execution_count": 22,
   "id": "bec878f5-b8d6-461a-93fe-39806c3dd78c",
   "metadata": {},
   "outputs": [
    {
     "data": {
      "application/vnd.plotly.v1+json": {
       "config": {
        "plotlyServerURL": "https://plot.ly"
       },
       "data": [
        {
         "alignmentgroup": "True",
         "hovertemplate": "Color=Ask<br>Basis Points from Mid=%{x}<br>Amount ($)=%{text}<extra></extra>",
         "legendgroup": "Ask",
         "marker": {
          "color": "#2ecc71",
          "pattern": {
           "shape": ""
          }
         },
         "name": "Ask",
         "offsetgroup": "Ask",
         "orientation": "v",
         "showlegend": true,
         "text": [
          3964903.943288437,
          5487137.396834409
         ],
         "textposition": "auto",
         "type": "bar",
         "x": [
          100,
          200
         ],
         "xaxis": "x",
         "y": [
          3964903.943288437,
          5487137.396834409
         ],
         "yaxis": "y"
        },
        {
         "alignmentgroup": "True",
         "hovertemplate": "Color=Bid<br>Basis Points from Mid=%{x}<br>Amount ($)=%{text}<extra></extra>",
         "legendgroup": "Bid",
         "marker": {
          "color": "#e74c3c",
          "pattern": {
           "shape": ""
          }
         },
         "name": "Bid",
         "offsetgroup": "Bid",
         "orientation": "v",
         "showlegend": true,
         "text": [
          3311280.2539385958,
          3744736.4801988215
         ],
         "textposition": "auto",
         "type": "bar",
         "x": [
          -100,
          -200
         ],
         "xaxis": "x",
         "y": [
          3311280.2539385958,
          3744736.4801988215
         ],
         "yaxis": "y"
        }
       ],
       "layout": {
        "barmode": "relative",
        "legend": {
         "title": {
          "text": "Color"
         },
         "tracegroupgap": 0
        },
        "template": {
         "data": {
          "bar": [
           {
            "error_x": {
             "color": "#f2f5fa"
            },
            "error_y": {
             "color": "#f2f5fa"
            },
            "marker": {
             "line": {
              "color": "rgb(17,17,17)",
              "width": 0.5
             },
             "pattern": {
              "fillmode": "overlay",
              "size": 10,
              "solidity": 0.2
             }
            },
            "type": "bar"
           }
          ],
          "barpolar": [
           {
            "marker": {
             "line": {
              "color": "rgb(17,17,17)",
              "width": 0.5
             },
             "pattern": {
              "fillmode": "overlay",
              "size": 10,
              "solidity": 0.2
             }
            },
            "type": "barpolar"
           }
          ],
          "carpet": [
           {
            "aaxis": {
             "endlinecolor": "#A2B1C6",
             "gridcolor": "#506784",
             "linecolor": "#506784",
             "minorgridcolor": "#506784",
             "startlinecolor": "#A2B1C6"
            },
            "baxis": {
             "endlinecolor": "#A2B1C6",
             "gridcolor": "#506784",
             "linecolor": "#506784",
             "minorgridcolor": "#506784",
             "startlinecolor": "#A2B1C6"
            },
            "type": "carpet"
           }
          ],
          "choropleth": [
           {
            "colorbar": {
             "outlinewidth": 0,
             "ticks": ""
            },
            "type": "choropleth"
           }
          ],
          "contour": [
           {
            "colorbar": {
             "outlinewidth": 0,
             "ticks": ""
            },
            "colorscale": [
             [
              0,
              "#0d0887"
             ],
             [
              0.1111111111111111,
              "#46039f"
             ],
             [
              0.2222222222222222,
              "#7201a8"
             ],
             [
              0.3333333333333333,
              "#9c179e"
             ],
             [
              0.4444444444444444,
              "#bd3786"
             ],
             [
              0.5555555555555556,
              "#d8576b"
             ],
             [
              0.6666666666666666,
              "#ed7953"
             ],
             [
              0.7777777777777778,
              "#fb9f3a"
             ],
             [
              0.8888888888888888,
              "#fdca26"
             ],
             [
              1,
              "#f0f921"
             ]
            ],
            "type": "contour"
           }
          ],
          "contourcarpet": [
           {
            "colorbar": {
             "outlinewidth": 0,
             "ticks": ""
            },
            "type": "contourcarpet"
           }
          ],
          "heatmap": [
           {
            "colorbar": {
             "outlinewidth": 0,
             "ticks": ""
            },
            "colorscale": [
             [
              0,
              "#0d0887"
             ],
             [
              0.1111111111111111,
              "#46039f"
             ],
             [
              0.2222222222222222,
              "#7201a8"
             ],
             [
              0.3333333333333333,
              "#9c179e"
             ],
             [
              0.4444444444444444,
              "#bd3786"
             ],
             [
              0.5555555555555556,
              "#d8576b"
             ],
             [
              0.6666666666666666,
              "#ed7953"
             ],
             [
              0.7777777777777778,
              "#fb9f3a"
             ],
             [
              0.8888888888888888,
              "#fdca26"
             ],
             [
              1,
              "#f0f921"
             ]
            ],
            "type": "heatmap"
           }
          ],
          "heatmapgl": [
           {
            "colorbar": {
             "outlinewidth": 0,
             "ticks": ""
            },
            "colorscale": [
             [
              0,
              "#0d0887"
             ],
             [
              0.1111111111111111,
              "#46039f"
             ],
             [
              0.2222222222222222,
              "#7201a8"
             ],
             [
              0.3333333333333333,
              "#9c179e"
             ],
             [
              0.4444444444444444,
              "#bd3786"
             ],
             [
              0.5555555555555556,
              "#d8576b"
             ],
             [
              0.6666666666666666,
              "#ed7953"
             ],
             [
              0.7777777777777778,
              "#fb9f3a"
             ],
             [
              0.8888888888888888,
              "#fdca26"
             ],
             [
              1,
              "#f0f921"
             ]
            ],
            "type": "heatmapgl"
           }
          ],
          "histogram": [
           {
            "marker": {
             "pattern": {
              "fillmode": "overlay",
              "size": 10,
              "solidity": 0.2
             }
            },
            "type": "histogram"
           }
          ],
          "histogram2d": [
           {
            "colorbar": {
             "outlinewidth": 0,
             "ticks": ""
            },
            "colorscale": [
             [
              0,
              "#0d0887"
             ],
             [
              0.1111111111111111,
              "#46039f"
             ],
             [
              0.2222222222222222,
              "#7201a8"
             ],
             [
              0.3333333333333333,
              "#9c179e"
             ],
             [
              0.4444444444444444,
              "#bd3786"
             ],
             [
              0.5555555555555556,
              "#d8576b"
             ],
             [
              0.6666666666666666,
              "#ed7953"
             ],
             [
              0.7777777777777778,
              "#fb9f3a"
             ],
             [
              0.8888888888888888,
              "#fdca26"
             ],
             [
              1,
              "#f0f921"
             ]
            ],
            "type": "histogram2d"
           }
          ],
          "histogram2dcontour": [
           {
            "colorbar": {
             "outlinewidth": 0,
             "ticks": ""
            },
            "colorscale": [
             [
              0,
              "#0d0887"
             ],
             [
              0.1111111111111111,
              "#46039f"
             ],
             [
              0.2222222222222222,
              "#7201a8"
             ],
             [
              0.3333333333333333,
              "#9c179e"
             ],
             [
              0.4444444444444444,
              "#bd3786"
             ],
             [
              0.5555555555555556,
              "#d8576b"
             ],
             [
              0.6666666666666666,
              "#ed7953"
             ],
             [
              0.7777777777777778,
              "#fb9f3a"
             ],
             [
              0.8888888888888888,
              "#fdca26"
             ],
             [
              1,
              "#f0f921"
             ]
            ],
            "type": "histogram2dcontour"
           }
          ],
          "mesh3d": [
           {
            "colorbar": {
             "outlinewidth": 0,
             "ticks": ""
            },
            "type": "mesh3d"
           }
          ],
          "parcoords": [
           {
            "line": {
             "colorbar": {
              "outlinewidth": 0,
              "ticks": ""
             }
            },
            "type": "parcoords"
           }
          ],
          "pie": [
           {
            "automargin": true,
            "type": "pie"
           }
          ],
          "scatter": [
           {
            "marker": {
             "line": {
              "color": "#283442"
             }
            },
            "type": "scatter"
           }
          ],
          "scatter3d": [
           {
            "line": {
             "colorbar": {
              "outlinewidth": 0,
              "ticks": ""
             }
            },
            "marker": {
             "colorbar": {
              "outlinewidth": 0,
              "ticks": ""
             }
            },
            "type": "scatter3d"
           }
          ],
          "scattercarpet": [
           {
            "marker": {
             "colorbar": {
              "outlinewidth": 0,
              "ticks": ""
             }
            },
            "type": "scattercarpet"
           }
          ],
          "scattergeo": [
           {
            "marker": {
             "colorbar": {
              "outlinewidth": 0,
              "ticks": ""
             }
            },
            "type": "scattergeo"
           }
          ],
          "scattergl": [
           {
            "marker": {
             "line": {
              "color": "#283442"
             }
            },
            "type": "scattergl"
           }
          ],
          "scattermapbox": [
           {
            "marker": {
             "colorbar": {
              "outlinewidth": 0,
              "ticks": ""
             }
            },
            "type": "scattermapbox"
           }
          ],
          "scatterpolar": [
           {
            "marker": {
             "colorbar": {
              "outlinewidth": 0,
              "ticks": ""
             }
            },
            "type": "scatterpolar"
           }
          ],
          "scatterpolargl": [
           {
            "marker": {
             "colorbar": {
              "outlinewidth": 0,
              "ticks": ""
             }
            },
            "type": "scatterpolargl"
           }
          ],
          "scatterternary": [
           {
            "marker": {
             "colorbar": {
              "outlinewidth": 0,
              "ticks": ""
             }
            },
            "type": "scatterternary"
           }
          ],
          "surface": [
           {
            "colorbar": {
             "outlinewidth": 0,
             "ticks": ""
            },
            "colorscale": [
             [
              0,
              "#0d0887"
             ],
             [
              0.1111111111111111,
              "#46039f"
             ],
             [
              0.2222222222222222,
              "#7201a8"
             ],
             [
              0.3333333333333333,
              "#9c179e"
             ],
             [
              0.4444444444444444,
              "#bd3786"
             ],
             [
              0.5555555555555556,
              "#d8576b"
             ],
             [
              0.6666666666666666,
              "#ed7953"
             ],
             [
              0.7777777777777778,
              "#fb9f3a"
             ],
             [
              0.8888888888888888,
              "#fdca26"
             ],
             [
              1,
              "#f0f921"
             ]
            ],
            "type": "surface"
           }
          ],
          "table": [
           {
            "cells": {
             "fill": {
              "color": "#506784"
             },
             "line": {
              "color": "rgb(17,17,17)"
             }
            },
            "header": {
             "fill": {
              "color": "#2a3f5f"
             },
             "line": {
              "color": "rgb(17,17,17)"
             }
            },
            "type": "table"
           }
          ]
         },
         "layout": {
          "annotationdefaults": {
           "arrowcolor": "#f2f5fa",
           "arrowhead": 0,
           "arrowwidth": 1
          },
          "autotypenumbers": "strict",
          "coloraxis": {
           "colorbar": {
            "outlinewidth": 0,
            "ticks": ""
           }
          },
          "colorscale": {
           "diverging": [
            [
             0,
             "#8e0152"
            ],
            [
             0.1,
             "#c51b7d"
            ],
            [
             0.2,
             "#de77ae"
            ],
            [
             0.3,
             "#f1b6da"
            ],
            [
             0.4,
             "#fde0ef"
            ],
            [
             0.5,
             "#f7f7f7"
            ],
            [
             0.6,
             "#e6f5d0"
            ],
            [
             0.7,
             "#b8e186"
            ],
            [
             0.8,
             "#7fbc41"
            ],
            [
             0.9,
             "#4d9221"
            ],
            [
             1,
             "#276419"
            ]
           ],
           "sequential": [
            [
             0,
             "#0d0887"
            ],
            [
             0.1111111111111111,
             "#46039f"
            ],
            [
             0.2222222222222222,
             "#7201a8"
            ],
            [
             0.3333333333333333,
             "#9c179e"
            ],
            [
             0.4444444444444444,
             "#bd3786"
            ],
            [
             0.5555555555555556,
             "#d8576b"
            ],
            [
             0.6666666666666666,
             "#ed7953"
            ],
            [
             0.7777777777777778,
             "#fb9f3a"
            ],
            [
             0.8888888888888888,
             "#fdca26"
            ],
            [
             1,
             "#f0f921"
            ]
           ],
           "sequentialminus": [
            [
             0,
             "#0d0887"
            ],
            [
             0.1111111111111111,
             "#46039f"
            ],
            [
             0.2222222222222222,
             "#7201a8"
            ],
            [
             0.3333333333333333,
             "#9c179e"
            ],
            [
             0.4444444444444444,
             "#bd3786"
            ],
            [
             0.5555555555555556,
             "#d8576b"
            ],
            [
             0.6666666666666666,
             "#ed7953"
            ],
            [
             0.7777777777777778,
             "#fb9f3a"
            ],
            [
             0.8888888888888888,
             "#fdca26"
            ],
            [
             1,
             "#f0f921"
            ]
           ]
          },
          "colorway": [
           "#636efa",
           "#EF553B",
           "#00cc96",
           "#ab63fa",
           "#FFA15A",
           "#19d3f3",
           "#FF6692",
           "#B6E880",
           "#FF97FF",
           "#FECB52"
          ],
          "font": {
           "color": "#f2f5fa"
          },
          "geo": {
           "bgcolor": "rgb(17,17,17)",
           "lakecolor": "rgb(17,17,17)",
           "landcolor": "rgb(17,17,17)",
           "showlakes": true,
           "showland": true,
           "subunitcolor": "#506784"
          },
          "hoverlabel": {
           "align": "left"
          },
          "hovermode": "closest",
          "mapbox": {
           "style": "dark"
          },
          "paper_bgcolor": "rgb(17,17,17)",
          "plot_bgcolor": "rgb(17,17,17)",
          "polar": {
           "angularaxis": {
            "gridcolor": "#506784",
            "linecolor": "#506784",
            "ticks": ""
           },
           "bgcolor": "rgb(17,17,17)",
           "radialaxis": {
            "gridcolor": "#506784",
            "linecolor": "#506784",
            "ticks": ""
           }
          },
          "scene": {
           "xaxis": {
            "backgroundcolor": "rgb(17,17,17)",
            "gridcolor": "#506784",
            "gridwidth": 2,
            "linecolor": "#506784",
            "showbackground": true,
            "ticks": "",
            "zerolinecolor": "#C8D4E3"
           },
           "yaxis": {
            "backgroundcolor": "rgb(17,17,17)",
            "gridcolor": "#506784",
            "gridwidth": 2,
            "linecolor": "#506784",
            "showbackground": true,
            "ticks": "",
            "zerolinecolor": "#C8D4E3"
           },
           "zaxis": {
            "backgroundcolor": "rgb(17,17,17)",
            "gridcolor": "#506784",
            "gridwidth": 2,
            "linecolor": "#506784",
            "showbackground": true,
            "ticks": "",
            "zerolinecolor": "#C8D4E3"
           }
          },
          "shapedefaults": {
           "line": {
            "color": "#f2f5fa"
           }
          },
          "sliderdefaults": {
           "bgcolor": "#C8D4E3",
           "bordercolor": "rgb(17,17,17)",
           "borderwidth": 1,
           "tickwidth": 0
          },
          "ternary": {
           "aaxis": {
            "gridcolor": "#506784",
            "linecolor": "#506784",
            "ticks": ""
           },
           "baxis": {
            "gridcolor": "#506784",
            "linecolor": "#506784",
            "ticks": ""
           },
           "bgcolor": "rgb(17,17,17)",
           "caxis": {
            "gridcolor": "#506784",
            "linecolor": "#506784",
            "ticks": ""
           }
          },
          "title": {
           "x": 0.05
          },
          "updatemenudefaults": {
           "bgcolor": "#506784",
           "borderwidth": 0
          },
          "xaxis": {
           "automargin": true,
           "gridcolor": "#283442",
           "linecolor": "#506784",
           "ticks": "",
           "title": {
            "standoff": 15
           },
           "zerolinecolor": "#283442",
           "zerolinewidth": 2
          },
          "yaxis": {
           "automargin": true,
           "gridcolor": "#283442",
           "linecolor": "#506784",
           "ticks": "",
           "title": {
            "standoff": 15
           },
           "zerolinecolor": "#283442",
           "zerolinewidth": 2
          }
         }
        },
        "title": {
         "text": "Liquidity for eth_usd on bitfinex at 2025-01-09 18:16:00 000"
        },
        "xaxis": {
         "anchor": "y",
         "domain": [
          0,
          1
         ],
         "title": {
          "text": "Basis Points from Mid"
         }
        },
        "yaxis": {
         "anchor": "x",
         "domain": [
          0,
          1
         ],
         "title": {
          "text": "Amount ($)"
         }
        }
       }
      },
      "text/html": [
       "<div>                            <div id=\"13429efd-d6fd-4290-83ac-f898992597b6\" class=\"plotly-graph-div\" style=\"height:525px; width:100%;\"></div>            <script type=\"text/javascript\">                require([\"plotly\"], function(Plotly) {                    window.PLOTLYENV=window.PLOTLYENV || {};                                    if (document.getElementById(\"13429efd-d6fd-4290-83ac-f898992597b6\")) {                    Plotly.newPlot(                        \"13429efd-d6fd-4290-83ac-f898992597b6\",                        [{\"alignmentgroup\":\"True\",\"hovertemplate\":\"Color=Ask\\u003cbr\\u003eBasis Points from Mid=%{x}\\u003cbr\\u003eAmount ($)=%{text}\\u003cextra\\u003e\\u003c\\u002fextra\\u003e\",\"legendgroup\":\"Ask\",\"marker\":{\"color\":\"#2ecc71\",\"pattern\":{\"shape\":\"\"}},\"name\":\"Ask\",\"offsetgroup\":\"Ask\",\"orientation\":\"v\",\"showlegend\":true,\"text\":[3964903.943288437,5487137.396834409],\"textposition\":\"auto\",\"x\":[100.0,200.0],\"xaxis\":\"x\",\"y\":[3964903.943288437,5487137.396834409],\"yaxis\":\"y\",\"type\":\"bar\"},{\"alignmentgroup\":\"True\",\"hovertemplate\":\"Color=Bid\\u003cbr\\u003eBasis Points from Mid=%{x}\\u003cbr\\u003eAmount ($)=%{text}\\u003cextra\\u003e\\u003c\\u002fextra\\u003e\",\"legendgroup\":\"Bid\",\"marker\":{\"color\":\"#e74c3c\",\"pattern\":{\"shape\":\"\"}},\"name\":\"Bid\",\"offsetgroup\":\"Bid\",\"orientation\":\"v\",\"showlegend\":true,\"text\":[3311280.2539385958,3744736.4801988215],\"textposition\":\"auto\",\"x\":[-100.0,-200.0],\"xaxis\":\"x\",\"y\":[3311280.2539385958,3744736.4801988215],\"yaxis\":\"y\",\"type\":\"bar\"}],                        {\"template\":{\"data\":{\"barpolar\":[{\"marker\":{\"line\":{\"color\":\"rgb(17,17,17)\",\"width\":0.5},\"pattern\":{\"fillmode\":\"overlay\",\"size\":10,\"solidity\":0.2}},\"type\":\"barpolar\"}],\"bar\":[{\"error_x\":{\"color\":\"#f2f5fa\"},\"error_y\":{\"color\":\"#f2f5fa\"},\"marker\":{\"line\":{\"color\":\"rgb(17,17,17)\",\"width\":0.5},\"pattern\":{\"fillmode\":\"overlay\",\"size\":10,\"solidity\":0.2}},\"type\":\"bar\"}],\"carpet\":[{\"aaxis\":{\"endlinecolor\":\"#A2B1C6\",\"gridcolor\":\"#506784\",\"linecolor\":\"#506784\",\"minorgridcolor\":\"#506784\",\"startlinecolor\":\"#A2B1C6\"},\"baxis\":{\"endlinecolor\":\"#A2B1C6\",\"gridcolor\":\"#506784\",\"linecolor\":\"#506784\",\"minorgridcolor\":\"#506784\",\"startlinecolor\":\"#A2B1C6\"},\"type\":\"carpet\"}],\"choropleth\":[{\"colorbar\":{\"outlinewidth\":0,\"ticks\":\"\"},\"type\":\"choropleth\"}],\"contourcarpet\":[{\"colorbar\":{\"outlinewidth\":0,\"ticks\":\"\"},\"type\":\"contourcarpet\"}],\"contour\":[{\"colorbar\":{\"outlinewidth\":0,\"ticks\":\"\"},\"colorscale\":[[0.0,\"#0d0887\"],[0.1111111111111111,\"#46039f\"],[0.2222222222222222,\"#7201a8\"],[0.3333333333333333,\"#9c179e\"],[0.4444444444444444,\"#bd3786\"],[0.5555555555555556,\"#d8576b\"],[0.6666666666666666,\"#ed7953\"],[0.7777777777777778,\"#fb9f3a\"],[0.8888888888888888,\"#fdca26\"],[1.0,\"#f0f921\"]],\"type\":\"contour\"}],\"heatmapgl\":[{\"colorbar\":{\"outlinewidth\":0,\"ticks\":\"\"},\"colorscale\":[[0.0,\"#0d0887\"],[0.1111111111111111,\"#46039f\"],[0.2222222222222222,\"#7201a8\"],[0.3333333333333333,\"#9c179e\"],[0.4444444444444444,\"#bd3786\"],[0.5555555555555556,\"#d8576b\"],[0.6666666666666666,\"#ed7953\"],[0.7777777777777778,\"#fb9f3a\"],[0.8888888888888888,\"#fdca26\"],[1.0,\"#f0f921\"]],\"type\":\"heatmapgl\"}],\"heatmap\":[{\"colorbar\":{\"outlinewidth\":0,\"ticks\":\"\"},\"colorscale\":[[0.0,\"#0d0887\"],[0.1111111111111111,\"#46039f\"],[0.2222222222222222,\"#7201a8\"],[0.3333333333333333,\"#9c179e\"],[0.4444444444444444,\"#bd3786\"],[0.5555555555555556,\"#d8576b\"],[0.6666666666666666,\"#ed7953\"],[0.7777777777777778,\"#fb9f3a\"],[0.8888888888888888,\"#fdca26\"],[1.0,\"#f0f921\"]],\"type\":\"heatmap\"}],\"histogram2dcontour\":[{\"colorbar\":{\"outlinewidth\":0,\"ticks\":\"\"},\"colorscale\":[[0.0,\"#0d0887\"],[0.1111111111111111,\"#46039f\"],[0.2222222222222222,\"#7201a8\"],[0.3333333333333333,\"#9c179e\"],[0.4444444444444444,\"#bd3786\"],[0.5555555555555556,\"#d8576b\"],[0.6666666666666666,\"#ed7953\"],[0.7777777777777778,\"#fb9f3a\"],[0.8888888888888888,\"#fdca26\"],[1.0,\"#f0f921\"]],\"type\":\"histogram2dcontour\"}],\"histogram2d\":[{\"colorbar\":{\"outlinewidth\":0,\"ticks\":\"\"},\"colorscale\":[[0.0,\"#0d0887\"],[0.1111111111111111,\"#46039f\"],[0.2222222222222222,\"#7201a8\"],[0.3333333333333333,\"#9c179e\"],[0.4444444444444444,\"#bd3786\"],[0.5555555555555556,\"#d8576b\"],[0.6666666666666666,\"#ed7953\"],[0.7777777777777778,\"#fb9f3a\"],[0.8888888888888888,\"#fdca26\"],[1.0,\"#f0f921\"]],\"type\":\"histogram2d\"}],\"histogram\":[{\"marker\":{\"pattern\":{\"fillmode\":\"overlay\",\"size\":10,\"solidity\":0.2}},\"type\":\"histogram\"}],\"mesh3d\":[{\"colorbar\":{\"outlinewidth\":0,\"ticks\":\"\"},\"type\":\"mesh3d\"}],\"parcoords\":[{\"line\":{\"colorbar\":{\"outlinewidth\":0,\"ticks\":\"\"}},\"type\":\"parcoords\"}],\"pie\":[{\"automargin\":true,\"type\":\"pie\"}],\"scatter3d\":[{\"line\":{\"colorbar\":{\"outlinewidth\":0,\"ticks\":\"\"}},\"marker\":{\"colorbar\":{\"outlinewidth\":0,\"ticks\":\"\"}},\"type\":\"scatter3d\"}],\"scattercarpet\":[{\"marker\":{\"colorbar\":{\"outlinewidth\":0,\"ticks\":\"\"}},\"type\":\"scattercarpet\"}],\"scattergeo\":[{\"marker\":{\"colorbar\":{\"outlinewidth\":0,\"ticks\":\"\"}},\"type\":\"scattergeo\"}],\"scattergl\":[{\"marker\":{\"line\":{\"color\":\"#283442\"}},\"type\":\"scattergl\"}],\"scattermapbox\":[{\"marker\":{\"colorbar\":{\"outlinewidth\":0,\"ticks\":\"\"}},\"type\":\"scattermapbox\"}],\"scatterpolargl\":[{\"marker\":{\"colorbar\":{\"outlinewidth\":0,\"ticks\":\"\"}},\"type\":\"scatterpolargl\"}],\"scatterpolar\":[{\"marker\":{\"colorbar\":{\"outlinewidth\":0,\"ticks\":\"\"}},\"type\":\"scatterpolar\"}],\"scatter\":[{\"marker\":{\"line\":{\"color\":\"#283442\"}},\"type\":\"scatter\"}],\"scatterternary\":[{\"marker\":{\"colorbar\":{\"outlinewidth\":0,\"ticks\":\"\"}},\"type\":\"scatterternary\"}],\"surface\":[{\"colorbar\":{\"outlinewidth\":0,\"ticks\":\"\"},\"colorscale\":[[0.0,\"#0d0887\"],[0.1111111111111111,\"#46039f\"],[0.2222222222222222,\"#7201a8\"],[0.3333333333333333,\"#9c179e\"],[0.4444444444444444,\"#bd3786\"],[0.5555555555555556,\"#d8576b\"],[0.6666666666666666,\"#ed7953\"],[0.7777777777777778,\"#fb9f3a\"],[0.8888888888888888,\"#fdca26\"],[1.0,\"#f0f921\"]],\"type\":\"surface\"}],\"table\":[{\"cells\":{\"fill\":{\"color\":\"#506784\"},\"line\":{\"color\":\"rgb(17,17,17)\"}},\"header\":{\"fill\":{\"color\":\"#2a3f5f\"},\"line\":{\"color\":\"rgb(17,17,17)\"}},\"type\":\"table\"}]},\"layout\":{\"annotationdefaults\":{\"arrowcolor\":\"#f2f5fa\",\"arrowhead\":0,\"arrowwidth\":1},\"autotypenumbers\":\"strict\",\"coloraxis\":{\"colorbar\":{\"outlinewidth\":0,\"ticks\":\"\"}},\"colorscale\":{\"diverging\":[[0,\"#8e0152\"],[0.1,\"#c51b7d\"],[0.2,\"#de77ae\"],[0.3,\"#f1b6da\"],[0.4,\"#fde0ef\"],[0.5,\"#f7f7f7\"],[0.6,\"#e6f5d0\"],[0.7,\"#b8e186\"],[0.8,\"#7fbc41\"],[0.9,\"#4d9221\"],[1,\"#276419\"]],\"sequential\":[[0.0,\"#0d0887\"],[0.1111111111111111,\"#46039f\"],[0.2222222222222222,\"#7201a8\"],[0.3333333333333333,\"#9c179e\"],[0.4444444444444444,\"#bd3786\"],[0.5555555555555556,\"#d8576b\"],[0.6666666666666666,\"#ed7953\"],[0.7777777777777778,\"#fb9f3a\"],[0.8888888888888888,\"#fdca26\"],[1.0,\"#f0f921\"]],\"sequentialminus\":[[0.0,\"#0d0887\"],[0.1111111111111111,\"#46039f\"],[0.2222222222222222,\"#7201a8\"],[0.3333333333333333,\"#9c179e\"],[0.4444444444444444,\"#bd3786\"],[0.5555555555555556,\"#d8576b\"],[0.6666666666666666,\"#ed7953\"],[0.7777777777777778,\"#fb9f3a\"],[0.8888888888888888,\"#fdca26\"],[1.0,\"#f0f921\"]]},\"colorway\":[\"#636efa\",\"#EF553B\",\"#00cc96\",\"#ab63fa\",\"#FFA15A\",\"#19d3f3\",\"#FF6692\",\"#B6E880\",\"#FF97FF\",\"#FECB52\"],\"font\":{\"color\":\"#f2f5fa\"},\"geo\":{\"bgcolor\":\"rgb(17,17,17)\",\"lakecolor\":\"rgb(17,17,17)\",\"landcolor\":\"rgb(17,17,17)\",\"showlakes\":true,\"showland\":true,\"subunitcolor\":\"#506784\"},\"hoverlabel\":{\"align\":\"left\"},\"hovermode\":\"closest\",\"mapbox\":{\"style\":\"dark\"},\"paper_bgcolor\":\"rgb(17,17,17)\",\"plot_bgcolor\":\"rgb(17,17,17)\",\"polar\":{\"angularaxis\":{\"gridcolor\":\"#506784\",\"linecolor\":\"#506784\",\"ticks\":\"\"},\"bgcolor\":\"rgb(17,17,17)\",\"radialaxis\":{\"gridcolor\":\"#506784\",\"linecolor\":\"#506784\",\"ticks\":\"\"}},\"scene\":{\"xaxis\":{\"backgroundcolor\":\"rgb(17,17,17)\",\"gridcolor\":\"#506784\",\"gridwidth\":2,\"linecolor\":\"#506784\",\"showbackground\":true,\"ticks\":\"\",\"zerolinecolor\":\"#C8D4E3\"},\"yaxis\":{\"backgroundcolor\":\"rgb(17,17,17)\",\"gridcolor\":\"#506784\",\"gridwidth\":2,\"linecolor\":\"#506784\",\"showbackground\":true,\"ticks\":\"\",\"zerolinecolor\":\"#C8D4E3\"},\"zaxis\":{\"backgroundcolor\":\"rgb(17,17,17)\",\"gridcolor\":\"#506784\",\"gridwidth\":2,\"linecolor\":\"#506784\",\"showbackground\":true,\"ticks\":\"\",\"zerolinecolor\":\"#C8D4E3\"}},\"shapedefaults\":{\"line\":{\"color\":\"#f2f5fa\"}},\"sliderdefaults\":{\"bgcolor\":\"#C8D4E3\",\"bordercolor\":\"rgb(17,17,17)\",\"borderwidth\":1,\"tickwidth\":0},\"ternary\":{\"aaxis\":{\"gridcolor\":\"#506784\",\"linecolor\":\"#506784\",\"ticks\":\"\"},\"baxis\":{\"gridcolor\":\"#506784\",\"linecolor\":\"#506784\",\"ticks\":\"\"},\"bgcolor\":\"rgb(17,17,17)\",\"caxis\":{\"gridcolor\":\"#506784\",\"linecolor\":\"#506784\",\"ticks\":\"\"}},\"title\":{\"x\":0.05},\"updatemenudefaults\":{\"bgcolor\":\"#506784\",\"borderwidth\":0},\"xaxis\":{\"automargin\":true,\"gridcolor\":\"#283442\",\"linecolor\":\"#506784\",\"ticks\":\"\",\"title\":{\"standoff\":15},\"zerolinecolor\":\"#283442\",\"zerolinewidth\":2},\"yaxis\":{\"automargin\":true,\"gridcolor\":\"#283442\",\"linecolor\":\"#506784\",\"ticks\":\"\",\"title\":{\"standoff\":15},\"zerolinecolor\":\"#283442\",\"zerolinewidth\":2}}},\"xaxis\":{\"anchor\":\"y\",\"domain\":[0.0,1.0],\"title\":{\"text\":\"Basis Points from Mid\"}},\"yaxis\":{\"anchor\":\"x\",\"domain\":[0.0,1.0],\"title\":{\"text\":\"Amount ($)\"}},\"legend\":{\"title\":{\"text\":\"Color\"},\"tracegroupgap\":0},\"title\":{\"text\":\"Liquidity for eth_usd on bitfinex at 2025-01-09 18:16:00 000\"},\"barmode\":\"relative\"},                        {\"responsive\": true}                    ).then(function(){\n",
       "                            \n",
       "var gd = document.getElementById('13429efd-d6fd-4290-83ac-f898992597b6');\n",
       "var x = new MutationObserver(function (mutations, observer) {{\n",
       "        var display = window.getComputedStyle(gd).display;\n",
       "        if (!display || display === 'none') {{\n",
       "            console.log([gd, 'removed!']);\n",
       "            Plotly.purge(gd);\n",
       "            observer.disconnect();\n",
       "        }}\n",
       "}});\n",
       "\n",
       "// Listen for the removal of the full notebook cells\n",
       "var notebookContainer = gd.closest('#notebook-container');\n",
       "if (notebookContainer) {{\n",
       "    x.observe(notebookContainer, {childList: true});\n",
       "}}\n",
       "\n",
       "// Listen for the clearing of the current output cell\n",
       "var outputEl = gd.closest('.output');\n",
       "if (outputEl) {{\n",
       "    x.observe(outputEl, {childList: true});\n",
       "}}\n",
       "\n",
       "                        })                };                });            </script>        </div>"
      ]
     },
     "metadata": {},
     "output_type": "display_data"
    }
   ],
   "source": [
    "fig.show()"
   ]
  }
 ],
 "metadata": {
  "kernelspec": {
   "display_name": "Python 3 (ipykernel)",
   "language": "python",
   "name": "python3"
  },
  "language_info": {
   "codemirror_mode": {
    "name": "ipython",
    "version": 3
   },
   "file_extension": ".py",
   "mimetype": "text/x-python",
   "name": "python",
   "nbconvert_exporter": "python",
   "pygments_lexer": "ipython3",
   "version": "3.13.1"
  }
 },
 "nbformat": 4,
 "nbformat_minor": 5
}
